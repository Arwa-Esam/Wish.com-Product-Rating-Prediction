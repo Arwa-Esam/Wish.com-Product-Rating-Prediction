{
  "cells": [
    {
      "cell_type": "markdown",
      "metadata": {
        "id": "view-in-github",
        "colab_type": "text"
      },
      "source": [
        "<a href=\"https://colab.research.google.com/github/Arwa-Esam/Wish.com-Product-Rating-Prediction/blob/main/Wish_final.ipynb\" target=\"_parent\"><img src=\"https://colab.research.google.com/assets/colab-badge.svg\" alt=\"Open In Colab\"/></a>"
      ]
    },
    {
      "cell_type": "markdown",
      "metadata": {
        "id": "ZCBNuqB4F_s8"
      },
      "source": [
        "#  Problem Formulation:"
      ]
    },
    {
      "cell_type": "markdown",
      "metadata": {
        "id": "9_NWFSsfGD0u"
      },
      "source": [
        "**Problem:** Predict the product rating of Wish.com products based on their features.\n",
        "\n",
        "---\n",
        "**Input:** The input consists of various features of the product such as product color, size, price, merchant rating, and shipping information, etc.\n",
        "\n",
        "---\n",
        "**Output:** The output is a predicted rating for the product, which is a discrete value ranging from 1 to 5, indicating the likelihood that customers will like the product.\n",
        "\n",
        "---\n",
        "**Data mining functions required** for this task are classification and predictive modeling. We need to build a classification model to predict the product rating based on the available features.\n",
        "Example: Support Vector Machines (SVM),Random Forest\n",
        "\n",
        "---\n",
        "Challenges that could be faced in this task are:\n",
        "\n",
        "Data quality issues: As mentioned, the dataset is not \n",
        "\n",
        "1.   Data quality issues: the dataset is not clean and has some noise, so preprocessing and cleaning will be required before building the model.\n",
        "2.   Feature selection: Selecting the most relevant features for the model will be crucial as it will impact the accuracy and generalization capability of the model.\n",
        "\n",
        "---\n",
        "The ideal solution would involve building a classification model using various techniques such as data preprocessing and model selection."
      ]
    },
    {
      "cell_type": "markdown",
      "metadata": {
        "id": "ef8Rb1q_2Iur"
      },
      "source": [
        "# Loading Data\n"
      ]
    },
    {
      "cell_type": "code",
      "execution_count": null,
      "metadata": {
        "id": "kpzJbiGBwvCx"
      },
      "outputs": [],
      "source": [
        "# Import necessary libraries and load the data\n",
        "\n",
        "import pandas as pd\n",
        "import numpy as np\n",
        "import sklearn\n",
        "from matplotlib import pyplot as plt      \n",
        "\n",
        "from sklearn.preprocessing import OneHotEncoder,LabelEncoder\n",
        "from sklearn.model_selection import train_test_split  \n",
        "from sklearn.preprocessing import StandardScaler , MinMaxScaler\n",
        "\n",
        "\n",
        "from sklearn.metrics import accuracy_score, f1_score, confusion_matrix\n",
        "from sklearn.model_selection import GridSearchCV\n",
        "\n",
        "from sklearn.tree import DecisionTreeClassifier\n",
        "from sklearn.metrics import classification_report\n",
        "\n",
        "from sklearn.ensemble import RandomForestClassifier\n",
        "from sklearn.naive_bayes import CategoricalNB \n",
        "from sklearn.naive_bayes import GaussianNB\n",
        "from sklearn.svm import SVC\n"
      ]
    },
    {
      "cell_type": "code",
      "execution_count": null,
      "metadata": {
        "id": "TUG11Evm1JKF"
      },
      "outputs": [],
      "source": [
        "#Reading train & test data from excel files\n",
        "df_train1 = pd.read_csv('train_new.csv')\n",
        "df_test1 = pd.read_csv('test_new.csv')\n",
        "df_test1['rating']= 0\n",
        "df_train=pd.concat([df_train1,df_test1],ignore_index=True,sort=False)"
      ]
    },
    {
      "cell_type": "code",
      "execution_count": null,
      "metadata": {
        "colab": {
          "base_uri": "https://localhost:8080/",
          "height": 403
        },
        "id": "84XLkXFSPOZ1",
        "outputId": "5a294a38-e506-44bb-99c9-77de1e0b3f75"
      },
      "outputs": [
        {
          "data": {
            "text/html": [
              "\n",
              "  <div id=\"df-1662c1de-f944-4d1c-a096-a5f16c74cfe1\">\n",
              "    <div class=\"colab-df-container\">\n",
              "      <div>\n",
              "<style scoped>\n",
              "    .dataframe tbody tr th:only-of-type {\n",
              "        vertical-align: middle;\n",
              "    }\n",
              "\n",
              "    .dataframe tbody tr th {\n",
              "        vertical-align: top;\n",
              "    }\n",
              "\n",
              "    .dataframe thead th {\n",
              "        text-align: right;\n",
              "    }\n",
              "</style>\n",
              "<table border=\"1\" class=\"dataframe\">\n",
              "  <thead>\n",
              "    <tr style=\"text-align: right;\">\n",
              "      <th></th>\n",
              "      <th>price</th>\n",
              "      <th>retail_price</th>\n",
              "      <th>currency_buyer</th>\n",
              "      <th>units_sold</th>\n",
              "      <th>uses_ad_boosts</th>\n",
              "      <th>rating</th>\n",
              "      <th>rating_count</th>\n",
              "      <th>badges_count</th>\n",
              "      <th>badge_local_product</th>\n",
              "      <th>badge_product_quality</th>\n",
              "      <th>...</th>\n",
              "      <th>merchant_name</th>\n",
              "      <th>merchant_info_subtitle</th>\n",
              "      <th>merchant_rating_count</th>\n",
              "      <th>merchant_rating</th>\n",
              "      <th>merchant_id</th>\n",
              "      <th>merchant_has_profile_picture</th>\n",
              "      <th>merchant_profile_picture</th>\n",
              "      <th>theme</th>\n",
              "      <th>crawl_month</th>\n",
              "      <th>id</th>\n",
              "    </tr>\n",
              "  </thead>\n",
              "  <tbody>\n",
              "    <tr>\n",
              "      <th>0</th>\n",
              "      <td>8.00</td>\n",
              "      <td>7</td>\n",
              "      <td>EUR</td>\n",
              "      <td>10000</td>\n",
              "      <td>1</td>\n",
              "      <td>4.0</td>\n",
              "      <td>1670</td>\n",
              "      <td>0</td>\n",
              "      <td>0</td>\n",
              "      <td>0</td>\n",
              "      <td>...</td>\n",
              "      <td>keepahorse</td>\n",
              "      <td>88 % avis positifs (66,644 notes)</td>\n",
              "      <td>66644</td>\n",
              "      <td>4.137582</td>\n",
              "      <td>577fb2b368116418674befd9</td>\n",
              "      <td>1</td>\n",
              "      <td>https://s3-us-west-1.amazonaws.com/sweeper-pro...</td>\n",
              "      <td>summer</td>\n",
              "      <td>2020-08</td>\n",
              "      <td>272</td>\n",
              "    </tr>\n",
              "    <tr>\n",
              "      <th>1</th>\n",
              "      <td>8.00</td>\n",
              "      <td>7</td>\n",
              "      <td>EUR</td>\n",
              "      <td>1000</td>\n",
              "      <td>0</td>\n",
              "      <td>4.0</td>\n",
              "      <td>843</td>\n",
              "      <td>1</td>\n",
              "      <td>1</td>\n",
              "      <td>0</td>\n",
              "      <td>...</td>\n",
              "      <td>上海铭启电气科技有限公司</td>\n",
              "      <td>91 % avis positifs (25,752 notes)</td>\n",
              "      <td>25752</td>\n",
              "      <td>4.256873</td>\n",
              "      <td>566a3ef17233ff2686443082</td>\n",
              "      <td>0</td>\n",
              "      <td>NaN</td>\n",
              "      <td>summer</td>\n",
              "      <td>2020-08</td>\n",
              "      <td>1515</td>\n",
              "    </tr>\n",
              "    <tr>\n",
              "      <th>2</th>\n",
              "      <td>6.00</td>\n",
              "      <td>34</td>\n",
              "      <td>EUR</td>\n",
              "      <td>100</td>\n",
              "      <td>0</td>\n",
              "      <td>4.0</td>\n",
              "      <td>10</td>\n",
              "      <td>0</td>\n",
              "      <td>0</td>\n",
              "      <td>0</td>\n",
              "      <td>...</td>\n",
              "      <td>zhaodongmei</td>\n",
              "      <td>83 % avis positifs (3,897 notes)</td>\n",
              "      <td>3897</td>\n",
              "      <td>3.928920</td>\n",
              "      <td>5aacd6c1ccf0c83e5a6f3de0</td>\n",
              "      <td>0</td>\n",
              "      <td>NaN</td>\n",
              "      <td>summer</td>\n",
              "      <td>2020-08</td>\n",
              "      <td>940</td>\n",
              "    </tr>\n",
              "    <tr>\n",
              "      <th>3</th>\n",
              "      <td>4.67</td>\n",
              "      <td>4</td>\n",
              "      <td>EUR</td>\n",
              "      <td>100</td>\n",
              "      <td>1</td>\n",
              "      <td>3.0</td>\n",
              "      <td>82</td>\n",
              "      <td>0</td>\n",
              "      <td>0</td>\n",
              "      <td>0</td>\n",
              "      <td>...</td>\n",
              "      <td>pookie0331</td>\n",
              "      <td>87 % avis positifs (7,497 notes)</td>\n",
              "      <td>7497</td>\n",
              "      <td>4.079365</td>\n",
              "      <td>583141fbfef4094e51453d9b</td>\n",
              "      <td>0</td>\n",
              "      <td>NaN</td>\n",
              "      <td>summer</td>\n",
              "      <td>2020-08</td>\n",
              "      <td>309</td>\n",
              "    </tr>\n",
              "    <tr>\n",
              "      <th>4</th>\n",
              "      <td>8.00</td>\n",
              "      <td>11</td>\n",
              "      <td>EUR</td>\n",
              "      <td>1000</td>\n",
              "      <td>0</td>\n",
              "      <td>4.0</td>\n",
              "      <td>127</td>\n",
              "      <td>0</td>\n",
              "      <td>0</td>\n",
              "      <td>0</td>\n",
              "      <td>...</td>\n",
              "      <td>shitongyi12683626</td>\n",
              "      <td>91 % avis positifs (173 notes)</td>\n",
              "      <td>173</td>\n",
              "      <td>4.306358</td>\n",
              "      <td>5d3bc9f8e13a7e654424a4cb</td>\n",
              "      <td>0</td>\n",
              "      <td>NaN</td>\n",
              "      <td>summer</td>\n",
              "      <td>2020-08</td>\n",
              "      <td>226</td>\n",
              "    </tr>\n",
              "  </tbody>\n",
              "</table>\n",
              "<p>5 rows × 34 columns</p>\n",
              "</div>\n",
              "      <button class=\"colab-df-convert\" onclick=\"convertToInteractive('df-1662c1de-f944-4d1c-a096-a5f16c74cfe1')\"\n",
              "              title=\"Convert this dataframe to an interactive table.\"\n",
              "              style=\"display:none;\">\n",
              "        \n",
              "  <svg xmlns=\"http://www.w3.org/2000/svg\" height=\"24px\"viewBox=\"0 0 24 24\"\n",
              "       width=\"24px\">\n",
              "    <path d=\"M0 0h24v24H0V0z\" fill=\"none\"/>\n",
              "    <path d=\"M18.56 5.44l.94 2.06.94-2.06 2.06-.94-2.06-.94-.94-2.06-.94 2.06-2.06.94zm-11 1L8.5 8.5l.94-2.06 2.06-.94-2.06-.94L8.5 2.5l-.94 2.06-2.06.94zm10 10l.94 2.06.94-2.06 2.06-.94-2.06-.94-.94-2.06-.94 2.06-2.06.94z\"/><path d=\"M17.41 7.96l-1.37-1.37c-.4-.4-.92-.59-1.43-.59-.52 0-1.04.2-1.43.59L10.3 9.45l-7.72 7.72c-.78.78-.78 2.05 0 2.83L4 21.41c.39.39.9.59 1.41.59.51 0 1.02-.2 1.41-.59l7.78-7.78 2.81-2.81c.8-.78.8-2.07 0-2.86zM5.41 20L4 18.59l7.72-7.72 1.47 1.35L5.41 20z\"/>\n",
              "  </svg>\n",
              "      </button>\n",
              "      \n",
              "  <style>\n",
              "    .colab-df-container {\n",
              "      display:flex;\n",
              "      flex-wrap:wrap;\n",
              "      gap: 12px;\n",
              "    }\n",
              "\n",
              "    .colab-df-convert {\n",
              "      background-color: #E8F0FE;\n",
              "      border: none;\n",
              "      border-radius: 50%;\n",
              "      cursor: pointer;\n",
              "      display: none;\n",
              "      fill: #1967D2;\n",
              "      height: 32px;\n",
              "      padding: 0 0 0 0;\n",
              "      width: 32px;\n",
              "    }\n",
              "\n",
              "    .colab-df-convert:hover {\n",
              "      background-color: #E2EBFA;\n",
              "      box-shadow: 0px 1px 2px rgba(60, 64, 67, 0.3), 0px 1px 3px 1px rgba(60, 64, 67, 0.15);\n",
              "      fill: #174EA6;\n",
              "    }\n",
              "\n",
              "    [theme=dark] .colab-df-convert {\n",
              "      background-color: #3B4455;\n",
              "      fill: #D2E3FC;\n",
              "    }\n",
              "\n",
              "    [theme=dark] .colab-df-convert:hover {\n",
              "      background-color: #434B5C;\n",
              "      box-shadow: 0px 1px 3px 1px rgba(0, 0, 0, 0.15);\n",
              "      filter: drop-shadow(0px 1px 2px rgba(0, 0, 0, 0.3));\n",
              "      fill: #FFFFFF;\n",
              "    }\n",
              "  </style>\n",
              "\n",
              "      <script>\n",
              "        const buttonEl =\n",
              "          document.querySelector('#df-1662c1de-f944-4d1c-a096-a5f16c74cfe1 button.colab-df-convert');\n",
              "        buttonEl.style.display =\n",
              "          google.colab.kernel.accessAllowed ? 'block' : 'none';\n",
              "\n",
              "        async function convertToInteractive(key) {\n",
              "          const element = document.querySelector('#df-1662c1de-f944-4d1c-a096-a5f16c74cfe1');\n",
              "          const dataTable =\n",
              "            await google.colab.kernel.invokeFunction('convertToInteractive',\n",
              "                                                     [key], {});\n",
              "          if (!dataTable) return;\n",
              "\n",
              "          const docLinkHtml = 'Like what you see? Visit the ' +\n",
              "            '<a target=\"_blank\" href=https://colab.research.google.com/notebooks/data_table.ipynb>data table notebook</a>'\n",
              "            + ' to learn more about interactive tables.';\n",
              "          element.innerHTML = '';\n",
              "          dataTable['output_type'] = 'display_data';\n",
              "          await google.colab.output.renderOutput(dataTable, element);\n",
              "          const docLink = document.createElement('div');\n",
              "          docLink.innerHTML = docLinkHtml;\n",
              "          element.appendChild(docLink);\n",
              "        }\n",
              "      </script>\n",
              "    </div>\n",
              "  </div>\n",
              "  "
            ],
            "text/plain": [
              "   price  retail_price currency_buyer  units_sold  uses_ad_boosts  rating  \\\n",
              "0   8.00             7            EUR       10000               1     4.0   \n",
              "1   8.00             7            EUR        1000               0     4.0   \n",
              "2   6.00            34            EUR         100               0     4.0   \n",
              "3   4.67             4            EUR         100               1     3.0   \n",
              "4   8.00            11            EUR        1000               0     4.0   \n",
              "\n",
              "   rating_count  badges_count  badge_local_product  badge_product_quality  \\\n",
              "0          1670             0                    0                      0   \n",
              "1           843             1                    1                      0   \n",
              "2            10             0                    0                      0   \n",
              "3            82             0                    0                      0   \n",
              "4           127             0                    0                      0   \n",
              "\n",
              "   ...      merchant_name             merchant_info_subtitle  \\\n",
              "0  ...         keepahorse  88 % avis positifs (66,644 notes)   \n",
              "1  ...       上海铭启电气科技有限公司  91 % avis positifs (25,752 notes)   \n",
              "2  ...        zhaodongmei   83 % avis positifs (3,897 notes)   \n",
              "3  ...         pookie0331   87 % avis positifs (7,497 notes)   \n",
              "4  ...  shitongyi12683626     91 % avis positifs (173 notes)   \n",
              "\n",
              "  merchant_rating_count merchant_rating               merchant_id  \\\n",
              "0                 66644        4.137582  577fb2b368116418674befd9   \n",
              "1                 25752        4.256873  566a3ef17233ff2686443082   \n",
              "2                  3897        3.928920  5aacd6c1ccf0c83e5a6f3de0   \n",
              "3                  7497        4.079365  583141fbfef4094e51453d9b   \n",
              "4                   173        4.306358  5d3bc9f8e13a7e654424a4cb   \n",
              "\n",
              "  merchant_has_profile_picture  \\\n",
              "0                            1   \n",
              "1                            0   \n",
              "2                            0   \n",
              "3                            0   \n",
              "4                            0   \n",
              "\n",
              "                            merchant_profile_picture   theme  crawl_month  \\\n",
              "0  https://s3-us-west-1.amazonaws.com/sweeper-pro...  summer      2020-08   \n",
              "1                                                NaN  summer      2020-08   \n",
              "2                                                NaN  summer      2020-08   \n",
              "3                                                NaN  summer      2020-08   \n",
              "4                                                NaN  summer      2020-08   \n",
              "\n",
              "     id  \n",
              "0   272  \n",
              "1  1515  \n",
              "2   940  \n",
              "3   309  \n",
              "4   226  \n",
              "\n",
              "[5 rows x 34 columns]"
            ]
          },
          "execution_count": 3,
          "metadata": {},
          "output_type": "execute_result"
        }
      ],
      "source": [
        "# print first five rows of the dataset\n",
        "df_train.head()"
      ]
    },
    {
      "cell_type": "code",
      "execution_count": null,
      "metadata": {
        "colab": {
          "base_uri": "https://localhost:8080/"
        },
        "id": "gg6aDoYVN0Bd",
        "outputId": "ffc86433-3087-42ad-91f1-f23c3bba9f15"
      },
      "outputs": [
        {
          "name": "stdout",
          "output_type": "stream",
          "text": [
            "(1573, 34)\n"
          ]
        }
      ],
      "source": [
        "# Print the shape of the data\n",
        "print(df_train.shape)\n"
      ]
    },
    {
      "cell_type": "markdown",
      "metadata": {
        "id": "euTemLQq2skK"
      },
      "source": [
        "# Exploring  Data"
      ]
    },
    {
      "cell_type": "code",
      "execution_count": null,
      "metadata": {
        "colab": {
          "base_uri": "https://localhost:8080/"
        },
        "id": "sFhRFzy-th2i",
        "outputId": "6edeab65-9efe-46c3-d63c-be9324f583af"
      },
      "outputs": [
        {
          "name": "stdout",
          "output_type": "stream",
          "text": [
            "columns of Train data:  \n",
            " Index(['price', 'retail_price', 'currency_buyer', 'units_sold',\n",
            "       'uses_ad_boosts', 'rating', 'rating_count', 'badges_count',\n",
            "       'badge_local_product', 'badge_product_quality', 'badge_fast_shipping',\n",
            "       'tags', 'product_color', 'product_variation_size_id',\n",
            "       'product_variation_inventory', 'shipping_option_name',\n",
            "       'shipping_option_price', 'shipping_is_express', 'countries_shipped_to',\n",
            "       'inventory_total', 'has_urgency_banner', 'urgency_text',\n",
            "       'origin_country', 'merchant_title', 'merchant_name',\n",
            "       'merchant_info_subtitle', 'merchant_rating_count', 'merchant_rating',\n",
            "       'merchant_id', 'merchant_has_profile_picture',\n",
            "       'merchant_profile_picture', 'theme', 'crawl_month', 'id'],\n",
            "      dtype='object') \n",
            " \n",
            "\n",
            "columns of Test data:  \n",
            " Index(['price', 'retail_price', 'currency_buyer', 'units_sold',\n",
            "       'uses_ad_boosts', 'rating_count', 'badges_count', 'badge_local_product',\n",
            "       'badge_product_quality', 'badge_fast_shipping', 'tags', 'product_color',\n",
            "       'product_variation_size_id', 'product_variation_inventory',\n",
            "       'shipping_option_name', 'shipping_option_price', 'shipping_is_express',\n",
            "       'countries_shipped_to', 'inventory_total', 'has_urgency_banner',\n",
            "       'urgency_text', 'origin_country', 'merchant_title', 'merchant_name',\n",
            "       'merchant_info_subtitle', 'merchant_rating_count', 'merchant_rating',\n",
            "       'merchant_id', 'merchant_has_profile_picture',\n",
            "       'merchant_profile_picture', 'theme', 'crawl_month', 'id', 'rating'],\n",
            "      dtype='object')\n"
          ]
        }
      ],
      "source": [
        "# Print the column names of the training and testing data\n",
        "print('columns of Train data: ','\\n',df_train1.columns,'\\n','\\n')\n",
        "print('columns of Test data: ','\\n',df_test1.columns)"
      ]
    },
    {
      "cell_type": "markdown",
      "metadata": {
        "id": "-JO-9a7ttqCV"
      },
      "source": [
        "Notice: Train set and test set are diffrent in columns names, Test has an additional column called \"rating\" at the end and Tain has 'rating_count'. Instead that all other column names are identical in both lists."
      ]
    },
    {
      "cell_type": "code",
      "execution_count": null,
      "metadata": {
        "colab": {
          "base_uri": "https://localhost:8080/"
        },
        "id": "bo3lf9n6wqxq",
        "outputId": "81d6bfe0-62fa-453c-c35c-ea6ca416a9b9"
      },
      "outputs": [
        {
          "name": "stdout",
          "output_type": "stream",
          "text": [
            "shape of Train data:  \n",
            " (1094, 34) \n",
            "\n",
            "shape of Test data:  \n",
            " (479, 34) \n",
            "\n",
            "first five lines of Train data:  \n",
            " <bound method NDFrame.head of       price  retail_price currency_buyer  units_sold  uses_ad_boosts  rating  \\\n",
            "0      8.00             7            EUR       10000               1     4.0   \n",
            "1      8.00             7            EUR        1000               0     4.0   \n",
            "2      6.00            34            EUR         100               0     4.0   \n",
            "3      4.67             4            EUR         100               1     3.0   \n",
            "4      8.00            11            EUR        1000               0     4.0   \n",
            "...     ...           ...            ...         ...             ...     ...   \n",
            "1089   4.00             4            EUR       10000               0     4.0   \n",
            "1090   5.00             5            EUR        1000               0     5.0   \n",
            "1091   9.00            48            EUR        1000               1     4.0   \n",
            "1092  11.00            10            EUR       10000               1     4.0   \n",
            "1093   7.00             6            EUR        1000               1     3.0   \n",
            "\n",
            "      rating_count  badges_count  badge_local_product  badge_product_quality  \\\n",
            "0             1670             0                    0                      0   \n",
            "1              843             1                    1                      0   \n",
            "2               10             0                    0                      0   \n",
            "3               82             0                    0                      0   \n",
            "4              127             0                    0                      0   \n",
            "...            ...           ...                  ...                    ...   \n",
            "1089          2150             0                    0                      0   \n",
            "1090           377             1                    0                      1   \n",
            "1091           135             0                    0                      0   \n",
            "1092          1479             0                    0                      0   \n",
            "1093           141             0                    0                      0   \n",
            "\n",
            "      ...                merchant_name              merchant_info_subtitle  \\\n",
            "0     ...                   keepahorse   88 % avis positifs (66,644 notes)   \n",
            "1     ...                 上海铭启电气科技有限公司   91 % avis positifs (25,752 notes)   \n",
            "2     ...                  zhaodongmei    83 % avis positifs (3,897 notes)   \n",
            "3     ...                   pookie0331    87 % avis positifs (7,497 notes)   \n",
            "4     ...            shitongyi12683626      91 % avis positifs (173 notes)   \n",
            "...   ...                          ...                                 ...   \n",
            "1089  ...               fantastic_tune  92 % avis positifs (230,951 notes)   \n",
            "1090  ...                      zzbllss                       (2,904 notes)   \n",
            "1091  ...                    oiug56465    78 % avis positifs (6,632 notes)   \n",
            "1092  ...                   yubenqiang    83 % avis positifs (5,816 notes)   \n",
            "1093  ...  greatexpectationstechnology   86 % avis positifs (12,309 notes)   \n",
            "\n",
            "     merchant_rating_count merchant_rating               merchant_id  \\\n",
            "0                    66644        4.137582  577fb2b368116418674befd9   \n",
            "1                    25752        4.256873  566a3ef17233ff2686443082   \n",
            "2                     3897        3.928920  5aacd6c1ccf0c83e5a6f3de0   \n",
            "3                     7497        4.079365  583141fbfef4094e51453d9b   \n",
            "4                      173        4.306358  5d3bc9f8e13a7e654424a4cb   \n",
            "...                    ...             ...                       ...   \n",
            "1089                230951        4.311066  53f2db3c104dae6bcae0c271   \n",
            "1090                  2904        4.422521  592968ba63950d682ca4b195   \n",
            "1091                  6632        3.748794  5b6ec2f2838d931d2fbf7a28   \n",
            "1092                  5816        3.936382  58330d7def56284f7634e5e5   \n",
            "1093                 12309        4.045170  5acaf29d5ebcfd72403106a8   \n",
            "\n",
            "     merchant_has_profile_picture  \\\n",
            "0                               1   \n",
            "1                               0   \n",
            "2                               0   \n",
            "3                               0   \n",
            "4                               0   \n",
            "...                           ...   \n",
            "1089                            0   \n",
            "1090                            0   \n",
            "1091                            0   \n",
            "1092                            0   \n",
            "1093                            1   \n",
            "\n",
            "                               merchant_profile_picture   theme  crawl_month  \\\n",
            "0     https://s3-us-west-1.amazonaws.com/sweeper-pro...  summer      2020-08   \n",
            "1                                                   NaN  summer      2020-08   \n",
            "2                                                   NaN  summer      2020-08   \n",
            "3                                                   NaN  summer      2020-08   \n",
            "4                                                   NaN  summer      2020-08   \n",
            "...                                                 ...     ...          ...   \n",
            "1089                                                NaN  summer      2020-08   \n",
            "1090                                                NaN  summer      2020-08   \n",
            "1091                                                NaN  summer      2020-08   \n",
            "1092                                                NaN  summer      2020-08   \n",
            "1093  https://s3-us-west-1.amazonaws.com/sweeper-pro...  summer      2020-08   \n",
            "\n",
            "        id  \n",
            "0      272  \n",
            "1     1515  \n",
            "2      940  \n",
            "3      309  \n",
            "4      226  \n",
            "...    ...  \n",
            "1089  1381  \n",
            "1090   212  \n",
            "1091   163  \n",
            "1092   674  \n",
            "1093  1536  \n",
            "\n",
            "[1094 rows x 34 columns]> \n",
            " \n",
            "\n",
            "first five lines of Test data:  \n",
            " <bound method NDFrame.head of      price  retail_price currency_buyer  units_sold  uses_ad_boosts  \\\n",
            "0     5.75             5            EUR          10               1   \n",
            "1     7.00             7            EUR        5000               0   \n",
            "2     5.00            16            EUR        1000               1   \n",
            "3    18.00            27            EUR        5000               1   \n",
            "4    12.00            81            EUR       20000               0   \n",
            "..     ...           ...            ...         ...             ...   \n",
            "474  16.00            14            EUR         100               1   \n",
            "475   6.00            17            EUR        5000               1   \n",
            "476   4.83            51            EUR          50               1   \n",
            "477   3.00             3            EUR         100               1   \n",
            "478  13.00            11            EUR         100               1   \n",
            "\n",
            "     rating_count  badges_count  badge_local_product  badge_product_quality  \\\n",
            "0               0             0                    0                      0   \n",
            "1             579             0                    0                      0   \n",
            "2              62             0                    0                      0   \n",
            "3            1903             0                    0                      0   \n",
            "4            1799             0                    0                      0   \n",
            "..            ...           ...                  ...                    ...   \n",
            "474            27             0                    0                      0   \n",
            "475           817             0                    0                      0   \n",
            "476             1             0                    0                      0   \n",
            "477             8             0                    0                      0   \n",
            "478             4             0                    0                      0   \n",
            "\n",
            "     badge_fast_shipping  ...                merchant_info_subtitle  \\\n",
            "0                      0  ...          33 % avis positifs (3 notes)   \n",
            "1                      0  ...      86 % avis positifs (4,213 notes)   \n",
            "2                      0  ...     85 % avis positifs (10,501 notes)   \n",
            "3                      0  ...     86 % avis positifs (15,855 notes)   \n",
            "4                      0  ...    88 % avis positifs (151,914 notes)   \n",
            "..                   ...  ...                                   ...   \n",
            "474                    0  ...        70 % avis positifs (572 notes)   \n",
            "475                    0  ...     87 % avis positifs (50,864 notes)   \n",
            "476                    0  ...         85 % avis positifs (57 notes)   \n",
            "477                    0  ...      87 % avis positifs (1,086 notes)   \n",
            "478                    0  ...  86% Feedback pozitiv (45,151 rating)   \n",
            "\n",
            "    merchant_rating_count merchant_rating               merchant_id  \\\n",
            "0                       3        2.333333  5e63469b2fdc774466e15dd5   \n",
            "1                    4213        4.058391  583547f417dc6224cb464117   \n",
            "2                   10501        4.029235  57086fd7fa6bee434d0e5852   \n",
            "3                   15855        4.052917  5a17b55d1f4d8c4f0b44b0ce   \n",
            "4                  151914        4.127921  53aa664438d3046ee44a5024   \n",
            "..                    ...             ...                       ...   \n",
            "474                   572        3.367133  5dc818ca030a154e48a3a8af   \n",
            "475                 50864        4.079644  587f85cbb8038f4cb049c56c   \n",
            "476                    57        3.824561  5e3c5fbfe217d492138970c1   \n",
            "477                  1086        4.056169  5c6d6c28619caa1d94891d06   \n",
            "478                 45151        4.032956  5836e38728f25753fe6af6a8   \n",
            "\n",
            "    merchant_has_profile_picture  \\\n",
            "0                              0   \n",
            "1                              0   \n",
            "2                              0   \n",
            "3                              0   \n",
            "4                              0   \n",
            "..                           ...   \n",
            "474                            0   \n",
            "475                            1   \n",
            "476                            0   \n",
            "477                            0   \n",
            "478                            0   \n",
            "\n",
            "                              merchant_profile_picture   theme  crawl_month  \\\n",
            "0                                                  NaN  summer      2020-08   \n",
            "1                                                  NaN  summer      2020-08   \n",
            "2                                                  NaN  summer      2020-08   \n",
            "3                                                  NaN  summer      2020-08   \n",
            "4                                                  NaN  summer      2020-08   \n",
            "..                                                 ...     ...          ...   \n",
            "474                                                NaN  summer      2020-08   \n",
            "475  https://s3-us-west-1.amazonaws.com/sweeper-pro...  summer      2020-08   \n",
            "476                                                NaN  summer      2020-08   \n",
            "477                                                NaN  summer      2020-08   \n",
            "478                                                NaN  summer      2020-08   \n",
            "\n",
            "       id  rating  \n",
            "0     937       0  \n",
            "1     270       0  \n",
            "2     308       0  \n",
            "3     913       0  \n",
            "4     403       0  \n",
            "..    ...     ...  \n",
            "474  1166       0  \n",
            "475  1416       0  \n",
            "476    63       0  \n",
            "477   626       0  \n",
            "478   196       0  \n",
            "\n",
            "[479 rows x 34 columns]> \n",
            " \n",
            "\n"
          ]
        }
      ],
      "source": [
        "print('shape of Train data: ','\\n',df_train1.shape,'\\n')\n",
        "print('shape of Test data: ','\\n',df_test1.shape,'\\n')\n",
        "\n",
        "print('first five lines of Train data: ','\\n',df_train1.head,'\\n','\\n')\n",
        "print('first five lines of Test data: ','\\n',df_test1.head,'\\n','\\n')\n"
      ]
    },
    {
      "cell_type": "markdown",
      "metadata": {
        "id": "T-822NmPxSO9"
      },
      "source": [
        "Notice: Shapes are not same, this means that the Train data is almost twice the size of the Test data, and both datasets have the same number of columns."
      ]
    },
    {
      "cell_type": "code",
      "execution_count": null,
      "metadata": {
        "colab": {
          "base_uri": "https://localhost:8080/"
        },
        "id": "RMK8PheP2bIG",
        "outputId": "6b3bf8fc-d2f3-4451-8a46-2eaa52d6f78e"
      },
      "outputs": [
        {
          "name": "stdout",
          "output_type": "stream",
          "text": [
            "<class 'pandas.core.frame.DataFrame'>\n",
            "RangeIndex: 1573 entries, 0 to 1572\n",
            "Data columns (total 34 columns):\n",
            " #   Column                        Non-Null Count  Dtype  \n",
            "---  ------                        --------------  -----  \n",
            " 0   price                         1573 non-null   float64\n",
            " 1   retail_price                  1573 non-null   int64  \n",
            " 2   currency_buyer                1573 non-null   object \n",
            " 3   units_sold                    1573 non-null   int64  \n",
            " 4   uses_ad_boosts                1573 non-null   int64  \n",
            " 5   rating                        1573 non-null   float64\n",
            " 6   rating_count                  1573 non-null   int64  \n",
            " 7   badges_count                  1573 non-null   int64  \n",
            " 8   badge_local_product           1573 non-null   int64  \n",
            " 9   badge_product_quality         1573 non-null   int64  \n",
            " 10  badge_fast_shipping           1573 non-null   int64  \n",
            " 11  tags                          1573 non-null   object \n",
            " 12  product_color                 1532 non-null   object \n",
            " 13  product_variation_size_id     1559 non-null   object \n",
            " 14  product_variation_inventory   1573 non-null   int64  \n",
            " 15  shipping_option_name          1573 non-null   object \n",
            " 16  shipping_option_price         1573 non-null   int64  \n",
            " 17  shipping_is_express           1573 non-null   int64  \n",
            " 18  countries_shipped_to          1573 non-null   int64  \n",
            " 19  inventory_total               1573 non-null   int64  \n",
            " 20  has_urgency_banner            473 non-null    float64\n",
            " 21  urgency_text                  473 non-null    object \n",
            " 22  origin_country                1556 non-null   object \n",
            " 23  merchant_title                1573 non-null   object \n",
            " 24  merchant_name                 1569 non-null   object \n",
            " 25  merchant_info_subtitle        1572 non-null   object \n",
            " 26  merchant_rating_count         1573 non-null   int64  \n",
            " 27  merchant_rating               1573 non-null   float64\n",
            " 28  merchant_id                   1573 non-null   object \n",
            " 29  merchant_has_profile_picture  1573 non-null   int64  \n",
            " 30  merchant_profile_picture      226 non-null    object \n",
            " 31  theme                         1573 non-null   object \n",
            " 32  crawl_month                   1573 non-null   object \n",
            " 33  id                            1573 non-null   int64  \n",
            "dtypes: float64(4), int64(16), object(14)\n",
            "memory usage: 418.0+ KB\n"
          ]
        }
      ],
      "source": [
        "# Display detailed information about data\n",
        "df_train.info()"
      ]
    },
    {
      "cell_type": "markdown",
      "metadata": {
        "id": "_8H68e5j2jJw"
      },
      "source": [
        "**Notice:** There are missing values and columns with data type object which can be converted to int"
      ]
    },
    {
      "cell_type": "code",
      "execution_count": null,
      "metadata": {
        "colab": {
          "base_uri": "https://localhost:8080/",
          "height": 696
        },
        "id": "UGkBY0qA23JJ",
        "outputId": "63114e27-9a87-4131-fd7b-eafa2c5db0dc"
      },
      "outputs": [
        {
          "data": {
            "text/html": [
              "\n",
              "  <div id=\"df-9138a1a2-6344-456b-a805-559c69755b62\">\n",
              "    <div class=\"colab-df-container\">\n",
              "      <div>\n",
              "<style scoped>\n",
              "    .dataframe tbody tr th:only-of-type {\n",
              "        vertical-align: middle;\n",
              "    }\n",
              "\n",
              "    .dataframe tbody tr th {\n",
              "        vertical-align: top;\n",
              "    }\n",
              "\n",
              "    .dataframe thead th {\n",
              "        text-align: right;\n",
              "    }\n",
              "</style>\n",
              "<table border=\"1\" class=\"dataframe\">\n",
              "  <thead>\n",
              "    <tr style=\"text-align: right;\">\n",
              "      <th></th>\n",
              "      <th>price</th>\n",
              "      <th>retail_price</th>\n",
              "      <th>currency_buyer</th>\n",
              "      <th>units_sold</th>\n",
              "      <th>uses_ad_boosts</th>\n",
              "      <th>rating</th>\n",
              "      <th>rating_count</th>\n",
              "      <th>badges_count</th>\n",
              "      <th>badge_local_product</th>\n",
              "      <th>badge_product_quality</th>\n",
              "      <th>...</th>\n",
              "      <th>merchant_name</th>\n",
              "      <th>merchant_info_subtitle</th>\n",
              "      <th>merchant_rating_count</th>\n",
              "      <th>merchant_rating</th>\n",
              "      <th>merchant_id</th>\n",
              "      <th>merchant_has_profile_picture</th>\n",
              "      <th>merchant_profile_picture</th>\n",
              "      <th>theme</th>\n",
              "      <th>crawl_month</th>\n",
              "      <th>id</th>\n",
              "    </tr>\n",
              "  </thead>\n",
              "  <tbody>\n",
              "    <tr>\n",
              "      <th>0</th>\n",
              "      <td>8.00</td>\n",
              "      <td>7</td>\n",
              "      <td>EUR</td>\n",
              "      <td>10000</td>\n",
              "      <td>1</td>\n",
              "      <td>4.0</td>\n",
              "      <td>1670</td>\n",
              "      <td>0</td>\n",
              "      <td>0</td>\n",
              "      <td>0</td>\n",
              "      <td>...</td>\n",
              "      <td>keepahorse</td>\n",
              "      <td>88 % avis positifs (66,644 notes)</td>\n",
              "      <td>66644</td>\n",
              "      <td>4.137582</td>\n",
              "      <td>577fb2b368116418674befd9</td>\n",
              "      <td>1</td>\n",
              "      <td>https://s3-us-west-1.amazonaws.com/sweeper-pro...</td>\n",
              "      <td>summer</td>\n",
              "      <td>2020-08</td>\n",
              "      <td>272</td>\n",
              "    </tr>\n",
              "    <tr>\n",
              "      <th>1</th>\n",
              "      <td>8.00</td>\n",
              "      <td>7</td>\n",
              "      <td>EUR</td>\n",
              "      <td>1000</td>\n",
              "      <td>0</td>\n",
              "      <td>4.0</td>\n",
              "      <td>843</td>\n",
              "      <td>1</td>\n",
              "      <td>1</td>\n",
              "      <td>0</td>\n",
              "      <td>...</td>\n",
              "      <td>上海铭启电气科技有限公司</td>\n",
              "      <td>91 % avis positifs (25,752 notes)</td>\n",
              "      <td>25752</td>\n",
              "      <td>4.256873</td>\n",
              "      <td>566a3ef17233ff2686443082</td>\n",
              "      <td>0</td>\n",
              "      <td>NaN</td>\n",
              "      <td>summer</td>\n",
              "      <td>2020-08</td>\n",
              "      <td>1515</td>\n",
              "    </tr>\n",
              "    <tr>\n",
              "      <th>2</th>\n",
              "      <td>6.00</td>\n",
              "      <td>34</td>\n",
              "      <td>EUR</td>\n",
              "      <td>100</td>\n",
              "      <td>0</td>\n",
              "      <td>4.0</td>\n",
              "      <td>10</td>\n",
              "      <td>0</td>\n",
              "      <td>0</td>\n",
              "      <td>0</td>\n",
              "      <td>...</td>\n",
              "      <td>zhaodongmei</td>\n",
              "      <td>83 % avis positifs (3,897 notes)</td>\n",
              "      <td>3897</td>\n",
              "      <td>3.928920</td>\n",
              "      <td>5aacd6c1ccf0c83e5a6f3de0</td>\n",
              "      <td>0</td>\n",
              "      <td>NaN</td>\n",
              "      <td>summer</td>\n",
              "      <td>2020-08</td>\n",
              "      <td>940</td>\n",
              "    </tr>\n",
              "    <tr>\n",
              "      <th>3</th>\n",
              "      <td>4.67</td>\n",
              "      <td>4</td>\n",
              "      <td>EUR</td>\n",
              "      <td>100</td>\n",
              "      <td>1</td>\n",
              "      <td>3.0</td>\n",
              "      <td>82</td>\n",
              "      <td>0</td>\n",
              "      <td>0</td>\n",
              "      <td>0</td>\n",
              "      <td>...</td>\n",
              "      <td>pookie0331</td>\n",
              "      <td>87 % avis positifs (7,497 notes)</td>\n",
              "      <td>7497</td>\n",
              "      <td>4.079365</td>\n",
              "      <td>583141fbfef4094e51453d9b</td>\n",
              "      <td>0</td>\n",
              "      <td>NaN</td>\n",
              "      <td>summer</td>\n",
              "      <td>2020-08</td>\n",
              "      <td>309</td>\n",
              "    </tr>\n",
              "    <tr>\n",
              "      <th>4</th>\n",
              "      <td>8.00</td>\n",
              "      <td>11</td>\n",
              "      <td>EUR</td>\n",
              "      <td>1000</td>\n",
              "      <td>0</td>\n",
              "      <td>4.0</td>\n",
              "      <td>127</td>\n",
              "      <td>0</td>\n",
              "      <td>0</td>\n",
              "      <td>0</td>\n",
              "      <td>...</td>\n",
              "      <td>shitongyi12683626</td>\n",
              "      <td>91 % avis positifs (173 notes)</td>\n",
              "      <td>173</td>\n",
              "      <td>4.306358</td>\n",
              "      <td>5d3bc9f8e13a7e654424a4cb</td>\n",
              "      <td>0</td>\n",
              "      <td>NaN</td>\n",
              "      <td>summer</td>\n",
              "      <td>2020-08</td>\n",
              "      <td>226</td>\n",
              "    </tr>\n",
              "    <tr>\n",
              "      <th>...</th>\n",
              "      <td>...</td>\n",
              "      <td>...</td>\n",
              "      <td>...</td>\n",
              "      <td>...</td>\n",
              "      <td>...</td>\n",
              "      <td>...</td>\n",
              "      <td>...</td>\n",
              "      <td>...</td>\n",
              "      <td>...</td>\n",
              "      <td>...</td>\n",
              "      <td>...</td>\n",
              "      <td>...</td>\n",
              "      <td>...</td>\n",
              "      <td>...</td>\n",
              "      <td>...</td>\n",
              "      <td>...</td>\n",
              "      <td>...</td>\n",
              "      <td>...</td>\n",
              "      <td>...</td>\n",
              "      <td>...</td>\n",
              "      <td>...</td>\n",
              "    </tr>\n",
              "    <tr>\n",
              "      <th>1568</th>\n",
              "      <td>16.00</td>\n",
              "      <td>14</td>\n",
              "      <td>EUR</td>\n",
              "      <td>100</td>\n",
              "      <td>1</td>\n",
              "      <td>0.0</td>\n",
              "      <td>27</td>\n",
              "      <td>0</td>\n",
              "      <td>0</td>\n",
              "      <td>0</td>\n",
              "      <td>...</td>\n",
              "      <td>hernadezyeli</td>\n",
              "      <td>70 % avis positifs (572 notes)</td>\n",
              "      <td>572</td>\n",
              "      <td>3.367133</td>\n",
              "      <td>5dc818ca030a154e48a3a8af</td>\n",
              "      <td>0</td>\n",
              "      <td>NaN</td>\n",
              "      <td>summer</td>\n",
              "      <td>2020-08</td>\n",
              "      <td>1166</td>\n",
              "    </tr>\n",
              "    <tr>\n",
              "      <th>1569</th>\n",
              "      <td>6.00</td>\n",
              "      <td>17</td>\n",
              "      <td>EUR</td>\n",
              "      <td>5000</td>\n",
              "      <td>1</td>\n",
              "      <td>0.0</td>\n",
              "      <td>817</td>\n",
              "      <td>0</td>\n",
              "      <td>0</td>\n",
              "      <td>0</td>\n",
              "      <td>...</td>\n",
              "      <td>firstcrush</td>\n",
              "      <td>87 % avis positifs (50,864 notes)</td>\n",
              "      <td>50864</td>\n",
              "      <td>4.079644</td>\n",
              "      <td>587f85cbb8038f4cb049c56c</td>\n",
              "      <td>1</td>\n",
              "      <td>https://s3-us-west-1.amazonaws.com/sweeper-pro...</td>\n",
              "      <td>summer</td>\n",
              "      <td>2020-08</td>\n",
              "      <td>1416</td>\n",
              "    </tr>\n",
              "    <tr>\n",
              "      <th>1570</th>\n",
              "      <td>4.83</td>\n",
              "      <td>51</td>\n",
              "      <td>EUR</td>\n",
              "      <td>50</td>\n",
              "      <td>1</td>\n",
              "      <td>0.0</td>\n",
              "      <td>1</td>\n",
              "      <td>0</td>\n",
              "      <td>0</td>\n",
              "      <td>0</td>\n",
              "      <td>...</td>\n",
              "      <td>saulstore</td>\n",
              "      <td>85 % avis positifs (57 notes)</td>\n",
              "      <td>57</td>\n",
              "      <td>3.824561</td>\n",
              "      <td>5e3c5fbfe217d492138970c1</td>\n",
              "      <td>0</td>\n",
              "      <td>NaN</td>\n",
              "      <td>summer</td>\n",
              "      <td>2020-08</td>\n",
              "      <td>63</td>\n",
              "    </tr>\n",
              "    <tr>\n",
              "      <th>1571</th>\n",
              "      <td>3.00</td>\n",
              "      <td>3</td>\n",
              "      <td>EUR</td>\n",
              "      <td>100</td>\n",
              "      <td>1</td>\n",
              "      <td>0.0</td>\n",
              "      <td>8</td>\n",
              "      <td>0</td>\n",
              "      <td>0</td>\n",
              "      <td>0</td>\n",
              "      <td>...</td>\n",
              "      <td>hey1827</td>\n",
              "      <td>87 % avis positifs (1,086 notes)</td>\n",
              "      <td>1086</td>\n",
              "      <td>4.056169</td>\n",
              "      <td>5c6d6c28619caa1d94891d06</td>\n",
              "      <td>0</td>\n",
              "      <td>NaN</td>\n",
              "      <td>summer</td>\n",
              "      <td>2020-08</td>\n",
              "      <td>626</td>\n",
              "    </tr>\n",
              "    <tr>\n",
              "      <th>1572</th>\n",
              "      <td>13.00</td>\n",
              "      <td>11</td>\n",
              "      <td>EUR</td>\n",
              "      <td>100</td>\n",
              "      <td>1</td>\n",
              "      <td>0.0</td>\n",
              "      <td>4</td>\n",
              "      <td>0</td>\n",
              "      <td>0</td>\n",
              "      <td>0</td>\n",
              "      <td>...</td>\n",
              "      <td>rtgh710402e4b24511e6b69106d0c1a90220</td>\n",
              "      <td>86% Feedback pozitiv (45,151 rating)</td>\n",
              "      <td>45151</td>\n",
              "      <td>4.032956</td>\n",
              "      <td>5836e38728f25753fe6af6a8</td>\n",
              "      <td>0</td>\n",
              "      <td>NaN</td>\n",
              "      <td>summer</td>\n",
              "      <td>2020-08</td>\n",
              "      <td>196</td>\n",
              "    </tr>\n",
              "  </tbody>\n",
              "</table>\n",
              "<p>1573 rows × 34 columns</p>\n",
              "</div>\n",
              "      <button class=\"colab-df-convert\" onclick=\"convertToInteractive('df-9138a1a2-6344-456b-a805-559c69755b62')\"\n",
              "              title=\"Convert this dataframe to an interactive table.\"\n",
              "              style=\"display:none;\">\n",
              "        \n",
              "  <svg xmlns=\"http://www.w3.org/2000/svg\" height=\"24px\"viewBox=\"0 0 24 24\"\n",
              "       width=\"24px\">\n",
              "    <path d=\"M0 0h24v24H0V0z\" fill=\"none\"/>\n",
              "    <path d=\"M18.56 5.44l.94 2.06.94-2.06 2.06-.94-2.06-.94-.94-2.06-.94 2.06-2.06.94zm-11 1L8.5 8.5l.94-2.06 2.06-.94-2.06-.94L8.5 2.5l-.94 2.06-2.06.94zm10 10l.94 2.06.94-2.06 2.06-.94-2.06-.94-.94-2.06-.94 2.06-2.06.94z\"/><path d=\"M17.41 7.96l-1.37-1.37c-.4-.4-.92-.59-1.43-.59-.52 0-1.04.2-1.43.59L10.3 9.45l-7.72 7.72c-.78.78-.78 2.05 0 2.83L4 21.41c.39.39.9.59 1.41.59.51 0 1.02-.2 1.41-.59l7.78-7.78 2.81-2.81c.8-.78.8-2.07 0-2.86zM5.41 20L4 18.59l7.72-7.72 1.47 1.35L5.41 20z\"/>\n",
              "  </svg>\n",
              "      </button>\n",
              "      \n",
              "  <style>\n",
              "    .colab-df-container {\n",
              "      display:flex;\n",
              "      flex-wrap:wrap;\n",
              "      gap: 12px;\n",
              "    }\n",
              "\n",
              "    .colab-df-convert {\n",
              "      background-color: #E8F0FE;\n",
              "      border: none;\n",
              "      border-radius: 50%;\n",
              "      cursor: pointer;\n",
              "      display: none;\n",
              "      fill: #1967D2;\n",
              "      height: 32px;\n",
              "      padding: 0 0 0 0;\n",
              "      width: 32px;\n",
              "    }\n",
              "\n",
              "    .colab-df-convert:hover {\n",
              "      background-color: #E2EBFA;\n",
              "      box-shadow: 0px 1px 2px rgba(60, 64, 67, 0.3), 0px 1px 3px 1px rgba(60, 64, 67, 0.15);\n",
              "      fill: #174EA6;\n",
              "    }\n",
              "\n",
              "    [theme=dark] .colab-df-convert {\n",
              "      background-color: #3B4455;\n",
              "      fill: #D2E3FC;\n",
              "    }\n",
              "\n",
              "    [theme=dark] .colab-df-convert:hover {\n",
              "      background-color: #434B5C;\n",
              "      box-shadow: 0px 1px 3px 1px rgba(0, 0, 0, 0.15);\n",
              "      filter: drop-shadow(0px 1px 2px rgba(0, 0, 0, 0.3));\n",
              "      fill: #FFFFFF;\n",
              "    }\n",
              "  </style>\n",
              "\n",
              "      <script>\n",
              "        const buttonEl =\n",
              "          document.querySelector('#df-9138a1a2-6344-456b-a805-559c69755b62 button.colab-df-convert');\n",
              "        buttonEl.style.display =\n",
              "          google.colab.kernel.accessAllowed ? 'block' : 'none';\n",
              "\n",
              "        async function convertToInteractive(key) {\n",
              "          const element = document.querySelector('#df-9138a1a2-6344-456b-a805-559c69755b62');\n",
              "          const dataTable =\n",
              "            await google.colab.kernel.invokeFunction('convertToInteractive',\n",
              "                                                     [key], {});\n",
              "          if (!dataTable) return;\n",
              "\n",
              "          const docLinkHtml = 'Like what you see? Visit the ' +\n",
              "            '<a target=\"_blank\" href=https://colab.research.google.com/notebooks/data_table.ipynb>data table notebook</a>'\n",
              "            + ' to learn more about interactive tables.';\n",
              "          element.innerHTML = '';\n",
              "          dataTable['output_type'] = 'display_data';\n",
              "          await google.colab.output.renderOutput(dataTable, element);\n",
              "          const docLink = document.createElement('div');\n",
              "          docLink.innerHTML = docLinkHtml;\n",
              "          element.appendChild(docLink);\n",
              "        }\n",
              "      </script>\n",
              "    </div>\n",
              "  </div>\n",
              "  "
            ],
            "text/plain": [
              "      price  retail_price currency_buyer  units_sold  uses_ad_boosts  rating  \\\n",
              "0      8.00             7            EUR       10000               1     4.0   \n",
              "1      8.00             7            EUR        1000               0     4.0   \n",
              "2      6.00            34            EUR         100               0     4.0   \n",
              "3      4.67             4            EUR         100               1     3.0   \n",
              "4      8.00            11            EUR        1000               0     4.0   \n",
              "...     ...           ...            ...         ...             ...     ...   \n",
              "1568  16.00            14            EUR         100               1     0.0   \n",
              "1569   6.00            17            EUR        5000               1     0.0   \n",
              "1570   4.83            51            EUR          50               1     0.0   \n",
              "1571   3.00             3            EUR         100               1     0.0   \n",
              "1572  13.00            11            EUR         100               1     0.0   \n",
              "\n",
              "      rating_count  badges_count  badge_local_product  badge_product_quality  \\\n",
              "0             1670             0                    0                      0   \n",
              "1              843             1                    1                      0   \n",
              "2               10             0                    0                      0   \n",
              "3               82             0                    0                      0   \n",
              "4              127             0                    0                      0   \n",
              "...            ...           ...                  ...                    ...   \n",
              "1568            27             0                    0                      0   \n",
              "1569           817             0                    0                      0   \n",
              "1570             1             0                    0                      0   \n",
              "1571             8             0                    0                      0   \n",
              "1572             4             0                    0                      0   \n",
              "\n",
              "      ...                         merchant_name  \\\n",
              "0     ...                            keepahorse   \n",
              "1     ...                          上海铭启电气科技有限公司   \n",
              "2     ...                           zhaodongmei   \n",
              "3     ...                            pookie0331   \n",
              "4     ...                     shitongyi12683626   \n",
              "...   ...                                   ...   \n",
              "1568  ...                          hernadezyeli   \n",
              "1569  ...                            firstcrush   \n",
              "1570  ...                             saulstore   \n",
              "1571  ...                               hey1827   \n",
              "1572  ...  rtgh710402e4b24511e6b69106d0c1a90220   \n",
              "\n",
              "                    merchant_info_subtitle merchant_rating_count  \\\n",
              "0        88 % avis positifs (66,644 notes)                 66644   \n",
              "1        91 % avis positifs (25,752 notes)                 25752   \n",
              "2         83 % avis positifs (3,897 notes)                  3897   \n",
              "3         87 % avis positifs (7,497 notes)                  7497   \n",
              "4           91 % avis positifs (173 notes)                   173   \n",
              "...                                    ...                   ...   \n",
              "1568        70 % avis positifs (572 notes)                   572   \n",
              "1569     87 % avis positifs (50,864 notes)                 50864   \n",
              "1570         85 % avis positifs (57 notes)                    57   \n",
              "1571      87 % avis positifs (1,086 notes)                  1086   \n",
              "1572  86% Feedback pozitiv (45,151 rating)                 45151   \n",
              "\n",
              "     merchant_rating               merchant_id merchant_has_profile_picture  \\\n",
              "0           4.137582  577fb2b368116418674befd9                            1   \n",
              "1           4.256873  566a3ef17233ff2686443082                            0   \n",
              "2           3.928920  5aacd6c1ccf0c83e5a6f3de0                            0   \n",
              "3           4.079365  583141fbfef4094e51453d9b                            0   \n",
              "4           4.306358  5d3bc9f8e13a7e654424a4cb                            0   \n",
              "...              ...                       ...                          ...   \n",
              "1568        3.367133  5dc818ca030a154e48a3a8af                            0   \n",
              "1569        4.079644  587f85cbb8038f4cb049c56c                            1   \n",
              "1570        3.824561  5e3c5fbfe217d492138970c1                            0   \n",
              "1571        4.056169  5c6d6c28619caa1d94891d06                            0   \n",
              "1572        4.032956  5836e38728f25753fe6af6a8                            0   \n",
              "\n",
              "                               merchant_profile_picture   theme  crawl_month  \\\n",
              "0     https://s3-us-west-1.amazonaws.com/sweeper-pro...  summer      2020-08   \n",
              "1                                                   NaN  summer      2020-08   \n",
              "2                                                   NaN  summer      2020-08   \n",
              "3                                                   NaN  summer      2020-08   \n",
              "4                                                   NaN  summer      2020-08   \n",
              "...                                                 ...     ...          ...   \n",
              "1568                                                NaN  summer      2020-08   \n",
              "1569  https://s3-us-west-1.amazonaws.com/sweeper-pro...  summer      2020-08   \n",
              "1570                                                NaN  summer      2020-08   \n",
              "1571                                                NaN  summer      2020-08   \n",
              "1572                                                NaN  summer      2020-08   \n",
              "\n",
              "        id  \n",
              "0      272  \n",
              "1     1515  \n",
              "2      940  \n",
              "3      309  \n",
              "4      226  \n",
              "...    ...  \n",
              "1568  1166  \n",
              "1569  1416  \n",
              "1570    63  \n",
              "1571   626  \n",
              "1572   196  \n",
              "\n",
              "[1573 rows x 34 columns]"
            ]
          },
          "execution_count": 8,
          "metadata": {},
          "output_type": "execute_result"
        }
      ],
      "source": [
        "# Display all Data\n",
        "df_train"
      ]
    },
    {
      "cell_type": "code",
      "execution_count": null,
      "metadata": {
        "colab": {
          "base_uri": "https://localhost:8080/"
        },
        "id": "tY2bAts07BGB",
        "outputId": "8691364b-1112-4bd0-b1a2-93d6ddea5e5b"
      },
      "outputs": [
        {
          "name": "stdout",
          "output_type": "stream",
          "text": [
            "             price  retail_price     units_sold  uses_ad_boosts       rating  \\\n",
            "count  1573.000000   1573.000000    1573.000000     1573.000000  1573.000000   \n",
            "mean      8.325372     23.288620    4339.005086        0.432931     2.786395   \n",
            "std       3.932030     30.357863    9356.539302        0.495639     1.907903   \n",
            "min       1.000000      1.000000       1.000000        0.000000     0.000000   \n",
            "25%       5.810000      7.000000     100.000000        0.000000     0.000000   \n",
            "50%       8.000000     10.000000    1000.000000        0.000000     4.000000   \n",
            "75%      11.000000     26.000000    5000.000000        1.000000     4.000000   \n",
            "max      49.000000    252.000000  100000.000000        1.000000     6.000000   \n",
            "\n",
            "       rating_count  badges_count  badge_local_product  badge_product_quality  \\\n",
            "count   1573.000000   1573.000000          1573.000000            1573.000000   \n",
            "mean     889.659250      0.105531             0.018436               0.074380   \n",
            "std     1983.928834      0.340709             0.134565               0.262472   \n",
            "min        0.000000      0.000000             0.000000               0.000000   \n",
            "25%       24.000000      0.000000             0.000000               0.000000   \n",
            "50%      150.000000      0.000000             0.000000               0.000000   \n",
            "75%      855.000000      0.000000             0.000000               0.000000   \n",
            "max    20744.000000      3.000000             1.000000               1.000000   \n",
            "\n",
            "       badge_fast_shipping  product_variation_inventory  \\\n",
            "count          1573.000000                  1573.000000   \n",
            "mean              0.012715                    33.081373   \n",
            "std               0.112075                    21.353137   \n",
            "min               0.000000                     1.000000   \n",
            "25%               0.000000                     6.000000   \n",
            "50%               0.000000                    50.000000   \n",
            "75%               0.000000                    50.000000   \n",
            "max               1.000000                    50.000000   \n",
            "\n",
            "       shipping_option_price  shipping_is_express  countries_shipped_to  \\\n",
            "count            1573.000000          1573.000000           1573.000000   \n",
            "mean                2.345200             0.002543             40.456453   \n",
            "std                 1.024371             0.050379             20.301203   \n",
            "min                 1.000000             0.000000              6.000000   \n",
            "25%                 2.000000             0.000000             31.000000   \n",
            "50%                 2.000000             0.000000             40.000000   \n",
            "75%                 3.000000             0.000000             43.000000   \n",
            "max                12.000000             1.000000            140.000000   \n",
            "\n",
            "       inventory_total  has_urgency_banner  merchant_rating_count  \\\n",
            "count      1573.000000               473.0           1.573000e+03   \n",
            "mean         49.821360                 1.0           2.649583e+04   \n",
            "std           2.562799                 0.0           7.847446e+04   \n",
            "min           1.000000                 1.0           0.000000e+00   \n",
            "25%          50.000000                 1.0           1.987000e+03   \n",
            "50%          50.000000                 1.0           7.936000e+03   \n",
            "75%          50.000000                 1.0           2.456400e+04   \n",
            "max          50.000000                 1.0           2.174765e+06   \n",
            "\n",
            "       merchant_rating  merchant_has_profile_picture           id  \n",
            "count      1573.000000                   1573.000000  1573.000000  \n",
            "mean          4.032345                      0.143675   786.000000  \n",
            "std           0.204768                      0.350871   454.230301  \n",
            "min           2.333333                      0.000000     0.000000  \n",
            "25%           3.917353                      0.000000   393.000000  \n",
            "50%           4.040650                      0.000000   786.000000  \n",
            "75%           4.161797                      0.000000  1179.000000  \n",
            "max           5.000000                      1.000000  1572.000000  \n"
          ]
        }
      ],
      "source": [
        "# Print Summary can help to quickly understand the distribution of data in the DataFrame \n",
        "print(df_train.describe())"
      ]
    },
    {
      "cell_type": "code",
      "execution_count": null,
      "metadata": {
        "colab": {
          "base_uri": "https://localhost:8080/"
        },
        "id": "dsJeAHD63JNU",
        "outputId": "dc56ee2e-9bb4-4513-8de7-b746dab7e517"
      },
      "outputs": [
        {
          "data": {
            "text/plain": [
              "Index(['price', 'retail_price', 'currency_buyer', 'units_sold',\n",
              "       'uses_ad_boosts', 'rating', 'rating_count', 'badges_count',\n",
              "       'badge_local_product', 'badge_product_quality', 'badge_fast_shipping',\n",
              "       'tags', 'product_color', 'product_variation_size_id',\n",
              "       'product_variation_inventory', 'shipping_option_name',\n",
              "       'shipping_option_price', 'shipping_is_express', 'countries_shipped_to',\n",
              "       'inventory_total', 'has_urgency_banner', 'urgency_text',\n",
              "       'origin_country', 'merchant_title', 'merchant_name',\n",
              "       'merchant_info_subtitle', 'merchant_rating_count', 'merchant_rating',\n",
              "       'merchant_id', 'merchant_has_profile_picture',\n",
              "       'merchant_profile_picture', 'theme', 'crawl_month', 'id'],\n",
              "      dtype='object')"
            ]
          },
          "execution_count": 10,
          "metadata": {},
          "output_type": "execute_result"
        }
      ],
      "source": [
        "# Display columns' names in Data \n",
        "df_train.columns"
      ]
    },
    {
      "cell_type": "code",
      "execution_count": null,
      "metadata": {
        "colab": {
          "base_uri": "https://localhost:8080/"
        },
        "id": "zEAoTY0y7Guj",
        "outputId": "7538c6f3-fab0-4334-f9da-1652138aa9cb"
      },
      "outputs": [
        {
          "data": {
            "text/plain": [
              "False    1573\n",
              "dtype: int64"
            ]
          },
          "execution_count": 11,
          "metadata": {},
          "output_type": "execute_result"
        }
      ],
      "source": [
        "# Check for and drop duplicate rows from the training data\n",
        "df_train.duplicated().value_counts()"
      ]
    },
    {
      "cell_type": "markdown",
      "metadata": {
        "id": "qGlqd2lmy81b"
      },
      "source": [
        "**notice:** there are no duplicate rows in the DataFrame"
      ]
    },
    {
      "cell_type": "code",
      "execution_count": null,
      "metadata": {
        "colab": {
          "base_uri": "https://localhost:8080/"
        },
        "id": "JJlspw023b_Y",
        "outputId": "2c48ecfb-db64-46ba-8f87-ff42377c7179"
      },
      "outputs": [
        {
          "data": {
            "text/plain": [
              "price                              0\n",
              "retail_price                       0\n",
              "currency_buyer                     0\n",
              "units_sold                         0\n",
              "uses_ad_boosts                     0\n",
              "rating                             0\n",
              "rating_count                       0\n",
              "badges_count                       0\n",
              "badge_local_product                0\n",
              "badge_product_quality              0\n",
              "badge_fast_shipping                0\n",
              "tags                               0\n",
              "product_color                     41\n",
              "product_variation_size_id         14\n",
              "product_variation_inventory        0\n",
              "shipping_option_name               0\n",
              "shipping_option_price              0\n",
              "shipping_is_express                0\n",
              "countries_shipped_to               0\n",
              "inventory_total                    0\n",
              "has_urgency_banner              1100\n",
              "urgency_text                    1100\n",
              "origin_country                    17\n",
              "merchant_title                     0\n",
              "merchant_name                      4\n",
              "merchant_info_subtitle             1\n",
              "merchant_rating_count              0\n",
              "merchant_rating                    0\n",
              "merchant_id                        0\n",
              "merchant_has_profile_picture       0\n",
              "merchant_profile_picture        1347\n",
              "theme                              0\n",
              "crawl_month                        0\n",
              "id                                 0\n",
              "dtype: int64"
            ]
          },
          "execution_count": 12,
          "metadata": {},
          "output_type": "execute_result"
        }
      ],
      "source": [
        "# Check Null values in Data in each column of DataFrame.\n",
        "df_train.isnull().sum()"
      ]
    },
    {
      "cell_type": "markdown",
      "metadata": {
        "id": "NUyPnWi3-WX7"
      },
      "source": [
        "From above there are much missing values in columns      \n",
        "\n",
        "        (has_urgency_banner              1100,\n",
        "        urgency_text                    1100,\n",
        "        merchant_profile_picture        924\n",
        "        product_color                   41,\n",
        "        'product_variation_size_id'     14, \n",
        "        'has_urgency_banner'             1, \n",
        "        'urgency_text'                  1100,\n",
        "        'origin_country'                17, \n",
        "        'merchant_name'                 4, \n",
        "        'merchant_info_subtitle'        1,    \n",
        "        'marchant_profile_picture'  1347\n",
        "        )\n",
        "\n",
        "repectively, we can drop [has_urgency_banner, urgency_text] as have alot of null values percentage to the total number of data (1573)"
      ]
    },
    {
      "cell_type": "code",
      "execution_count": null,
      "metadata": {
        "colab": {
          "base_uri": "https://localhost:8080/"
        },
        "id": "fgMZQ0cG7rnC",
        "outputId": "b95ce68b-91ff-426f-e24f-bb8cc27ec007"
      },
      "outputs": [
        {
          "name": "stdout",
          "output_type": "stream",
          "text": [
            "price\n",
            "8.00     282\n",
            "11.00    202\n",
            "7.00     129\n",
            "9.00     126\n",
            "6.00     120\n",
            "        ... \n",
            "4.94       1\n",
            "1.84       1\n",
            "4.74       1\n",
            "3.74       1\n",
            "1.71       1\n",
            "Name: price, Length: 127, dtype: int64\n",
            "------------------------\n",
            "retail_price\n",
            "7      177\n",
            "6      136\n",
            "10     128\n",
            "5      102\n",
            "11      99\n",
            "      ... \n",
            "101      1\n",
            "250      1\n",
            "66       1\n",
            "69       1\n",
            "1        1\n",
            "Name: retail_price, Length: 104, dtype: int64\n",
            "------------------------\n",
            "currency_buyer\n",
            "EUR    1573\n",
            "Name: currency_buyer, dtype: int64\n",
            "------------------------\n",
            "units_sold\n",
            "100       509\n",
            "1000      405\n",
            "5000      217\n",
            "10000     177\n",
            "20000     103\n",
            "50         76\n",
            "10         49\n",
            "50000      17\n",
            "100000      6\n",
            "8           4\n",
            "1           3\n",
            "2           2\n",
            "7           2\n",
            "3           2\n",
            "6           1\n",
            "Name: units_sold, dtype: int64\n",
            "------------------------\n",
            "uses_ad_boosts\n",
            "0    892\n",
            "1    681\n",
            "Name: uses_ad_boosts, dtype: int64\n",
            "------------------------\n",
            "rating\n",
            "4.0    774\n",
            "0.0    479\n",
            "5.0    170\n",
            "3.0    135\n",
            "2.0     12\n",
            "1.0      2\n",
            "6.0      1\n",
            "Name: rating, dtype: int64\n",
            "------------------------\n",
            "rating_count\n",
            "0       45\n",
            "2       31\n",
            "4       28\n",
            "6       26\n",
            "12      25\n",
            "        ..\n",
            "122      1\n",
            "320      1\n",
            "1367     1\n",
            "378      1\n",
            "817      1\n",
            "Name: rating_count, Length: 761, dtype: int64\n",
            "------------------------\n",
            "badges_count\n",
            "0    1422\n",
            "1     138\n",
            "2      11\n",
            "3       2\n",
            "Name: badges_count, dtype: int64\n",
            "------------------------\n",
            "badge_local_product\n",
            "0    1544\n",
            "1      29\n",
            "Name: badge_local_product, dtype: int64\n",
            "------------------------\n",
            "badge_product_quality\n",
            "0    1456\n",
            "1     117\n",
            "Name: badge_product_quality, dtype: int64\n",
            "------------------------\n",
            "badge_fast_shipping\n",
            "0    1553\n",
            "1      20\n",
            "Name: badge_fast_shipping, dtype: int64\n",
            "------------------------\n",
            "tags\n",
            "Summer,Fashion,Necks,Skirts,Dress,Loose,Women's Fashion,Round neck,beach dress,sleeveless,Beach,Casual,Women                                                                                                                                                                                                                                                                      17\n",
            "Summer,Sling,Dresses,Dress,V-neck,Casual,Pocket,Women's Fashion,Sleeveless dress,women dress,Floral,sleeveless,Women,loose dress,Pleated,casual dress                                                                                                                                                                                                                              9\n",
            "slimming,wasitcincher,Fashion,waistgirdle,slimmingcorset,Corset,Summer,Waist,waist trainer,Fashion Accessory,Vest,shaperwear,belt                                                                                                                                                                                                                                                  8\n",
            "Summer,Fashion,Necks,Beach,Dress,Loose,beach dress,Round neck,Women's Fashion,sleeveless,Skirts,Casual,Women                                                                                                                                                                                                                                                                       7\n",
            "Summer,short sleeve dress,neck dress,Necks,Sleeve,Beach,Dress,Loose,short sleeves,V-neck,Shorts,beach dress,Plus Size,Midi Dress,summer dress,Print,Pullovers,Women's Fashion,Casual,Women                                                                                                                                                                                         7\n",
            "                                                                                                                                                                                                                                                                                                                                                                                  ..\n",
            "Women Vest,Plus Size,Cotton T Shirt,Summer,topsamptshirt,tank top,Sleeveless Shirt,Fashion,Casual T-Shirt,Floral,Tank,Casual,T Shirts,Cotton,Floral print,Sexy Top,Tops,Women's Fashion,Print,sleeveless,sexy,Women,tops for women                                                                                                                                                 1\n",
            "Summer,harem,Plus Size,Spring/Autumn,Casual pants,pants,Spring,Long pants,Women's Fashion,Fashion,loosepant,Floral,Floral print,Casual,trousers,Women,Wool,cottonpant,harem pants,women trousers,Print,Yoga                                                                                                                                                                        1\n",
            "Plus Size,off shoulder dress,Sleeve,Long Sleeve,Dress,V Neckdress,Women's Fashion,animal print,Animal,Print,women dress,loose dress,Women                                                                                                                                                                                                                                          1\n",
            "Women,womenpaddedbra,summercasualfashionsexywomenprintbikinissetpushupbraswimsuitmidwaist,women swimsuit,onepiece,womensummersexybacklessbikini,Swimsuit,Swimwear,sexyswimwearset,Bikini,Fashion,fashionswimsuitswimwearbathingsuit,womenfashionsummerbikinisset,sexy,pushupbikiniset,fashionsweetladybeautywomenbikinisexyswimwear,Women's Fashion,summerbeachbikini,Swimming     1\n",
            "Summer,slideslipper,Sandals,fur,Indoor,Fox,Indoor Slippers,outdoorslipper,Slippers,Women's Fashion,Outdoor,slippers women,furryslipper,Beach slippers,furslide,furslipperswomen,Women                                                                                                                                                                                              1\n",
            "Name: tags, Length: 1230, dtype: int64\n",
            "------------------------\n",
            "product_color\n",
            "black               302\n",
            "white               254\n",
            "yellow              105\n",
            "blue                 99\n",
            "pink                 99\n",
            "                   ... \n",
            "navyblue & white      1\n",
            "winered & yellow      1\n",
            "offwhite              1\n",
            "lightgray             1\n",
            "gray & white          1\n",
            "Name: product_color, Length: 101, dtype: int64\n",
            "------------------------\n",
            "product_variation_size_id\n",
            "S                641\n",
            "XS               356\n",
            "M                200\n",
            "XXS              100\n",
            "L                 49\n",
            "                ... \n",
            "2                  1\n",
            "20PCS-10PAIRS      1\n",
            "Size-5XL           1\n",
            "Size/S             1\n",
            "36                 1\n",
            "Name: product_variation_size_id, Length: 106, dtype: int64\n",
            "------------------------\n",
            "product_variation_inventory\n",
            "50    907\n",
            "1     152\n",
            "2      81\n",
            "5      74\n",
            "3      52\n",
            "10     40\n",
            "4      25\n",
            "9      22\n",
            "6      18\n",
            "7      18\n",
            "20     16\n",
            "15     13\n",
            "17     11\n",
            "18     10\n",
            "49      9\n",
            "13      8\n",
            "29      7\n",
            "19      7\n",
            "25      7\n",
            "11      6\n",
            "8       6\n",
            "30      6\n",
            "46      6\n",
            "44      6\n",
            "14      5\n",
            "12      5\n",
            "36      4\n",
            "47      4\n",
            "43      4\n",
            "48      4\n",
            "41      4\n",
            "34      4\n",
            "35      4\n",
            "27      3\n",
            "45      3\n",
            "21      2\n",
            "37      2\n",
            "40      2\n",
            "26      2\n",
            "31      2\n",
            "38      2\n",
            "23      2\n",
            "28      2\n",
            "39      2\n",
            "24      1\n",
            "33      1\n",
            "22      1\n",
            "16      1\n",
            "Name: product_variation_inventory, dtype: int64\n",
            "------------------------\n",
            "shipping_option_name\n",
            "Livraison standard         1508\n",
            "Standard Shipping            21\n",
            "Envio Padrão                  9\n",
            "Expediere Standard            6\n",
            "Envío normal                  5\n",
            "الشحن القياسي                 4\n",
            "Standardowa wysyłka           3\n",
            "Standardversand               3\n",
            "Livraison Express             3\n",
            "Стандартная доставка          3\n",
            "Spedizione standard           2\n",
            "Standart Gönderi              2\n",
            "การส่งสินค้ามาตรฐาน           2\n",
            "ការដឹកជញ្ជូនតាមស្តង់ដារ       1\n",
            "Ekspresowa wysyłka            1\n",
            "Name: shipping_option_name, dtype: int64\n",
            "------------------------\n",
            "shipping_option_price\n",
            "2     619\n",
            "3     520\n",
            "1     308\n",
            "4      76\n",
            "5      32\n",
            "6      12\n",
            "7       5\n",
            "12      1\n",
            "Name: shipping_option_price, dtype: int64\n",
            "------------------------\n",
            "shipping_is_express\n",
            "0    1569\n",
            "1       4\n",
            "Name: shipping_is_express, dtype: int64\n",
            "------------------------\n",
            "countries_shipped_to\n",
            "41     171\n",
            "43     170\n",
            "40     106\n",
            "38      76\n",
            "36      64\n",
            "      ... \n",
            "56       1\n",
            "107      1\n",
            "125      1\n",
            "66       1\n",
            "124      1\n",
            "Name: countries_shipped_to, Length: 94, dtype: int64\n",
            "------------------------\n",
            "inventory_total\n",
            "50    1563\n",
            "2        2\n",
            "1        1\n",
            "9        1\n",
            "37       1\n",
            "36       1\n",
            "24       1\n",
            "38       1\n",
            "30       1\n",
            "40       1\n",
            "Name: inventory_total, dtype: int64\n",
            "------------------------\n",
            "has_urgency_banner\n",
            "1.0    473\n",
            "Name: has_urgency_banner, dtype: int64\n",
            "------------------------\n",
            "urgency_text\n",
            "Quantité limitée !                  472\n",
            "Réduction sur les achats en gros      1\n",
            "Name: urgency_text, dtype: int64\n",
            "------------------------\n",
            "origin_country\n",
            "CN    1516\n",
            "US      31\n",
            "VE       5\n",
            "SG       2\n",
            "GB       1\n",
            "AT       1\n",
            "Name: origin_country, dtype: int64\n",
            "------------------------\n",
            "merchant_title\n",
            "guangzhouweishiweifushiyouxiangongsi        15\n",
            "Suyi Technology                             12\n",
            "sjhdstoer                                    9\n",
            "shuilingjiao international trade company     8\n",
            "Cenic Beauty                                 8\n",
            "                                            ..\n",
            "yuhang081899                                 1\n",
            "Ruihong Home&Garden Co.,ltd                  1\n",
            "liudandan28652                               1\n",
            "HillnTrees                                   1\n",
            "lkwelyly                                     1\n",
            "Name: merchant_title, Length: 958, dtype: int64\n",
            "------------------------\n",
            "merchant_name\n",
            "广州唯适唯服饰有限公司                    15\n",
            "greatexpectationstechnology    12\n",
            "sjhdstoer                       9\n",
            "cenicbeauty                     8\n",
            "sangboostore                    8\n",
            "                               ..\n",
            "yuhang081899                    1\n",
            "ruihonghomegardencoltd          1\n",
            "liudandan28652                  1\n",
            "hillntrees                      1\n",
            "hey1827                         1\n",
            "Name: merchant_name, Length: 957, dtype: int64\n",
            "------------------------\n",
            "merchant_info_subtitle\n",
            "83 % avis positifs (32,168 notes)    14\n",
            "86 % avis positifs (12,309 notes)    11\n",
            "87 % avis positifs (42,919 notes)     8\n",
            "85 % avis positifs (80,093 notes)     7\n",
            "84 % avis positifs (5,654 notes)      6\n",
            "                                     ..\n",
            "77 % avis positifs (849 notes)        1\n",
            "82 % avis positifs (870 notes)        1\n",
            "90 % avis positifs (6,033 notes)      1\n",
            "(12,913 notes)                        1\n",
            "87 % avis positifs (1,086 notes)      1\n",
            "Name: merchant_info_subtitle, Length: 1058, dtype: int64\n",
            "------------------------\n",
            "merchant_rating_count\n",
            "32168    15\n",
            "12309    12\n",
            "80093     9\n",
            "88193     8\n",
            "10600     8\n",
            "         ..\n",
            "5807      1\n",
            "8443      1\n",
            "2212      1\n",
            "8397      1\n",
            "1086      1\n",
            "Name: merchant_rating_count, Length: 917, dtype: int64\n",
            "------------------------\n",
            "merchant_rating\n",
            "3.884544    15\n",
            "4.045170    12\n",
            "4.006692     9\n",
            "3.867547     8\n",
            "4.105967     8\n",
            "            ..\n",
            "3.937343     1\n",
            "3.829268     1\n",
            "4.109024     1\n",
            "4.303985     1\n",
            "4.056169     1\n",
            "Name: merchant_rating, Length: 952, dtype: int64\n",
            "------------------------\n",
            "merchant_id\n",
            "558c2cdc89d53c4005ea2920    15\n",
            "5acaf29d5ebcfd72403106a8    12\n",
            "583138b06339b410ab9663ec     9\n",
            "5533c83986ff95173dc017d0     8\n",
            "564d8a9ac0f55a1276cd96f8     8\n",
            "                            ..\n",
            "5b7ecbfa7956ef54b750df16     1\n",
            "5950d54a4b913a1174a7ae6d     1\n",
            "5b6935c0a1fdaa1dba5a4cd4     1\n",
            "5700e2be27992f63cdca2dca     1\n",
            "5c6d6c28619caa1d94891d06     1\n",
            "Name: merchant_id, Length: 958, dtype: int64\n",
            "------------------------\n",
            "merchant_has_profile_picture\n",
            "0    1347\n",
            "1     226\n",
            "Name: merchant_has_profile_picture, dtype: int64\n",
            "------------------------\n",
            "merchant_profile_picture\n",
            "https://s3-us-west-1.amazonaws.com/sweeper-production-merchantimage/dp_5acaf29d5ebcfd72403106a8.jpg    12\n",
            "https://s3-us-west-1.amazonaws.com/sweeper-production-merchantimage/dp_5533c83986ff95173dc017d0.jpg     8\n",
            "https://s3-us-west-1.amazonaws.com/sweeper-production-merchantimage/dp_58ad449708de0c6dc59d9e06.jpg     6\n",
            "https://s3-us-west-1.amazonaws.com/sweeper-production-merchantimage/dp_55c8a4c33a698c6010edcd9e.jpg     6\n",
            "https://s3-us-west-1.amazonaws.com/sweeper-production-merchantimage/dp_577fb2b368116418674befd9.jpg     5\n",
            "                                                                                                       ..\n",
            "https://s3-us-west-1.amazonaws.com/sweeper-production-merchantimage/dp_58a3f270e269ee522580e6bb.jpg     1\n",
            "https://s3-us-west-1.amazonaws.com/sweeper-production-merchantimage/dp_547465748edcfa6ceab14f70.jpg     1\n",
            "https://s3-us-west-1.amazonaws.com/sweeper-production-merchantimage/dp_56db028b3a9cb801c374b3c6.jpg     1\n",
            "https://s3-us-west-1.amazonaws.com/sweeper-production-merchantimage/dp_56680c90e363a3613607ea61.jpg     1\n",
            "https://s3-us-west-1.amazonaws.com/sweeper-production-merchantimage/dp_5440df5815133758cf40f1e3.jpg     1\n",
            "Name: merchant_profile_picture, Length: 125, dtype: int64\n",
            "------------------------\n",
            "theme\n",
            "summer    1573\n",
            "Name: theme, dtype: int64\n",
            "------------------------\n",
            "crawl_month\n",
            "2020-08    1573\n",
            "Name: crawl_month, dtype: int64\n",
            "------------------------\n",
            "id\n",
            "272    1\n",
            "334    1\n",
            "428    1\n",
            "640    1\n",
            "498    1\n",
            "      ..\n",
            "838    1\n",
            "711    1\n",
            "550    1\n",
            "280    1\n",
            "196    1\n",
            "Name: id, Length: 1573, dtype: int64\n",
            "------------------------\n"
          ]
        }
      ],
      "source": [
        "#Check detailed details in each column like number of values\n",
        "for column in range(df_train.shape[1]):\n",
        "    print(df_train.columns[column])\n",
        "    print(df_train[df_train.columns[column]].value_counts())    \n",
        "    print(\"------------------------\")"
      ]
    },
    {
      "cell_type": "markdown",
      "metadata": {
        "id": "eMKrmtkz2NaJ"
      },
      "source": [
        "**Notice:** from this detailed information, It seems There are some features not important like 'id', merchant_title', 'merchant_name', will not affect rating of user.\n",
        "\n",
        "---\n",
        "['merchant_profile_picture'] has alot of missing data so I will drop them\n",
        "\n",
        "---\n",
        "['rating'] has vslue = 6 and From above we don't have rating above 5, So we have to drop or replace this value with 5\n",
        "\n",
        "---\n",
        "['merchant_has_profile_picture'] We don't need this column bacause of alot of 0 values comparing to 1 values\n",
        "\n",
        "---\n",
        "['rating_count'] User doesn't matter with other experience, so I will drop it\n",
        "\n",
        "\n",
        "\n"
      ]
    },
    {
      "cell_type": "code",
      "execution_count": null,
      "metadata": {
        "colab": {
          "base_uri": "https://localhost:8080/"
        },
        "id": "DCpRvGUxiVJy",
        "outputId": "9712fac4-00e2-46f3-8c98-a3b21ab24d2a"
      },
      "outputs": [
        {
          "name": "stdout",
          "output_type": "stream",
          "text": [
            "[]\n"
          ]
        }
      ],
      "source": [
        "# Check highly correlated features - Correlation\n",
        "cor_matrix = df_train.corr().abs()\n",
        "upper_tri = cor_matrix.where(np.triu(np.ones(cor_matrix.shape),k=1).astype(bool))\n",
        "to_drop = [column for column in upper_tri.columns if any(upper_tri[column] > 0.95)]\n",
        "print(to_drop)"
      ]
    },
    {
      "cell_type": "markdown",
      "metadata": {
        "id": "87gy5Ogk2CP1"
      },
      "source": [
        "**notice**: which means there are no pairs of features with a correlation coefficient greater than 0.95"
      ]
    },
    {
      "cell_type": "code",
      "execution_count": null,
      "metadata": {
        "colab": {
          "base_uri": "https://localhost:8080/"
        },
        "id": "xZEIN0WCSrWr",
        "outputId": "68d27fc3-a208-4e3f-f864-222e43d84de0"
      },
      "outputs": [
        {
          "name": "stdout",
          "output_type": "stream",
          "text": [
            "['keepahorse' '上海铭启电气科技有限公司' 'zhaodongmei' 'pookie0331'\n",
            " 'shitongyi12683626' 'pashesa' 'shenzhenfinejofashioncoltd'\n",
            " 'xiakeliuxingfushi' 'leescloset' 'litiannetworking' 'dududustore'\n",
            " 'redisland' 'fancykiniwardrobe' 'toplifeyouneed' 'jununearstore'\n",
            " 'huanjun411' 'hzxuch' 'zufanqiudinli' 'hellohorse' 'zengdaitao'\n",
            " 'kinziewoolshop' 'vvfashion2016' 'fashionbelts' 'liminny' 'llpp'\n",
            " 'gaoying666300' 'ahaashop' 'zhuangyuping1' 'liveupp' 'mansocean'\n",
            " 'prosehome' 'happygirlinternationalshoppingpark' 'persisttree'\n",
            " 'aqlangweigarmentstradingcoltd' 'raverks' '公狼电子'\n",
            " 'chentidalcurrentclothing' 'good999' 'youngsboutique'\n",
            " 'shuilingjiaointernationaltradecompany' 'cjinxiang' 'memo2' 'xvsivo7412'\n",
            " 'masacoltd' nan 'nalininternational' 'longming' 'lionmouse' 'chailing'\n",
            " 'yellowstore' 'girlsshowtime' 'mattolivo' 'yanzhang198411'\n",
            " 'sellbestqualitygoods' 'molesfashion' 'harunoutanail' '广州唯适唯服饰有限公司'\n",
            " 'qb_fashion' 'yshsbjj' 'homeaccessoryinternational' 'fashionhappyworld'\n",
            " 'langwei' 'hongyuli' 'soband' 'cp7438' 'cuiior' 'lilianjie' 'taishon'\n",
            " 'aklovers' 'guangzhouchannytradecoltd' 'greatexpectationstechnology'\n",
            " 'snowgirl' 'elisa2' 'cgyhapy' 'ashleyjohnson' 'xiaoya888'\n",
            " 'truthustrading' 'happykidsshop' 'lumeizi' 'lazzyshop' 'sklioppp'\n",
            " 'mestore' 'salmophee' 'hellofashionstore' '龙飞凤舞' 'wulifange' 'linsongda'\n",
            " 'witkeybl' 'szglobefashionworld' 'rtgh710402e4b24511e6b69106d0c1a90220'\n",
            " 'facingthesea' 'lirenlanfan' 'xindistore' 'luojiayushop' 'onlyzy'\n",
            " 'shoes4u' 'liliyuanxi' 'sankutoy20' 'yiliannvhai' 'ligen' 'mengyongqi'\n",
            " 'happyhoststore' 'unnistore' 'hillntrees' 'ruihonghomegardencoltd'\n",
            " 'yuhang081899' 'ifyou521' 'juxinchengxiu' 'unlimitedretaliation'\n",
            " 'langweigarmentstradingcoltd' 'szltht999' 'groceryinternational'\n",
            " 'theleisurepavilion' 'puzhengxing' 'fengshangtrade' 'fashionshow'\n",
            " 'mimily' 'kallyett' 'hqmall' 'galowtew' 'hxt520'\n",
            " 'wangxiaoxiadexiaoxingyun' 'chuxinmile' 'schmuckdesignonline' 'besagift'\n",
            " 'lovexi' 'sjhdstoer' 'longfengjixiang168' 'chaoyang_yangjianfa' 'cyb654'\n",
            " 'eleveninternational' 'arashi' 'longfashionmail' 'crystalhousee' 'zoufei'\n",
            " 'hanzhy' 'vactorybuy' 'fengjinying' 'terbuer' '新生' 'wuguipanwei2016'\n",
            " 'bluesky1' 'caeagle' 'listone' 'asyouwill' 'xmzmall' 'xonyaly' 'gdear'\n",
            " 'ashleygo' 'thisisapairofeyesthatyoufind' 'zhaojinghui' 'lqyaim'\n",
            " 'shaomengna' 'benna' '常州泽然商贸有限公司' 'xiaomi' 'sangboostore' 'myunxiaodian'\n",
            " 'lanniesdesign' 'beautylook' 'fenghuang1' 'bethaz19' 'sweetkissfashion'\n",
            " 'wisetqw' 'lishanshan78wgv' 'aristotle' 'shanghaipangaotradingcoltd'\n",
            " 'hechuang1001' 'skate' 'yutongastoreb35802d0b32a11e78fe3029482618fb8'\n",
            " 'liuxiaojun' 'newstyle' 'goddessbeauty' 'recherchesg' 'xingle'\n",
            " '10daysdelivery' 'sarahouse' 'happybest' 'cenicbeauty' 'wowbang'\n",
            " 'gettrendy' 'zhenyangongyequ7766' 'longlongchenchen' 'velocitee'\n",
            " 'pwiuxuus' 'spy89ping163com'\n",
            " 'bazaretsaintfrusquinc81f273ad6c611e5aa81062170e5f359' 'maxiaoxu'\n",
            " 'wangdandanshixiaoniao' 'saya2016' 'zhouzhilong' 'fy251' 'legeit'\n",
            " 'cornflower' 'melantha' 'gl' 'allenfan' 'primesalecolimited'\n",
            " 'guanzhiming44553' 'xiaohuagogogo' 'fashiontasteoflife' 'naturalcolor'\n",
            " 'zhuoyi' 'jjqiiozoqv' 'meiximeiyo' 'yiwuelectronicinternational'\n",
            " 'baixuea' 'uiritnkdr' 'shadesdarker' 'shenzhendcrtechnologycoltd'\n",
            " 'higheight' 'jingka' 'owiner' 'lovemom' 'xidan1949' 'denasfashion'\n",
            " 'jinqianbao888' 'styou' 'shopwnmon' 'maryswill' '义乌市丰岐电子商务有限公司'\n",
            " 'guangzhoufashiongirlcoltd' 'tianjianyingfeng' 'chaoyang_lizhen'\n",
            " 'bushangfushi' 'zaitaowanggou' 'liufengjiao' 'usamall' 'silveres_9'\n",
            " 'dawtgkaopai' 'saulstore' 'jayne208' 'adreaboutique' 'lindieduxin'\n",
            " 'demangofashionsports' 'xinemengbianli' 'dadaclothes'\n",
            " 'thenicemenfineleathergoods' 'htaassw' 'lixingongyuan' 'yangshaokuei6688'\n",
            " 'oneshopp' 'betterinterestingshop' 'flireycoltd' 'leemin' 'zuilangmands'\n",
            " '深圳贸易服装店' 'logrenvu' 'meno1' 'zhuhongyushop'\n",
            " 'smarthomeinternationalcoltd' 'shishaokang' 'dsviefashion'\n",
            " 'guangzhouxinguangcoltd' 'hesperis' 'pumpkincarriages'\n",
            " 'hangzhoulangweigarmentfactory' 'wenjd_415' 'caishuiwang' 'pedeska'\n",
            " 'kkksport' 'sophiepretty' 'ouchocoltd' 'linpingstore' 'xiaoyanllrp'\n",
            " 'qwe520' 'luckyfatrendshoes' 'lyxljcktwsjtzwlstore' 'ouyangli'\n",
            " 'yuanhuaxiaodaian' 'beauty_baby_baby' 'pentiumhorse' 'middcoltd'\n",
            " 'beihaidaofj' 'wushein' 'tongxiao' 'eatluncher' 'huaxianglarou'\n",
            " 'alabaostore' 'chuanpu' 'shenzhenlianbotongshicoltd'\n",
            " 'dmtianjinnetworktechnologycoltd01' '深圳服装贸易有限公司店铺' 'mermaidpainting'\n",
            " 'tingshen' 'anglexia' 'zhangj' 'zekaistore666' 'wakeupchildhoodmemories'\n",
            " 'zzxia' 'longfashionstores' 'hgcxdcxcc' 'yuandatechnology' 'szlcgc777'\n",
            " 'f40051ab1zhong9' 'centper3' 'lalalafash' 'xuzhen' 'xiaojun579'\n",
            " 'zanzeafashion' 'shenzhenlongdragontechnologycoltd'\n",
            " 'ningboyingshiguojimaoyiyouxiangongsi' 'zengyiceng520' 'zhuangxiuhuang'\n",
            " 'aishoumat' 'anqiyila' 'beesflyingbutterfly' 'butgood' 'yuanshangmao'\n",
            " 'laibingozhiwei' 'citizenrepublk' 'huyanggood' 'pandolahapparelcoltd'\n",
            " 'champion_28' 'xbxiaodian' 'ourdress' 'mawenru646' 'totototomarket'\n",
            " 'yubenqiang' 'wenj498' 'yongxiastore' 'jhjuhao'\n",
            " 'hongkonghaijietradecolimited' 'chooop'\n",
            " 'heqiongdianabe4691a1a7b11e6be88063a14dc88b5' 'gimi06' 'williamjack'\n",
            " 'zgrdejia' 'blessua' 'sunshineinyoueyes' 'seaboy2' 'hotdress' 'hehaiyan'\n",
            " 'wwenliping' 'yourvogue' 'caohongbo' '福州市仓山区天途文化传播有限公司' 'yywcom'\n",
            " 'bumanke003' 'forloveyou' 'ahighqlty' 'wifehome' 'zanzeaofficialstore'\n",
            " 'fengguijieshop' 'weirdbeauty' 'kokoyesinternationalgroup' 'caogao'\n",
            " 'maxnina' 'happydags' 'womenwardrobeappareltradecoltd' 'xuezhongfei'\n",
            " 'xiaotianxunxin' 'lili1' 'honestfashionshopping' 'wanguanqiuxi'\n",
            " 'bigcompany' '211670008qqcom' 'lianhaiqin' 'shenzhenjnhcoltd' 'hellocome'\n",
            " 'shanghailalanginternationaltradecoltd' 'enjoythesunshine' '泷翔' 'wuewi'\n",
            " 'arthumcco' 'gaomeigui' 'shufangyunyingdian' 'zcmp' 'mermaidskiss'\n",
            " 'amoyfashion' 'zanglixia555' 'eeeeffff889966' 'fashionicon365'\n",
            " 'jutaotrading' 'yanxiahome' 'qiaoqiao1053' 'sonick' '潮客来欢喜商铺'\n",
            " 'yuanchentrade' 'ahadadada' 'thewolfcome' 'tiefanye' 'ooww' 'szshi886wei'\n",
            " 'stayflyskate' 'chaojishanghu' 'taizi' 'shirely_store' 'liuyaling66058'\n",
            " 'foryingni' 'cyh888' 'charmyaner' 'zhongling695847' 'aa388ps'\n",
            " 'kaiqiangmaoyi' 'taomigogo' 'hufscfshkuhjdfs' 'shoppingsharing' '深圳小商铺'\n",
            " 'josephineo' 'yuanzhengshop' 'huaracheairfactory' 'shipping666'\n",
            " 'xiangbuxiangdoude' 'zios' 'uncledrew' '顶级婆娘' 'uiuieornt'\n",
            " 'elimfashionstore' 'beaufullife2017' 'highspring' 'smoeyakio'\n",
            " 'cxuelin99126' 'zjyuanhang1' 'zengzhaoti' 'wf06' 'loft415' '公狼网络科技有限公司'\n",
            " 'johnson007' 'lovefashionshow' 'xiaoxia0914' 'fuzhe622' 'no1fashions'\n",
            " 'jiayunshop' 'huizhoumingmaoyi' 'liwenjuanfashionstore'\n",
            " 'yiwushiaohangdianzishangwuyouxiangongsi' '008fashion' 'yinghongstore'\n",
            " 'premiumfa' 'yangrenyun' 'suzhure' 'mayuhiao' 'aiqianxiege'\n",
            " 'grocerystory' 'bebebebeworld' 'fannystore2016' 'lihengchen' 'modai'\n",
            " 'mohuya' 'anhonortoserve' 'wrongturn' 'lianhanming369' 'happyhorses'\n",
            " 'liuxuelian123' 'kuailem' 'yxz888' 'simplyspell' 'pethasboutique'\n",
            " 'summernights' 'long41' 'beautifulangelfashionstore' 'surperboutique'\n",
            " 'baijupingshop' 'ruoqiongshop' 'idooryou' 'hehshop' '浩皇升' 'makingsuper'\n",
            " 'fengzhiqiang' 'mycroft' 'rellmail' 'fashionshowstyle' 'jqhainabaichuan'\n",
            " 'paoyeye' 'csfsegdd' 'jihuashishang' 'panemily' 'sunsugar' 'memento'\n",
            " 'dengqinghuaok' 'teamwolf' 'houxiandaili' 'fashionstore0408'\n",
            " 'margotmissyouencounter' 'kyiswen' 'yangaiqun' 'charming_family'\n",
            " 'supersupermarket' 'failaimitoys' 'meifengbras'\n",
            " 'jingduinternationaltrading' 'speedclothes' 'xinshengangcai'\n",
            " 'treasureland' 'liuani' 'leiston' '杭州酷仑服饰有限公司' '2ist'\n",
            " 'hangzhoulangweiclothescoltd' 'sweatmoly' 'biaoqing' 'zoushoujintmiao'\n",
            " 'bighero' 'yangminbao' 'aa321707' 'rosewiner' 'mlhaxzylgfashionstore'\n",
            " 'huashucoltd' 'ssshowsmart' 'ginawilliamson' 'gracestylefashionstore'\n",
            " 'chenqinq' 'ocean5for8zh' 'niuniuche' 'yutinomupoi' 'aishoppingmall'\n",
            " 'abcdyyy' 'starfactory' 'fangyin' 'szyyouth0102' 'seeyou' 'utoasportsout'\n",
            " 'suzhoulevercoltd' 'maxgoods' 'reyoun' 'junzhangxiezi' 'topmanclothing'\n",
            " 'superheros' 'oklfao' '云泉' 'linfashionstore' 'simple_style'\n",
            " 'liudandan28652' 'purefashionltd' 'happyfeng' 'seraih' 'weilongs'\n",
            " 'successed' 'huajitoup' 'wushuangsciense' 'qiaopiaduxiu' '广州乔莎服饰有限公司'\n",
            " 'guifenunderwear' 'maylin1230' 'scomely' 'hcczhiqiang' 'mannika'\n",
            " 'luoweiclothe' 'uei635w' 'youngirls' 'supermanfashionstore' 'geichun'\n",
            " 'qslangweigarmentfactory' 'zhishukuaile' 'worlddeal' 'hwalee' 'sunnygee'\n",
            " 'sunsunxinxin' 'jiawang' 'wuanna' 'wang168' 'clothingloves'\n",
            " 'dexiaojiapin' 'meishu' 'rmslkfgylove' 'manystone91'\n",
            " 'zhtdxyscdymdgcstore' 'lostredfruit' 'lihongying12' 'dazzling_store'\n",
            " 'shanghaichaochaostore' 'powshew' 'hzlwgarmenttradingcoltd'\n",
            " 'supershoppingmart' 'huangyulanl' 'tingtingwang' 'heilnielmiw'\n",
            " 'singingthesong' 'shishishi' 'langsengy' 'nacylucy' 'hanziye1234'\n",
            " 'lucky726' 'yykeaid' 'songliling' 'newgate' 'chenhai1028'\n",
            " 'liliangyu151800' 'zhanghongxue' 'wdhdage' 'asmalltwistofsweetfruit'\n",
            " 'juybsabar' 'coaluss' 'jiutunhecimu'\n",
            " 'fjrwzy98ed40443cba11e8bd5f021e0c8040cc' 'hzruanyf' 'youthforever'\n",
            " 'qinjingjing2018' 'happinessmakerczycl' 'spearnaily' 'lfznb' 'papastees'\n",
            " 'kinnlty' 'liuzongbin369' 'iwannachange' 'shaoling01yang' 'lzara'\n",
            " 'xiejiatang' 'streetstyle' 'mazhiyong0602wg' 'planb' 'eirufjl' 'roserose'\n",
            " 'jmm926' 'mclinstore' 'yangyanyao' 'lihui258' 'feijituan'\n",
            " 'neellery9cd3a918dad411e5bd3a0274b988e369' 'libopeng' 'hoastlnen' 'zhice'\n",
            " 'qiuyu66058' 'linglingstore666' 'xiaoameiyou' 'wowomart' 'satisfy'\n",
            " 'emilylimited' 'apengzuishuai' '886806blw' '丰衣足包1' 'shopmeleeinc' 'ainiu'\n",
            " 'lingersun' 'fomalhautjewelry' 'dajuuzha' 'steelfular' 'stev5344'\n",
            " 'dadadabao' 'wxshop' 'keeptopinternational' 'anglesusan' 'duhan'\n",
            " 'horesenbestwellcomenbin' 'horliday' 'glambitiong' 'erissstore'\n",
            " 'yangboyang' 'cloudya' 'vibrance_boutique' 'smallspringx'\n",
            " 'honestyintegrity' 'fanxiaoying9470' 'skrt' 'yehuihui' 'yqlili666'\n",
            " 'angelxianv' 'yuzk' 'potatomarket' 'haoduoyichinamadequality'\n",
            " 'zhongminjun' 'huhaniu' 'bujizhan'\n",
            " 'uniquelifashionshopbb657bfe91d211e598c7063a14dc88b5'\n",
            " 'huabaoxuanhandicraftshop' 'modernhatshop' 'wangjiangxu' 'huanfeng'\n",
            " 'micronite' 'shenfashionstyle' 'sonvgfht' 'chenzhiqiang11'\n",
            " 'qianshanlangweitradingcoltd' 'weshamazoon' 'lichengfangshop'\n",
            " 'hotsummerr' 'highflagshipstore' '欣欣时尚装' 'trustlie' 'kaixindedian'\n",
            " 'zhengruirong' 'liulianbag' 'hgjkgk' 'spaklestar'\n",
            " 'guangzhouteamwintradingcoltd'\n",
            " 'chenxiaoxiao123d510cc6cbc6411e6889406a73363ddae' 'homestuff'\n",
            " 'fragrantshop' 'xiuzhenfashion' 'konheart' 'shelan' 'duoleh' 'ruxinggu'\n",
            " 'ataoios' 'yanfenglivingmuseum' 'xuhanwatchstore' 'sundaterly'\n",
            " 'chenyarushop' 'yanglingling' 'allofme' 'lixiangbo1515' 'zhangjian1234'\n",
            " 'huangxiaoyan2125' 'shangjing1012' 'renpingping' 'shixueying'\n",
            " 'zhenhaogouwuche' 'asige1122' 'xiaoguiling' 'wangflagfashion'\n",
            " 'tobeplayer' 'cmqshop' 'lianglinglingdian' 'liuxixi' 'mayone'\n",
            " 'xiujiestore' 'liaowangting' 'bridgeliushui' 'firstcrush' 'chentengying'\n",
            " 'gaowenxiao' 'taotaobeibei' 'zhihuigshop' 'speedup' 'zhoulinglinga'\n",
            " 'wslcwm' 'zhoukely' 'heyjudeflower' 'yingshengsu' 'jeansde' 'oizen'\n",
            " 'frome' '精进工贸' 'sangery' 'loveisabicth' 'wisefield' '520daiwenqishow'\n",
            " 'easymarket' 'weddingjewelrystore' 'brittany' '深圳小志商铺' 'wanghaoshop'\n",
            " 'comfy_life' 'zaamami' 'supumawallsticker' '王焕焕' 'simplevalueltd'\n",
            " 'llegaiyy' 'xiaojiunian' 'keidjur' 'sunshine754' 'excellentfashionstore'\n",
            " 'sdawmgeyy' 'fantastic_tune' 'zzbllss' 'oiug56465' 'liyang163' 'postonny'\n",
            " 'guangzhouchanny' 'jinveiskyqiong' 'agone' 'onestores' 'rensijing'\n",
            " 'zktradecoltd' 'quanyy25' 'freefly11' 'vemaneya' 'chunwanfusu'\n",
            " 'tanyaportillo' 'owlzaw' 'yiludamai' 'xiaoyueliang1' 'beautydesigner'\n",
            " 'huangchaoyishe' 'aidos' 'brendabear' 'huangdewen' 'huaisrysnbedclothes'\n",
            " 'modelup' 'zhaangyuu' 'miniwgs' 'cuetaes' 'alliswell118'\n",
            " 'zalarainbowsstore' '海涛涛名店' 'handsome_91' 'yuwenxiu' 'amzhangda85'\n",
            " 'yangxueqing' 'hallerail' 'ppwiiixoza' 'laohaodai' 'welline' 'tutishop'\n",
            " 'top1toyou' 'dongguanginternationnal' 'shenghuhouse' 'shishangfang'\n",
            " '冰河小店' 'skyblueshoping' 'hanqidress180' '007fashion' 'supardaily'\n",
            " 'buildingdreamyan' 'zhoupingastore' 'byebyebye' 'nanguoguan' 'smeercoltd'\n",
            " 'topsea' 'lizheng566' 'xmbmobileexperiencestore' 'wandonqiushuai'\n",
            " 'polyvoretradelimited' 'yulingh' 'mjbagsoutlet' 'balabobo' 'pinksnow'\n",
            " 'dream_studio' 'specialforyou_68' 'floraboutique' '2312hangm'\n",
            " 'yushimaoyi' 'luvda' 'mumofson'\n",
            " 'tinaglobalstored00e17e8d25111e7b653025b800a2048' 'williampollard'\n",
            " 'chaoyang' 'startradingcompany' 'blueberries' 'simorly' 'wufangzhong'\n",
            " 'liwlshop' 'songluping' 'newtop' 'lonly' 'vrshopping' 'wuruisky'\n",
            " 'jiedandan567' 'wuxinqiudress21076' 'yguo' 'kprusoian' 'seagull'\n",
            " '广州芊妮贸易有限公司' 'chentuyistore' 'jiangshanpu' 'kolesw' 'chillerty'\n",
            " 'guangzhouyangguang' 'knights' 'nmgyusj' 'shiyipanpan'\n",
            " 'womensfashionmakerinternational' 'zhaoyunyun' 'nidekeaiduo' 'nortinsam'\n",
            " 'xiaojubo' 'lianlie' 'zhouling1234' 'bodeng' 'xff' 'waitamoment'\n",
            " 'sweetfeeling' 'joystore' 'wenqiaoyouuoo' 'yuhkgmaal' '广州新昌国贸'\n",
            " 'liangdongjie' 'goodfortuneland' 'fashiononmywayup' '北京奥悦士科技有限公司'\n",
            " 'qysm6688' 'youngerstyle' 'zhangxiaoyunyun' 'ufeelme' '深圳市华衍贸易有限公司'\n",
            " 'choicstore' 'rainytradingcoltd' 'zongxindianziyouxiangongsi' 'chenkaili'\n",
            " 'markit' 'mantianliuyin' 'tomaintainagoodmoodisthegoodlife'\n",
            " 'alicadubecka' 'yangyanlinbh202' 'kongcanyhq3078' 'qtcjcc03'\n",
            " 'finingsysticker' 'mowomo' 'durax' 'pumpkin262012'\n",
            " 'linyiyoyoelectroniccommercecoltd' 'lin626079' '19miles' 'cvhart'\n",
            " 'lovemall' 'justlovemequella' 'mynewsoul' 'liumangtu123'\n",
            " 'hkdachangshengtradelimited' 'lidandanshop' 'sanshutradecoltd'\n",
            " 'liifashion' 'wonderful1688' 'luguolong333666' 'zhenxuan' 'cupminger'\n",
            " 'just_buy' 'lanbanwang' 'aplusworld' 'hanfangjingcuijingpin'\n",
            " 'congxiaolong' 'happyshoooping' 'feelyourrelax'\n",
            " 'unforgettablefashionstorefactoryprice' 'thesmallsstore' 'brucesky' 'kam'\n",
            " 'businessindustry' 'qian3462898' 'resonal' 'songsongzhao'\n",
            " 'newfashionshoppingpark' 'asinastore' 'jfdgdfhfyujtyre' 'yunanjie'\n",
            " 'guojinghao' 'colorfulromance' 'exingstore11' 'lxm545' 'kelecha1'\n",
            " 'yourfashion2016' 'letaoba' 'xixi520' 'happystreet' 'shanliangtrade'\n",
            " 'yz33' 'chinesestyle_gq' 'liushiqiangw222288888888' 'lifestage' 'praden'\n",
            " 'youlika' 'lycwang' 'kljolk' 'icescream' 'chenxiangjunjun' 'maozhuocai'\n",
            " 'fghetu' '英佐游臣专卖店' 'xulaiqingfen' 'qianshanlangweigarmentstradingcoltd'\n",
            " 'zhihuafashion' 'delamareglass' 'socrazyear' 'apgbeweh' 'zhaowenxiang'\n",
            " 'wenbao' 'dakaring' 'zhuanta1e' 'guangzhouideaecommercecoltd'\n",
            " 'minyuehuaiy9618' 'haoyouduooo' 'doubleboutique' '深圳市美丽乐购科技有限公司'\n",
            " 'qslangweigarmentstradingcoltd' 'wpzshop' 'hernadezyeli' 'hey1827']\n",
            "广州唯适唯服饰有限公司                    15\n",
            "greatexpectationstechnology    12\n",
            "sjhdstoer                       9\n",
            "cenicbeauty                     8\n",
            "sangboostore                    8\n",
            "                               ..\n",
            "yuhang081899                    1\n",
            "ruihonghomegardencoltd          1\n",
            "liudandan28652                  1\n",
            "hillntrees                      1\n",
            "hey1827                         1\n",
            "Name: merchant_name, Length: 957, dtype: int64\n"
          ]
        }
      ],
      "source": [
        "# Display the unique values in the column, and count of each unique value\n",
        "print(df_train.loc[:,'merchant_name'].unique())\n",
        "print(df_train.loc[:,'merchant_name'].value_counts())"
      ]
    },
    {
      "cell_type": "markdown",
      "metadata": {
        "id": "Td5iFEhI-FBY"
      },
      "source": [
        "**Notice**: ['merchant_name'] name will not affect user rating so drop it"
      ]
    },
    {
      "cell_type": "code",
      "execution_count": null,
      "metadata": {
        "id": "FX7QWQKFQsGu"
      },
      "outputs": [],
      "source": [
        "#df_train.loc[:,'currency_buyer'].unique()\n",
        "#df_train.loc[:,'currency_buyer'].value_counts()"
      ]
    },
    {
      "cell_type": "code",
      "execution_count": null,
      "metadata": {
        "id": "R3MtIp57Qw4t"
      },
      "outputs": [],
      "source": [
        "#df_train.loc[:,'tags'].unique()\n",
        "#df_train.loc[:,'tags'].value_counts()"
      ]
    },
    {
      "cell_type": "code",
      "execution_count": null,
      "metadata": {
        "id": "Bw0HOBG3BlZR"
      },
      "outputs": [],
      "source": [
        "#df_train.loc[:,'has_urgency_banner'].unique()\n",
        "#df_train['has_urgency_banner'].value_counts()"
      ]
    },
    {
      "cell_type": "code",
      "execution_count": null,
      "metadata": {
        "id": "idnrtD8MBmyW"
      },
      "outputs": [],
      "source": [
        "#df_train.loc[:,'merchant_has_profile_picture'].unique()\n",
        "#df_train.loc[:,'merchant_has_profile_picture'].value_counts()"
      ]
    },
    {
      "cell_type": "code",
      "execution_count": null,
      "metadata": {
        "colab": {
          "base_uri": "https://localhost:8080/"
        },
        "id": "xad_lbR6Szxe",
        "outputId": "5e069caf-6325-4e9d-aca8-1d20bc663370"
      },
      "outputs": [
        {
          "data": {
            "text/plain": [
              "guangzhouweishiweifushiyouxiangongsi        15\n",
              "Suyi Technology                             12\n",
              "sjhdstoer                                    9\n",
              "shuilingjiao international trade company     8\n",
              "Cenic Beauty                                 8\n",
              "                                            ..\n",
              "yuhang081899                                 1\n",
              "Ruihong Home&Garden Co.,ltd                  1\n",
              "liudandan28652                               1\n",
              "HillnTrees                                   1\n",
              "lkwelyly                                     1\n",
              "Name: merchant_title, Length: 958, dtype: int64"
            ]
          },
          "execution_count": 20,
          "metadata": {},
          "output_type": "execute_result"
        }
      ],
      "source": [
        "df_train.loc[:,'merchant_title'].unique()\n",
        "df_train.loc[:,'merchant_title'].value_counts()\n",
        "#title will not affect user rating so drop it"
      ]
    },
    {
      "cell_type": "code",
      "execution_count": null,
      "metadata": {
        "colab": {
          "base_uri": "https://localhost:8080/"
        },
        "id": "aqGA_abSQR5v",
        "outputId": "53f09087-b426-4b78-ede2-655bbf62733e"
      },
      "outputs": [
        {
          "data": {
            "text/plain": [
              "Livraison standard         1508\n",
              "Standard Shipping            21\n",
              "Envio Padrão                  9\n",
              "Expediere Standard            6\n",
              "Envío normal                  5\n",
              "الشحن القياسي                 4\n",
              "Standardowa wysyłka           3\n",
              "Standardversand               3\n",
              "Livraison Express             3\n",
              "Стандартная доставка          3\n",
              "Spedizione standard           2\n",
              "Standart Gönderi              2\n",
              "การส่งสินค้ามาตรฐาน           2\n",
              "ការដឹកជញ្ជូនតាមស្តង់ដារ       1\n",
              "Ekspresowa wysyłka            1\n",
              "Name: shipping_option_name, dtype: int64"
            ]
          },
          "execution_count": 21,
          "metadata": {},
          "output_type": "execute_result"
        }
      ],
      "source": [
        "df_train.loc[:,'shipping_option_name'].unique()\n",
        "df_train.loc[:,'shipping_option_name'].value_counts()\n",
        "# There are 1047 from 1093 just in Livraison so this column not important"
      ]
    },
    {
      "cell_type": "markdown",
      "metadata": {
        "id": "byuzA4mV-z7o"
      },
      "source": [
        "# Cleaning Data"
      ]
    },
    {
      "cell_type": "code",
      "execution_count": null,
      "metadata": {
        "colab": {
          "base_uri": "https://localhost:8080/"
        },
        "id": "W2ZW1_ez_1ue",
        "outputId": "c53b0a49-2ad8-4d59-9a83-698eefa2aa69"
      },
      "outputs": [
        {
          "data": {
            "text/plain": [
              "Index(['price', 'retail_price', 'currency_buyer', 'units_sold',\n",
              "       'uses_ad_boosts', 'rating', 'rating_count', 'badges_count',\n",
              "       'badge_local_product', 'badge_product_quality', 'badge_fast_shipping',\n",
              "       'tags', 'product_color', 'product_variation_size_id',\n",
              "       'product_variation_inventory', 'shipping_option_name',\n",
              "       'shipping_option_price', 'shipping_is_express', 'countries_shipped_to',\n",
              "       'inventory_total', 'has_urgency_banner', 'urgency_text',\n",
              "       'origin_country', 'merchant_title', 'merchant_name',\n",
              "       'merchant_info_subtitle', 'merchant_rating_count', 'merchant_rating',\n",
              "       'merchant_id', 'merchant_has_profile_picture',\n",
              "       'merchant_profile_picture', 'theme', 'crawl_month', 'id'],\n",
              "      dtype='object')"
            ]
          },
          "execution_count": 22,
          "metadata": {},
          "output_type": "execute_result"
        }
      ],
      "source": [
        "df_train.columns"
      ]
    },
    {
      "cell_type": "code",
      "execution_count": null,
      "metadata": {
        "id": "M0zTP-12_HVo"
      },
      "outputs": [],
      "source": [
        "# Drop columns that are unlikely to be useful in predicting product rating\n",
        "df_train.drop(columns=['shipping_is_express' , 'theme' , 'crawl_month',\n",
        "                       'has_urgency_banner','countries_shipped_to',\n",
        "                       'urgency_text','merchant_profile_picture',\n",
        "                       'inventory_total','currency_buyer','tags',\n",
        "                       'shipping_option_name','countries_shipped_to',\n",
        "                       'merchant_has_profile_picture','merchant_id','merchant_info_subtitle',\n",
        "                       'merchant_name','merchant_title','origin_country',\n",
        "                       'rating_count'],inplace=True)"
      ]
    },
    {
      "cell_type": "code",
      "execution_count": null,
      "metadata": {
        "colab": {
          "base_uri": "https://localhost:8080/"
        },
        "id": "qwY6JEjoCnqT",
        "outputId": "0f2bffce-e2fa-41f6-cb65-3fb0697e7629"
      },
      "outputs": [
        {
          "data": {
            "text/plain": [
              "Index(['price', 'retail_price', 'units_sold', 'uses_ad_boosts', 'rating',\n",
              "       'badges_count', 'badge_local_product', 'badge_product_quality',\n",
              "       'badge_fast_shipping', 'product_color', 'product_variation_size_id',\n",
              "       'product_variation_inventory', 'shipping_option_price',\n",
              "       'merchant_rating_count', 'merchant_rating', 'id'],\n",
              "      dtype='object')"
            ]
          },
          "execution_count": 24,
          "metadata": {},
          "output_type": "execute_result"
        }
      ],
      "source": [
        "df_train.columns"
      ]
    },
    {
      "cell_type": "code",
      "execution_count": null,
      "metadata": {
        "colab": {
          "base_uri": "https://localhost:8080/"
        },
        "id": "zxsyk53gItd8",
        "outputId": "e6d37942-c1dd-4b4d-b9e3-ec097279e78c"
      },
      "outputs": [
        {
          "data": {
            "text/plain": [
              "price                           127\n",
              "retail_price                    104\n",
              "units_sold                       15\n",
              "uses_ad_boosts                    2\n",
              "rating                            7\n",
              "badges_count                      4\n",
              "badge_local_product               2\n",
              "badge_product_quality             2\n",
              "badge_fast_shipping               2\n",
              "product_color                   101\n",
              "product_variation_size_id       106\n",
              "product_variation_inventory      48\n",
              "shipping_option_price             8\n",
              "merchant_rating_count           917\n",
              "merchant_rating                 952\n",
              "id                             1573\n",
              "dtype: int64"
            ]
          },
          "execution_count": 25,
          "metadata": {},
          "output_type": "execute_result"
        }
      ],
      "source": [
        "# Display count of unique values for each feature \n",
        "df_train.nunique()"
      ]
    },
    {
      "cell_type": "code",
      "execution_count": null,
      "metadata": {
        "colab": {
          "base_uri": "https://localhost:8080/"
        },
        "id": "DVuHLwv4Ne93",
        "outputId": "60c6fc80-19a0-4d74-fbc8-1b8e22603e3c"
      },
      "outputs": [
        {
          "data": {
            "text/plain": [
              "[]"
            ]
          },
          "execution_count": 26,
          "metadata": {},
          "output_type": "execute_result"
        }
      ],
      "source": [
        "df_train.columns[df_train.nunique()==1].tolist()"
      ]
    },
    {
      "cell_type": "code",
      "execution_count": null,
      "metadata": {
        "colab": {
          "base_uri": "https://localhost:8080/"
        },
        "id": "L2h_MFKjObCA",
        "outputId": "37d87eb5-4b20-4c19-ecac-589bde4f588f"
      },
      "outputs": [
        {
          "data": {
            "text/plain": [
              "Index(['price', 'retail_price', 'units_sold', 'uses_ad_boosts', 'rating',\n",
              "       'badges_count', 'badge_local_product', 'badge_product_quality',\n",
              "       'badge_fast_shipping', 'product_color', 'product_variation_size_id',\n",
              "       'product_variation_inventory', 'shipping_option_price',\n",
              "       'merchant_rating_count', 'merchant_rating', 'id'],\n",
              "      dtype='object')"
            ]
          },
          "execution_count": 27,
          "metadata": {},
          "output_type": "execute_result"
        }
      ],
      "source": [
        "# Display count of unique values for each feature \n",
        "df_train.columns"
      ]
    },
    {
      "cell_type": "code",
      "execution_count": null,
      "metadata": {
        "colab": {
          "base_uri": "https://localhost:8080/"
        },
        "id": "ylTN4gxWOxaR",
        "outputId": "0aef358c-6556-4eba-9749-d50ba1f36d76"
      },
      "outputs": [
        {
          "data": {
            "text/plain": [
              "price                          False\n",
              "retail_price                   False\n",
              "units_sold                     False\n",
              "uses_ad_boosts                 False\n",
              "rating                         False\n",
              "badges_count                   False\n",
              "badge_local_product            False\n",
              "badge_product_quality          False\n",
              "badge_fast_shipping            False\n",
              "product_color                   True\n",
              "product_variation_size_id       True\n",
              "product_variation_inventory    False\n",
              "shipping_option_price          False\n",
              "merchant_rating_count          False\n",
              "merchant_rating                False\n",
              "id                             False\n",
              "dtype: bool"
            ]
          },
          "execution_count": 28,
          "metadata": {},
          "output_type": "execute_result"
        }
      ],
      "source": [
        "df_train.isna().any()\n"
      ]
    },
    {
      "cell_type": "markdown",
      "metadata": {
        "id": "PAqLRosfApvu"
      },
      "source": [
        "## Rating"
      ]
    },
    {
      "cell_type": "code",
      "execution_count": null,
      "metadata": {
        "colab": {
          "base_uri": "https://localhost:8080/"
        },
        "id": "haEh1R_3Gui0",
        "outputId": "21ec1f0c-86e9-4963-eb40-69bcc0fb05db"
      },
      "outputs": [
        {
          "data": {
            "text/plain": [
              "4.0    774\n",
              "0.0    479\n",
              "5.0    170\n",
              "3.0    135\n",
              "2.0     12\n",
              "1.0      2\n",
              "6.0      1\n",
              "Name: rating, dtype: int64"
            ]
          },
          "execution_count": 29,
          "metadata": {},
          "output_type": "execute_result"
        }
      ],
      "source": [
        "df_train[\"rating\"].value_counts()"
      ]
    },
    {
      "cell_type": "code",
      "execution_count": null,
      "metadata": {
        "id": "Jku90WtqG6U3"
      },
      "outputs": [],
      "source": [
        "df_train[\"rating\"].isnull().sum()\n",
        "df_train[\"rating\"]=df_train[\"rating\"].replace(6,5)"
      ]
    },
    {
      "cell_type": "code",
      "execution_count": null,
      "metadata": {
        "id": "LIGbLr3V8mKb"
      },
      "outputs": [],
      "source": [
        "# We don't need 'rating==6' value\n",
        "# df_train[df_train['rating']==6]  #df_train = df_train[df_train['rating'] != 6] "
      ]
    },
    {
      "cell_type": "code",
      "execution_count": null,
      "metadata": {
        "id": "QkUcax1UH0cl"
      },
      "outputs": [],
      "source": [
        "#Now Drop it using index number\n",
        "# df_train.drop(axis=0,index=971, inplace=True)\n",
        "# Drop rows in Rating columns when == 6  --- df_train = df_train[df_train['rating'] != 6] "
      ]
    },
    {
      "cell_type": "code",
      "execution_count": null,
      "metadata": {
        "colab": {
          "base_uri": "https://localhost:8080/"
        },
        "id": "lrwctwEjIDHL",
        "outputId": "62af44d0-63b7-4672-a47a-cbff02ee621c"
      },
      "outputs": [
        {
          "data": {
            "text/plain": [
              "4.0    774\n",
              "0.0    479\n",
              "5.0    171\n",
              "3.0    135\n",
              "2.0     12\n",
              "1.0      2\n",
              "Name: rating, dtype: int64"
            ]
          },
          "execution_count": 33,
          "metadata": {},
          "output_type": "execute_result"
        }
      ],
      "source": [
        "df_train[\"rating\"].value_counts()"
      ]
    },
    {
      "cell_type": "markdown",
      "metadata": {
        "id": "5Q_XKdJ52nN1"
      },
      "source": [
        "## product_color"
      ]
    },
    {
      "cell_type": "code",
      "execution_count": null,
      "metadata": {
        "colab": {
          "base_uri": "https://localhost:8080/"
        },
        "id": "kzqK8Dophpce",
        "outputId": "43fa07f4-5a3b-4a81-ef62-8ad4b84d7444"
      },
      "outputs": [
        {
          "data": {
            "text/plain": [
              "41"
            ]
          },
          "execution_count": 34,
          "metadata": {},
          "output_type": "execute_result"
        }
      ],
      "source": [
        "df_train['product_color'].isnull().sum()"
      ]
    },
    {
      "cell_type": "code",
      "execution_count": null,
      "metadata": {
        "colab": {
          "base_uri": "https://localhost:8080/"
        },
        "id": "Y88GoVxsiKQ9",
        "outputId": "b2aa5849-f1c8-4c10-c182-48a5b16597d7"
      },
      "outputs": [
        {
          "data": {
            "text/plain": [
              "array(['yellow', 'black', 'white', 'lakeblue', 'apricot', 'brown',\n",
              "       'winered', 'blue', 'red', 'navyblue', 'green', 'khaki', 'White',\n",
              "       'white & green', 'multicolor', 'lightpink', 'pink', 'RED',\n",
              "       'armygreen', 'lightblue', nan, 'coffee', 'grey', 'skyblue',\n",
              "       'watermelonred', 'pink & black', 'whitefloral', 'purple', 'navy',\n",
              "       'pink & white', 'rosered', 'orange', 'Black', 'mintgreen',\n",
              "       'leopardprint', 'gray', 'navy blue', 'star', 'rose', 'lightyellow',\n",
              "       'camouflage', 'black & yellow', 'whitestripe', 'navyblue & white',\n",
              "       'black & blue', 'lightred', 'violet', 'gold', 'black & green',\n",
              "       'white & black', 'burgundy', 'black & white', 'lightgrey',\n",
              "       'coolblack', 'lightgreen', 'beige', 'darkblue', 'darkgreen',\n",
              "       'silver', 'wine red', 'Army green', 'pink & blue', 'rainbow',\n",
              "       'claret', 'floral', 'brown & yellow', 'light green', 'Pink',\n",
              "       'blue & pink', 'dustypink', 'camel', 'orange-red', 'rosegold',\n",
              "       'ivory', 'fluorescentgreen', 'winered & yellow', 'offwhite',\n",
              "       'lightgray', 'wine', 'army', 'applegreen', 'nude', 'pink & grey',\n",
              "       'Rose red', 'denimblue', 'blackwhite', 'Blue', 'leopard',\n",
              "       'coralred', 'tan', 'orange & camouflage', 'army green', 'offblack',\n",
              "       'jasper', 'white & red', 'red & blue', 'greysnakeskinprint',\n",
              "       'lightpurple', 'black & stripe', 'lightkhaki', 'prussianblue',\n",
              "       'gray & white'], dtype=object)"
            ]
          },
          "execution_count": 35,
          "metadata": {},
          "output_type": "execute_result"
        }
      ],
      "source": [
        "df_train['product_color'].unique()"
      ]
    },
    {
      "cell_type": "code",
      "execution_count": null,
      "metadata": {
        "colab": {
          "base_uri": "https://localhost:8080/"
        },
        "id": "nlfHe_57jW6G",
        "outputId": "89e39cf6-6c40-40de-ae0a-3407e4964c2f"
      },
      "outputs": [
        {
          "data": {
            "text/plain": [
              "black               302\n",
              "white               254\n",
              "yellow              105\n",
              "blue                 99\n",
              "pink                 99\n",
              "                   ... \n",
              "navyblue & white      1\n",
              "winered & yellow      1\n",
              "offwhite              1\n",
              "lightgray             1\n",
              "gray & white          1\n",
              "Name: product_color, Length: 101, dtype: int64"
            ]
          },
          "execution_count": 36,
          "metadata": {},
          "output_type": "execute_result"
        }
      ],
      "source": [
        "df_train['product_color'].value_counts()"
      ]
    },
    {
      "cell_type": "code",
      "execution_count": null,
      "metadata": {
        "id": "3HT2I8j5icWj"
      },
      "outputs": [],
      "source": [
        "df_train['product_color'] = df_train['product_color'].str.lower()"
      ]
    },
    {
      "cell_type": "code",
      "execution_count": null,
      "metadata": {
        "colab": {
          "base_uri": "https://localhost:8080/"
        },
        "id": "WvJbd2JfjDLo",
        "outputId": "9e4e91d1-8e90-44f5-8704-737c1167829a"
      },
      "outputs": [
        {
          "data": {
            "text/plain": [
              "array(['yellow', 'black', 'white', 'lakeblue', 'apricot', 'brown',\n",
              "       'winered', 'blue', 'red', 'navyblue', 'green', 'khaki',\n",
              "       'white & green', 'multicolor', 'lightpink', 'pink', 'armygreen',\n",
              "       'lightblue', nan, 'coffee', 'grey', 'skyblue', 'watermelonred',\n",
              "       'pink & black', 'whitefloral', 'purple', 'navy', 'pink & white',\n",
              "       'rosered', 'orange', 'mintgreen', 'leopardprint', 'gray',\n",
              "       'navy blue', 'star', 'rose', 'lightyellow', 'camouflage',\n",
              "       'black & yellow', 'whitestripe', 'navyblue & white',\n",
              "       'black & blue', 'lightred', 'violet', 'gold', 'black & green',\n",
              "       'white & black', 'burgundy', 'black & white', 'lightgrey',\n",
              "       'coolblack', 'lightgreen', 'beige', 'darkblue', 'darkgreen',\n",
              "       'silver', 'wine red', 'army green', 'pink & blue', 'rainbow',\n",
              "       'claret', 'floral', 'brown & yellow', 'light green', 'blue & pink',\n",
              "       'dustypink', 'camel', 'orange-red', 'rosegold', 'ivory',\n",
              "       'fluorescentgreen', 'winered & yellow', 'offwhite', 'lightgray',\n",
              "       'wine', 'army', 'applegreen', 'nude', 'pink & grey', 'rose red',\n",
              "       'denimblue', 'blackwhite', 'leopard', 'coralred', 'tan',\n",
              "       'orange & camouflage', 'offblack', 'jasper', 'white & red',\n",
              "       'red & blue', 'greysnakeskinprint', 'lightpurple',\n",
              "       'black & stripe', 'lightkhaki', 'prussianblue', 'gray & white'],\n",
              "      dtype=object)"
            ]
          },
          "execution_count": 38,
          "metadata": {},
          "output_type": "execute_result"
        }
      ],
      "source": [
        "df_train['product_color'].unique()"
      ]
    },
    {
      "cell_type": "code",
      "execution_count": null,
      "metadata": {
        "colab": {
          "base_uri": "https://localhost:8080/"
        },
        "id": "f8kO1LDyYWeX",
        "outputId": "366d8bfe-4204-4b19-9d59-51f4548e0d94"
      },
      "outputs": [
        {
          "data": {
            "text/plain": [
              "black               305\n",
              "white               257\n",
              "yellow              105\n",
              "pink                101\n",
              "blue                100\n",
              "                   ... \n",
              "gold                  1\n",
              "winered & yellow      1\n",
              "offwhite              1\n",
              "lightgray             1\n",
              "gray & white          1\n",
              "Name: product_color, Length: 95, dtype: int64"
            ]
          },
          "execution_count": 39,
          "metadata": {},
          "output_type": "execute_result"
        }
      ],
      "source": [
        "df_train['product_color'].value_counts()"
      ]
    },
    {
      "cell_type": "code",
      "execution_count": null,
      "metadata": {
        "id": "B9gwsLBNvrCS"
      },
      "outputs": [],
      "source": [
        " df_train['product_color']= df_train['product_color'].replace(['white & green','black & stripe',\n",
        "                                                              'pink & black','pink & white', \n",
        "                                                              'black & blue','navyblue & white'\n",
        "                                                              ,'black & yellow','brown & yellow'\n",
        "                                                              ,'pink & blue', 'black & green'\n",
        "                                                              ,'blue & pink','pink & grey'\n",
        "                                                              ,'winered & yellow','red & blue'\n",
        "                                                              ,'white & red', 'gray & white','orange & camouflage'],'multicolor')"
      ]
    },
    {
      "cell_type": "code",
      "execution_count": null,
      "metadata": {
        "id": "DzzSMoTCw_NV"
      },
      "outputs": [],
      "source": [
        "df_train['product_color']= df_train['product_color'].replace(['black & white','white & black'],'blackwhite')\n",
        "df_train['product_color']= df_train['product_color'].replace(['navy blue'],'navyblue')\n",
        "df_train['product_color']= df_train['product_color'].replace(['wine red'],'winered')\n",
        "df_train['product_color']= df_train['product_color'].replace(['army green'],'armygreen')\n",
        "df_train['product_color']= df_train['product_color'].replace(['light green'],'lightgreen')\n",
        "df_train['product_color']= df_train['product_color'].replace(['rose red'],'rosered')\n"
      ]
    },
    {
      "cell_type": "code",
      "execution_count": null,
      "metadata": {
        "colab": {
          "base_uri": "https://localhost:8080/"
        },
        "id": "tOww62rmw1CK",
        "outputId": "df874aca-97c2-47d4-898d-1bfdc6b82357"
      },
      "outputs": [
        {
          "data": {
            "text/plain": [
              "array(['yellow', 'black', 'white', 'lakeblue', 'apricot', 'brown',\n",
              "       'winered', 'blue', 'red', 'navyblue', 'green', 'khaki',\n",
              "       'multicolor', 'lightpink', 'pink', 'armygreen', 'lightblue', nan,\n",
              "       'coffee', 'grey', 'skyblue', 'watermelonred', 'whitefloral',\n",
              "       'purple', 'navy', 'rosered', 'orange', 'mintgreen', 'leopardprint',\n",
              "       'gray', 'star', 'rose', 'lightyellow', 'camouflage', 'whitestripe',\n",
              "       'lightred', 'violet', 'gold', 'blackwhite', 'burgundy',\n",
              "       'lightgrey', 'coolblack', 'lightgreen', 'beige', 'darkblue',\n",
              "       'darkgreen', 'silver', 'rainbow', 'claret', 'floral', 'dustypink',\n",
              "       'camel', 'orange-red', 'rosegold', 'ivory', 'fluorescentgreen',\n",
              "       'offwhite', 'lightgray', 'wine', 'army', 'applegreen', 'nude',\n",
              "       'denimblue', 'leopard', 'coralred', 'tan', 'offblack', 'jasper',\n",
              "       'greysnakeskinprint', 'lightpurple', 'lightkhaki', 'prussianblue'],\n",
              "      dtype=object)"
            ]
          },
          "execution_count": 42,
          "metadata": {},
          "output_type": "execute_result"
        }
      ],
      "source": [
        "df_train['product_color'].unique()"
      ]
    },
    {
      "cell_type": "code",
      "execution_count": null,
      "metadata": {
        "colab": {
          "base_uri": "https://localhost:8080/"
        },
        "id": "of23I1hzjG3F",
        "outputId": "f4247b36-63d3-4d9e-cba5-65b597eb709f"
      },
      "outputs": [
        {
          "data": {
            "text/plain": [
              "black           305\n",
              "white           257\n",
              "yellow          105\n",
              "pink            101\n",
              "blue            100\n",
              "               ... \n",
              "gold              1\n",
              "whitestripe       1\n",
              "star              1\n",
              "leopardprint      1\n",
              "prussianblue      1\n",
              "Name: product_color, Length: 71, dtype: int64"
            ]
          },
          "execution_count": 43,
          "metadata": {},
          "output_type": "execute_result"
        }
      ],
      "source": [
        "df_train['product_color'].value_counts()"
      ]
    },
    {
      "cell_type": "code",
      "execution_count": null,
      "metadata": {
        "id": "soDf-emoyw_R"
      },
      "outputs": [],
      "source": [
        "df_null=df_train.loc[df_train['product_color'].isnull(),'rating']"
      ]
    },
    {
      "cell_type": "code",
      "execution_count": null,
      "metadata": {
        "colab": {
          "base_uri": "https://localhost:8080/"
        },
        "id": "y9CYH3Vc18yp",
        "outputId": "3ab85cc2-2d34-4137-eeeb-842ab35b3f2c"
      },
      "outputs": [
        {
          "data": {
            "text/plain": [
              "4.0    16\n",
              "0.0    12\n",
              "5.0    10\n",
              "3.0     3\n",
              "Name: rating, dtype: int64"
            ]
          },
          "execution_count": 45,
          "metadata": {},
          "output_type": "execute_result"
        }
      ],
      "source": [
        "df_null.value_counts()"
      ]
    },
    {
      "cell_type": "code",
      "execution_count": null,
      "metadata": {
        "id": "FV7Z8f9Jza4R"
      },
      "outputs": [],
      "source": [
        "df=df_train.loc[df_train['product_color'] == 'black','rating']"
      ]
    },
    {
      "cell_type": "code",
      "execution_count": null,
      "metadata": {
        "colab": {
          "base_uri": "https://localhost:8080/"
        },
        "id": "Y01P42Gu1lzQ",
        "outputId": "a0127be7-0026-4c75-bca7-b463477c7c72"
      },
      "outputs": [
        {
          "data": {
            "text/plain": [
              "4.0    159\n",
              "0.0     83\n",
              "5.0     43\n",
              "3.0     17\n",
              "2.0      3\n",
              "Name: rating, dtype: int64"
            ]
          },
          "execution_count": 47,
          "metadata": {},
          "output_type": "execute_result"
        }
      ],
      "source": [
        "df.value_counts()\n"
      ]
    },
    {
      "cell_type": "code",
      "execution_count": null,
      "metadata": {
        "colab": {
          "base_uri": "https://localhost:8080/"
        },
        "id": "n6HYYbrB1x4t",
        "outputId": "6977a315-f67c-443f-992e-435d3e6784f1"
      },
      "outputs": [
        {
          "data": {
            "text/plain": [
              "array([4., 5., 3., 2., 0.])"
            ]
          },
          "execution_count": 48,
          "metadata": {},
          "output_type": "execute_result"
        }
      ],
      "source": [
        "df.unique()"
      ]
    },
    {
      "cell_type": "code",
      "execution_count": null,
      "metadata": {
        "colab": {
          "base_uri": "https://localhost:8080/"
        },
        "id": "XIEd-a_OzNLV",
        "outputId": "c40f8ccd-bc59-4664-8fc8-4e60d303065b"
      },
      "outputs": [
        {
          "data": {
            "text/plain": [
              "0    black\n",
              "Name: product_color, dtype: object"
            ]
          },
          "execution_count": 49,
          "metadata": {},
          "output_type": "execute_result"
        }
      ],
      "source": [
        "mode = df_train['product_color'].mode()\n",
        "mode"
      ]
    },
    {
      "cell_type": "code",
      "execution_count": null,
      "metadata": {
        "id": "faov4iIDjgYP"
      },
      "outputs": [],
      "source": [
        "df_train['product_color'].replace(np.nan,'black',inplace=True)"
      ]
    },
    {
      "cell_type": "code",
      "execution_count": null,
      "metadata": {
        "colab": {
          "base_uri": "https://localhost:8080/"
        },
        "id": "NTDeBT1VKY-g",
        "outputId": "42857df6-f944-49c4-e190-2018ec95723c"
      },
      "outputs": [
        {
          "data": {
            "text/plain": [
              "Index(['price', 'retail_price', 'units_sold', 'uses_ad_boosts', 'rating',\n",
              "       'badges_count', 'badge_local_product', 'badge_product_quality',\n",
              "       'badge_fast_shipping', 'product_color', 'product_variation_size_id',\n",
              "       'product_variation_inventory', 'shipping_option_price',\n",
              "       'merchant_rating_count', 'merchant_rating', 'id'],\n",
              "      dtype='object')"
            ]
          },
          "execution_count": 51,
          "metadata": {},
          "output_type": "execute_result"
        }
      ],
      "source": [
        "df_train.columns"
      ]
    },
    {
      "cell_type": "markdown",
      "metadata": {
        "id": "HNrpa_982NPX"
      },
      "source": [
        "## product_variation_size_id"
      ]
    },
    {
      "cell_type": "code",
      "execution_count": null,
      "metadata": {
        "id": "rbnjnT02CPk0"
      },
      "outputs": [],
      "source": [
        "df_train.rename(columns={'product_variation_size_id':'size_id'},inplace=True)"
      ]
    },
    {
      "cell_type": "code",
      "execution_count": null,
      "metadata": {
        "colab": {
          "base_uri": "https://localhost:8080/"
        },
        "id": "tTIOGcDI2oty",
        "outputId": "76b47d71-d6af-4913-a7f1-17acae5ea689"
      },
      "outputs": [
        {
          "data": {
            "text/plain": [
              "S                641\n",
              "XS               356\n",
              "M                200\n",
              "XXS              100\n",
              "L                 49\n",
              "                ... \n",
              "2                  1\n",
              "20PCS-10PAIRS      1\n",
              "Size-5XL           1\n",
              "Size/S             1\n",
              "36                 1\n",
              "Name: size_id, Length: 106, dtype: int64"
            ]
          },
          "execution_count": 53,
          "metadata": {},
          "output_type": "execute_result"
        }
      ],
      "source": [
        "df_train['size_id'].value_counts()"
      ]
    },
    {
      "cell_type": "code",
      "execution_count": null,
      "metadata": {
        "colab": {
          "base_uri": "https://localhost:8080/"
        },
        "id": "Oq_-W10Y25Zf",
        "outputId": "65788a7b-1e01-484b-acb4-2c8a9aea40e8"
      },
      "outputs": [
        {
          "data": {
            "text/plain": [
              "array(['M', 'L', 'XS', 'S', 'XL', '26(Waist 72cm 28inch)', 'S.',\n",
              "       'S(bust 88cm)', 'XXS', 's', '29', nan, 'choose a size', 'XXXS',\n",
              "       'Base Coat', 'Size M', 'XXL', 'M.', 'XS.',\n",
              "       '100 x 100cm(39.3 x 39.3inch)', '2pcs', '4XL', '1', '25-S',\n",
              "       'Size-XXS', '5PAIRS', '35', 'Pack of 1', 'Size S', 'Size-S', '6XL',\n",
              "       '25', 'S/M(child)', '60', 'Size-XS', 'S (waist58-62cm)',\n",
              "       'SIZE XXS', '10 ml', 'X   L', 'Women Size 36', '04-3XL',\n",
              "       'Size -XXS', '1 pc.', 'Floating Chair for Kid', 'S Pink', '34',\n",
              "       'US-S', 'Size XXS', 'pants-S', 'XXXXL', 'SIZE-XXS', 'SIZE XS',\n",
              "       '1pc', 'Size S.', '100 cm', 'S..', 'Round', '4-5 Years', '5', '33',\n",
              "       '30 cm', '2', 'XXXXXL', '20PCS-10PAIRS', '2XL', 'Size-5XL',\n",
              "       'Size4XL', 'One Size', 'size S', 'Size/S', 'B', 'SizeL', '20pcs',\n",
              "       '1 PC - XL', 'Suit-S', 'Base & Top & Matte Top Coat',\n",
              "       'Baby Float Boat', '1m by 3m', 'SIZE S', 'White', '40 cm', '5XL',\n",
              "       '10pcs', 'H01', 'S(Pink & Black)', '32/L', 'daughter 24M', 'XXXL',\n",
              "       '4', '3XL', '80 X 200 CM', 'EU 35', '100pcs', 'first  generation',\n",
              "       'Size--S', 'SIZE-4XL', 'L.', 'Women Size 37', 'S Diameter 30cm',\n",
              "       'Size-L', 'AU plug Low quality', '3 layered anklet', '17',\n",
              "       'US 6.5 (EU 37)', 'US5.5-EU35', 'EU39(US8)', '36'], dtype=object)"
            ]
          },
          "execution_count": 54,
          "metadata": {},
          "output_type": "execute_result"
        }
      ],
      "source": [
        "df_train['size_id'].unique()"
      ]
    },
    {
      "cell_type": "code",
      "execution_count": null,
      "metadata": {
        "id": "zfINYskQ3Xvw"
      },
      "outputs": [],
      "source": [
        "df_train['size_id']= df_train['size_id'].replace(['S.','S(bust 88cm)','25-S','Size S', 'Size-S',\n",
        "'S (waist58-62cm)','S Pink','US-S', 'pants-S', 'S..', 'Size S.','size S', 'Size/S','Suit-S','SIZE S' ],   'S')"
      ]
    },
    {
      "cell_type": "code",
      "execution_count": null,
      "metadata": {
        "id": "tJ5i2QrS29cB"
      },
      "outputs": [],
      "source": [
        "df_train['size_id']=df_train['size_id'].str.upper()"
      ]
    },
    {
      "cell_type": "code",
      "execution_count": null,
      "metadata": {
        "id": "LghrrXo75iZ9"
      },
      "outputs": [],
      "source": [
        "df_train['size_id']= df_train['size_id'].replace(['XXXS'],'3XS')\n",
        "df_train['size_id']= df_train['size_id'].replace(['SIZE-XXS','SIZE XXS','XXS','SIZE -XXS'],'2XS')\n",
        "df_train['size_id']= df_train['size_id'].replace(['XS.','SIZE-XS','SIZE XS'],   'XS')\n",
        "df_train['size_id']= df_train['size_id'].replace(['WOMEN SIZE 36', '29','S(PINK & BLACK)','25-S','SIZE--S',\n",
        "                                                  'US 6.5 (EU 37)','WOMEN SIZE 37','US5.5-EU35','EU 35' ],   'S')\n",
        "df_train['size_id']= df_train['size_id'].replace(['M.','60','S/M(CHILD)','SIZE M','26(WAIST 72CM 28INCH)' ],   'M')\n",
        "df_train['size_id']= df_train['size_id'].replace(['SIZEL','32/L','SIZE-L', '100 X 100CM(39.3 X 39.3INCH)','L.',\n",
        "                                                  'EU39(US8)'],'L')\n",
        "df_train['size_id']= df_train['size_id'].replace(['X   L','40 CM', '1 PC - XL','34','35','36'],   'XL')\n",
        "df_train['size_id']= df_train['size_id'].replace(['XXL'],'2XL')\n",
        "df_train['size_id']= df_train['size_id'].replace(['04-3XL','XXXL'],'3XL')\n",
        "df_train['size_id']= df_train['size_id'].replace(['SIZE4XL','XXXXL','SIZE-4XL'],'4XL')\n",
        "df_train['size_id']= df_train['size_id'].replace([ 'SIZE-5XL', 'XXXXXL'],'5XL')\n",
        "df_train['size_id']= df_train['size_id'].replace([ 'XXXXXXL'],'6XL')\n"
      ]
    },
    {
      "cell_type": "code",
      "execution_count": null,
      "metadata": {
        "colab": {
          "base_uri": "https://localhost:8080/"
        },
        "id": "dV8RV9kX3O3N",
        "outputId": "bdd31c50-db18-40e4-c72d-862c7a77e6ad"
      },
      "outputs": [
        {
          "data": {
            "text/plain": [
              "array(['M', 'L', 'XS', 'S', 'XL', '2XS', nan, 'CHOOSE A SIZE', '3XS',\n",
              "       'BASE COAT', '2XL', '2PCS', '4XL', '1', '5PAIRS', 'PACK OF 1',\n",
              "       '6XL', '25', '10 ML', '3XL', '1 PC.', 'FLOATING CHAIR FOR KID',\n",
              "       '1PC', '100 CM', 'ROUND', '4-5 YEARS', '5', '33', '30 CM', '2',\n",
              "       '5XL', '20PCS-10PAIRS', 'ONE SIZE', 'B', '20PCS',\n",
              "       'BASE & TOP & MATTE TOP COAT', 'BABY FLOAT BOAT', '1M BY 3M',\n",
              "       'WHITE', '10PCS', 'H01', 'DAUGHTER 24M', '4', '80 X 200 CM',\n",
              "       '100PCS', 'FIRST  GENERATION', 'S DIAMETER 30CM',\n",
              "       'AU PLUG LOW QUALITY', '3 LAYERED ANKLET', '17'], dtype=object)"
            ]
          },
          "execution_count": 58,
          "metadata": {},
          "output_type": "execute_result"
        }
      ],
      "source": [
        "df_train['size_id'].unique()"
      ]
    },
    {
      "cell_type": "code",
      "execution_count": null,
      "metadata": {
        "colab": {
          "base_uri": "https://localhost:8080/"
        },
        "id": "lQta5aKN6r44",
        "outputId": "000b2d8d-1cf1-4676-b8af-78973d888bab"
      },
      "outputs": [
        {
          "data": {
            "text/plain": [
              "0    S\n",
              "Name: size_id, dtype: object"
            ]
          },
          "execution_count": 59,
          "metadata": {},
          "output_type": "execute_result"
        }
      ],
      "source": [
        "df_train.size_id.mode() \n"
      ]
    },
    {
      "cell_type": "code",
      "execution_count": null,
      "metadata": {
        "id": "VlUXl0dE9O66"
      },
      "outputs": [],
      "source": [
        "df_train['size_id'].fillna('S',inplace=True)"
      ]
    },
    {
      "cell_type": "code",
      "execution_count": null,
      "metadata": {
        "colab": {
          "base_uri": "https://localhost:8080/"
        },
        "id": "HLTjrSyl91AB",
        "outputId": "f1eec1e0-141a-420d-bbbe-6943e5728643"
      },
      "outputs": [
        {
          "data": {
            "text/plain": [
              "0"
            ]
          },
          "execution_count": 61,
          "metadata": {},
          "output_type": "execute_result"
        }
      ],
      "source": [
        "df_train['size_id'].isnull().sum()"
      ]
    },
    {
      "cell_type": "code",
      "execution_count": null,
      "metadata": {
        "id": "Ol_igmoM-ZKa"
      },
      "outputs": [],
      "source": [
        "df_train['size_id']=df_train['size_id'].replace([\n",
        "       'CHOOSE A SIZE',\n",
        "       'BASE COAT' , '2PCS', '1', '5PAIRS', 'PACK OF 1',\n",
        "        '25', '10 ML', '1 PC.', 'FLOATING CHAIR FOR KID',\n",
        "       '1PC', '100 CM', 'ROUND', '4-5 YEARS', '5', '33', '30 CM', '2',\n",
        "        '20PCS-10PAIRS', 'ONE SIZE', 'B', '20PCS',\n",
        "       'BASE & TOP & MATTE TOP COAT', 'BABY FLOAT BOAT', '1M BY 3M',\n",
        "       'WHITE', '10PCS', 'H01' , 'DAUGHTER 24M', '4',\n",
        "       '80 X 200 CM', '100PCS', 'FIRST  GENERATION', 'S DIAMETER 30CM',\n",
        "       'AU PLUG LOW QUALITY', '3 LAYERED ANKLET', '17'],'other')"
      ]
    },
    {
      "cell_type": "code",
      "execution_count": null,
      "metadata": {
        "colab": {
          "base_uri": "https://localhost:8080/"
        },
        "id": "tMtgFZnX98Zr",
        "outputId": "2a41524e-0262-4648-f019-eca951ad24d6"
      },
      "outputs": [
        {
          "data": {
            "text/plain": [
              "array(['M', 'L', 'XS', 'S', 'XL', '2XS', 'other', '3XS', '2XL', '4XL',\n",
              "       '6XL', '3XL', '5XL'], dtype=object)"
            ]
          },
          "execution_count": 63,
          "metadata": {},
          "output_type": "execute_result"
        }
      ],
      "source": [
        "df_train['size_id'].unique()"
      ]
    },
    {
      "cell_type": "code",
      "execution_count": null,
      "metadata": {
        "colab": {
          "base_uri": "https://localhost:8080/"
        },
        "id": "5a7orLqy98f9",
        "outputId": "e6a594ee-ef55-4806-dcc3-53ee6803b477"
      },
      "outputs": [
        {
          "data": {
            "text/plain": [
              "S        713\n",
              "XS       369\n",
              "M        209\n",
              "2XS      107\n",
              "L         57\n",
              "other     47\n",
              "XL        26\n",
              "2XL       19\n",
              "4XL       10\n",
              "3XS        6\n",
              "5XL        5\n",
              "3XL        4\n",
              "6XL        1\n",
              "Name: size_id, dtype: int64"
            ]
          },
          "execution_count": 64,
          "metadata": {},
          "output_type": "execute_result"
        }
      ],
      "source": [
        "df_train['size_id'].value_counts()"
      ]
    },
    {
      "cell_type": "code",
      "execution_count": null,
      "metadata": {
        "colab": {
          "base_uri": "https://localhost:8080/"
        },
        "id": "N2ptO7mMABdA",
        "outputId": "743c79f1-72f3-4d22-817f-383b55d5454d"
      },
      "outputs": [
        {
          "data": {
            "text/plain": [
              "Index(['price', 'retail_price', 'units_sold', 'uses_ad_boosts', 'rating',\n",
              "       'badges_count', 'badge_local_product', 'badge_product_quality',\n",
              "       'badge_fast_shipping', 'product_color', 'size_id',\n",
              "       'product_variation_inventory', 'shipping_option_price',\n",
              "       'merchant_rating_count', 'merchant_rating', 'id'],\n",
              "      dtype='object')"
            ]
          },
          "execution_count": 65,
          "metadata": {},
          "output_type": "execute_result"
        }
      ],
      "source": [
        "df_train.columns"
      ]
    },
    {
      "cell_type": "code",
      "execution_count": null,
      "metadata": {
        "colab": {
          "base_uri": "https://localhost:8080/"
        },
        "id": "8cdKgJ51AXDe",
        "outputId": "f66e501a-410d-46d4-8a0f-944f4e36f736"
      },
      "outputs": [
        {
          "data": {
            "text/plain": [
              "price                          False\n",
              "retail_price                   False\n",
              "units_sold                     False\n",
              "uses_ad_boosts                 False\n",
              "rating                         False\n",
              "badges_count                   False\n",
              "badge_local_product            False\n",
              "badge_product_quality          False\n",
              "badge_fast_shipping            False\n",
              "product_color                  False\n",
              "size_id                        False\n",
              "product_variation_inventory    False\n",
              "shipping_option_price          False\n",
              "merchant_rating_count          False\n",
              "merchant_rating                False\n",
              "id                             False\n",
              "dtype: bool"
            ]
          },
          "execution_count": 66,
          "metadata": {},
          "output_type": "execute_result"
        }
      ],
      "source": [
        "df_train.isna().any()"
      ]
    },
    {
      "cell_type": "code",
      "execution_count": null,
      "metadata": {
        "colab": {
          "base_uri": "https://localhost:8080/",
          "height": 552
        },
        "id": "qdBUm3QT_-hy",
        "outputId": "e3543ce9-acd5-4b76-a6fb-977225c6fc9b"
      },
      "outputs": [
        {
          "data": {
            "text/html": [
              "\n",
              "  <div id=\"df-5b7ec89a-df53-4b7f-a4d6-53e1ada33737\">\n",
              "    <div class=\"colab-df-container\">\n",
              "      <div>\n",
              "<style scoped>\n",
              "    .dataframe tbody tr th:only-of-type {\n",
              "        vertical-align: middle;\n",
              "    }\n",
              "\n",
              "    .dataframe tbody tr th {\n",
              "        vertical-align: top;\n",
              "    }\n",
              "\n",
              "    .dataframe thead th {\n",
              "        text-align: right;\n",
              "    }\n",
              "</style>\n",
              "<table border=\"1\" class=\"dataframe\">\n",
              "  <thead>\n",
              "    <tr style=\"text-align: right;\">\n",
              "      <th></th>\n",
              "      <th>price</th>\n",
              "      <th>retail_price</th>\n",
              "      <th>units_sold</th>\n",
              "      <th>uses_ad_boosts</th>\n",
              "      <th>rating</th>\n",
              "      <th>badges_count</th>\n",
              "      <th>badge_local_product</th>\n",
              "      <th>badge_product_quality</th>\n",
              "      <th>badge_fast_shipping</th>\n",
              "      <th>product_variation_inventory</th>\n",
              "      <th>shipping_option_price</th>\n",
              "      <th>merchant_rating_count</th>\n",
              "      <th>merchant_rating</th>\n",
              "      <th>id</th>\n",
              "    </tr>\n",
              "  </thead>\n",
              "  <tbody>\n",
              "    <tr>\n",
              "      <th>price</th>\n",
              "      <td>1.000000</td>\n",
              "      <td>0.304748</td>\n",
              "      <td>-0.024815</td>\n",
              "      <td>-0.073269</td>\n",
              "      <td>0.044306</td>\n",
              "      <td>0.063542</td>\n",
              "      <td>0.069592</td>\n",
              "      <td>0.009512</td>\n",
              "      <td>0.087336</td>\n",
              "      <td>0.274819</td>\n",
              "      <td>0.872580</td>\n",
              "      <td>-0.023790</td>\n",
              "      <td>0.047121</td>\n",
              "      <td>0.026923</td>\n",
              "    </tr>\n",
              "    <tr>\n",
              "      <th>retail_price</th>\n",
              "      <td>0.304748</td>\n",
              "      <td>1.000000</td>\n",
              "      <td>0.012638</td>\n",
              "      <td>-0.035325</td>\n",
              "      <td>0.039483</td>\n",
              "      <td>0.019625</td>\n",
              "      <td>0.022677</td>\n",
              "      <td>0.000098</td>\n",
              "      <td>0.032201</td>\n",
              "      <td>0.118842</td>\n",
              "      <td>0.262516</td>\n",
              "      <td>0.029159</td>\n",
              "      <td>0.054399</td>\n",
              "      <td>-0.024683</td>\n",
              "    </tr>\n",
              "    <tr>\n",
              "      <th>units_sold</th>\n",
              "      <td>-0.024815</td>\n",
              "      <td>0.012638</td>\n",
              "      <td>1.000000</td>\n",
              "      <td>-0.016055</td>\n",
              "      <td>0.030855</td>\n",
              "      <td>0.045402</td>\n",
              "      <td>-0.007544</td>\n",
              "      <td>0.063187</td>\n",
              "      <td>-0.000898</td>\n",
              "      <td>0.133846</td>\n",
              "      <td>-0.030987</td>\n",
              "      <td>0.272897</td>\n",
              "      <td>0.122504</td>\n",
              "      <td>0.008429</td>\n",
              "    </tr>\n",
              "    <tr>\n",
              "      <th>uses_ad_boosts</th>\n",
              "      <td>-0.073269</td>\n",
              "      <td>-0.035325</td>\n",
              "      <td>-0.016055</td>\n",
              "      <td>1.000000</td>\n",
              "      <td>-0.011510</td>\n",
              "      <td>0.038173</td>\n",
              "      <td>0.061471</td>\n",
              "      <td>0.001697</td>\n",
              "      <td>0.038265</td>\n",
              "      <td>-0.135384</td>\n",
              "      <td>-0.061495</td>\n",
              "      <td>0.029735</td>\n",
              "      <td>-0.022564</td>\n",
              "      <td>0.010322</td>\n",
              "    </tr>\n",
              "    <tr>\n",
              "      <th>rating</th>\n",
              "      <td>0.044306</td>\n",
              "      <td>0.039483</td>\n",
              "      <td>0.030855</td>\n",
              "      <td>-0.011510</td>\n",
              "      <td>1.000000</td>\n",
              "      <td>0.087689</td>\n",
              "      <td>0.010444</td>\n",
              "      <td>0.110653</td>\n",
              "      <td>-0.005105</td>\n",
              "      <td>-0.007898</td>\n",
              "      <td>0.040162</td>\n",
              "      <td>0.017713</td>\n",
              "      <td>0.072350</td>\n",
              "      <td>-0.031351</td>\n",
              "    </tr>\n",
              "    <tr>\n",
              "      <th>badges_count</th>\n",
              "      <td>0.063542</td>\n",
              "      <td>0.019625</td>\n",
              "      <td>0.045402</td>\n",
              "      <td>0.038173</td>\n",
              "      <td>0.087689</td>\n",
              "      <td>1.000000</td>\n",
              "      <td>0.568036</td>\n",
              "      <td>0.801352</td>\n",
              "      <td>0.481274</td>\n",
              "      <td>0.031346</td>\n",
              "      <td>0.106984</td>\n",
              "      <td>0.058436</td>\n",
              "      <td>0.215401</td>\n",
              "      <td>0.019927</td>\n",
              "    </tr>\n",
              "    <tr>\n",
              "      <th>badge_local_product</th>\n",
              "      <td>0.069592</td>\n",
              "      <td>0.022677</td>\n",
              "      <td>-0.007544</td>\n",
              "      <td>0.061471</td>\n",
              "      <td>0.010444</td>\n",
              "      <td>0.568036</td>\n",
              "      <td>1.000000</td>\n",
              "      <td>0.069215</td>\n",
              "      <td>0.364066</td>\n",
              "      <td>-0.009599</td>\n",
              "      <td>0.101477</td>\n",
              "      <td>-0.009927</td>\n",
              "      <td>0.116860</td>\n",
              "      <td>0.027756</td>\n",
              "    </tr>\n",
              "    <tr>\n",
              "      <th>badge_product_quality</th>\n",
              "      <td>0.009512</td>\n",
              "      <td>0.000098</td>\n",
              "      <td>0.063187</td>\n",
              "      <td>0.001697</td>\n",
              "      <td>0.110653</td>\n",
              "      <td>0.801352</td>\n",
              "      <td>0.069215</td>\n",
              "      <td>1.000000</td>\n",
              "      <td>0.011081</td>\n",
              "      <td>0.081776</td>\n",
              "      <td>0.022741</td>\n",
              "      <td>0.090089</td>\n",
              "      <td>0.191399</td>\n",
              "      <td>0.006707</td>\n",
              "    </tr>\n",
              "    <tr>\n",
              "      <th>badge_fast_shipping</th>\n",
              "      <td>0.087336</td>\n",
              "      <td>0.032201</td>\n",
              "      <td>-0.000898</td>\n",
              "      <td>0.038265</td>\n",
              "      <td>-0.005105</td>\n",
              "      <td>0.481274</td>\n",
              "      <td>0.364066</td>\n",
              "      <td>0.011081</td>\n",
              "      <td>1.000000</td>\n",
              "      <td>-0.084695</td>\n",
              "      <td>0.150136</td>\n",
              "      <td>-0.021419</td>\n",
              "      <td>0.066266</td>\n",
              "      <td>0.011546</td>\n",
              "    </tr>\n",
              "    <tr>\n",
              "      <th>product_variation_inventory</th>\n",
              "      <td>0.274819</td>\n",
              "      <td>0.118842</td>\n",
              "      <td>0.133846</td>\n",
              "      <td>-0.135384</td>\n",
              "      <td>-0.007898</td>\n",
              "      <td>0.031346</td>\n",
              "      <td>-0.009599</td>\n",
              "      <td>0.081776</td>\n",
              "      <td>-0.084695</td>\n",
              "      <td>1.000000</td>\n",
              "      <td>0.265225</td>\n",
              "      <td>0.083577</td>\n",
              "      <td>0.158771</td>\n",
              "      <td>0.011502</td>\n",
              "    </tr>\n",
              "    <tr>\n",
              "      <th>shipping_option_price</th>\n",
              "      <td>0.872580</td>\n",
              "      <td>0.262516</td>\n",
              "      <td>-0.030987</td>\n",
              "      <td>-0.061495</td>\n",
              "      <td>0.040162</td>\n",
              "      <td>0.106984</td>\n",
              "      <td>0.101477</td>\n",
              "      <td>0.022741</td>\n",
              "      <td>0.150136</td>\n",
              "      <td>0.265225</td>\n",
              "      <td>1.000000</td>\n",
              "      <td>-0.033675</td>\n",
              "      <td>0.054648</td>\n",
              "      <td>0.017877</td>\n",
              "    </tr>\n",
              "    <tr>\n",
              "      <th>merchant_rating_count</th>\n",
              "      <td>-0.023790</td>\n",
              "      <td>0.029159</td>\n",
              "      <td>0.272897</td>\n",
              "      <td>0.029735</td>\n",
              "      <td>0.017713</td>\n",
              "      <td>0.058436</td>\n",
              "      <td>-0.009927</td>\n",
              "      <td>0.090089</td>\n",
              "      <td>-0.021419</td>\n",
              "      <td>0.083577</td>\n",
              "      <td>-0.033675</td>\n",
              "      <td>1.000000</td>\n",
              "      <td>0.136401</td>\n",
              "      <td>0.014307</td>\n",
              "    </tr>\n",
              "    <tr>\n",
              "      <th>merchant_rating</th>\n",
              "      <td>0.047121</td>\n",
              "      <td>0.054399</td>\n",
              "      <td>0.122504</td>\n",
              "      <td>-0.022564</td>\n",
              "      <td>0.072350</td>\n",
              "      <td>0.215401</td>\n",
              "      <td>0.116860</td>\n",
              "      <td>0.191399</td>\n",
              "      <td>0.066266</td>\n",
              "      <td>0.158771</td>\n",
              "      <td>0.054648</td>\n",
              "      <td>0.136401</td>\n",
              "      <td>1.000000</td>\n",
              "      <td>0.031867</td>\n",
              "    </tr>\n",
              "    <tr>\n",
              "      <th>id</th>\n",
              "      <td>0.026923</td>\n",
              "      <td>-0.024683</td>\n",
              "      <td>0.008429</td>\n",
              "      <td>0.010322</td>\n",
              "      <td>-0.031351</td>\n",
              "      <td>0.019927</td>\n",
              "      <td>0.027756</td>\n",
              "      <td>0.006707</td>\n",
              "      <td>0.011546</td>\n",
              "      <td>0.011502</td>\n",
              "      <td>0.017877</td>\n",
              "      <td>0.014307</td>\n",
              "      <td>0.031867</td>\n",
              "      <td>1.000000</td>\n",
              "    </tr>\n",
              "  </tbody>\n",
              "</table>\n",
              "</div>\n",
              "      <button class=\"colab-df-convert\" onclick=\"convertToInteractive('df-5b7ec89a-df53-4b7f-a4d6-53e1ada33737')\"\n",
              "              title=\"Convert this dataframe to an interactive table.\"\n",
              "              style=\"display:none;\">\n",
              "        \n",
              "  <svg xmlns=\"http://www.w3.org/2000/svg\" height=\"24px\"viewBox=\"0 0 24 24\"\n",
              "       width=\"24px\">\n",
              "    <path d=\"M0 0h24v24H0V0z\" fill=\"none\"/>\n",
              "    <path d=\"M18.56 5.44l.94 2.06.94-2.06 2.06-.94-2.06-.94-.94-2.06-.94 2.06-2.06.94zm-11 1L8.5 8.5l.94-2.06 2.06-.94-2.06-.94L8.5 2.5l-.94 2.06-2.06.94zm10 10l.94 2.06.94-2.06 2.06-.94-2.06-.94-.94-2.06-.94 2.06-2.06.94z\"/><path d=\"M17.41 7.96l-1.37-1.37c-.4-.4-.92-.59-1.43-.59-.52 0-1.04.2-1.43.59L10.3 9.45l-7.72 7.72c-.78.78-.78 2.05 0 2.83L4 21.41c.39.39.9.59 1.41.59.51 0 1.02-.2 1.41-.59l7.78-7.78 2.81-2.81c.8-.78.8-2.07 0-2.86zM5.41 20L4 18.59l7.72-7.72 1.47 1.35L5.41 20z\"/>\n",
              "  </svg>\n",
              "      </button>\n",
              "      \n",
              "  <style>\n",
              "    .colab-df-container {\n",
              "      display:flex;\n",
              "      flex-wrap:wrap;\n",
              "      gap: 12px;\n",
              "    }\n",
              "\n",
              "    .colab-df-convert {\n",
              "      background-color: #E8F0FE;\n",
              "      border: none;\n",
              "      border-radius: 50%;\n",
              "      cursor: pointer;\n",
              "      display: none;\n",
              "      fill: #1967D2;\n",
              "      height: 32px;\n",
              "      padding: 0 0 0 0;\n",
              "      width: 32px;\n",
              "    }\n",
              "\n",
              "    .colab-df-convert:hover {\n",
              "      background-color: #E2EBFA;\n",
              "      box-shadow: 0px 1px 2px rgba(60, 64, 67, 0.3), 0px 1px 3px 1px rgba(60, 64, 67, 0.15);\n",
              "      fill: #174EA6;\n",
              "    }\n",
              "\n",
              "    [theme=dark] .colab-df-convert {\n",
              "      background-color: #3B4455;\n",
              "      fill: #D2E3FC;\n",
              "    }\n",
              "\n",
              "    [theme=dark] .colab-df-convert:hover {\n",
              "      background-color: #434B5C;\n",
              "      box-shadow: 0px 1px 3px 1px rgba(0, 0, 0, 0.15);\n",
              "      filter: drop-shadow(0px 1px 2px rgba(0, 0, 0, 0.3));\n",
              "      fill: #FFFFFF;\n",
              "    }\n",
              "  </style>\n",
              "\n",
              "      <script>\n",
              "        const buttonEl =\n",
              "          document.querySelector('#df-5b7ec89a-df53-4b7f-a4d6-53e1ada33737 button.colab-df-convert');\n",
              "        buttonEl.style.display =\n",
              "          google.colab.kernel.accessAllowed ? 'block' : 'none';\n",
              "\n",
              "        async function convertToInteractive(key) {\n",
              "          const element = document.querySelector('#df-5b7ec89a-df53-4b7f-a4d6-53e1ada33737');\n",
              "          const dataTable =\n",
              "            await google.colab.kernel.invokeFunction('convertToInteractive',\n",
              "                                                     [key], {});\n",
              "          if (!dataTable) return;\n",
              "\n",
              "          const docLinkHtml = 'Like what you see? Visit the ' +\n",
              "            '<a target=\"_blank\" href=https://colab.research.google.com/notebooks/data_table.ipynb>data table notebook</a>'\n",
              "            + ' to learn more about interactive tables.';\n",
              "          element.innerHTML = '';\n",
              "          dataTable['output_type'] = 'display_data';\n",
              "          await google.colab.output.renderOutput(dataTable, element);\n",
              "          const docLink = document.createElement('div');\n",
              "          docLink.innerHTML = docLinkHtml;\n",
              "          element.appendChild(docLink);\n",
              "        }\n",
              "      </script>\n",
              "    </div>\n",
              "  </div>\n",
              "  "
            ],
            "text/plain": [
              "                                price  retail_price  units_sold  \\\n",
              "price                        1.000000      0.304748   -0.024815   \n",
              "retail_price                 0.304748      1.000000    0.012638   \n",
              "units_sold                  -0.024815      0.012638    1.000000   \n",
              "uses_ad_boosts              -0.073269     -0.035325   -0.016055   \n",
              "rating                       0.044306      0.039483    0.030855   \n",
              "badges_count                 0.063542      0.019625    0.045402   \n",
              "badge_local_product          0.069592      0.022677   -0.007544   \n",
              "badge_product_quality        0.009512      0.000098    0.063187   \n",
              "badge_fast_shipping          0.087336      0.032201   -0.000898   \n",
              "product_variation_inventory  0.274819      0.118842    0.133846   \n",
              "shipping_option_price        0.872580      0.262516   -0.030987   \n",
              "merchant_rating_count       -0.023790      0.029159    0.272897   \n",
              "merchant_rating              0.047121      0.054399    0.122504   \n",
              "id                           0.026923     -0.024683    0.008429   \n",
              "\n",
              "                             uses_ad_boosts    rating  badges_count  \\\n",
              "price                             -0.073269  0.044306      0.063542   \n",
              "retail_price                      -0.035325  0.039483      0.019625   \n",
              "units_sold                        -0.016055  0.030855      0.045402   \n",
              "uses_ad_boosts                     1.000000 -0.011510      0.038173   \n",
              "rating                            -0.011510  1.000000      0.087689   \n",
              "badges_count                       0.038173  0.087689      1.000000   \n",
              "badge_local_product                0.061471  0.010444      0.568036   \n",
              "badge_product_quality              0.001697  0.110653      0.801352   \n",
              "badge_fast_shipping                0.038265 -0.005105      0.481274   \n",
              "product_variation_inventory       -0.135384 -0.007898      0.031346   \n",
              "shipping_option_price             -0.061495  0.040162      0.106984   \n",
              "merchant_rating_count              0.029735  0.017713      0.058436   \n",
              "merchant_rating                   -0.022564  0.072350      0.215401   \n",
              "id                                 0.010322 -0.031351      0.019927   \n",
              "\n",
              "                             badge_local_product  badge_product_quality  \\\n",
              "price                                   0.069592               0.009512   \n",
              "retail_price                            0.022677               0.000098   \n",
              "units_sold                             -0.007544               0.063187   \n",
              "uses_ad_boosts                          0.061471               0.001697   \n",
              "rating                                  0.010444               0.110653   \n",
              "badges_count                            0.568036               0.801352   \n",
              "badge_local_product                     1.000000               0.069215   \n",
              "badge_product_quality                   0.069215               1.000000   \n",
              "badge_fast_shipping                     0.364066               0.011081   \n",
              "product_variation_inventory            -0.009599               0.081776   \n",
              "shipping_option_price                   0.101477               0.022741   \n",
              "merchant_rating_count                  -0.009927               0.090089   \n",
              "merchant_rating                         0.116860               0.191399   \n",
              "id                                      0.027756               0.006707   \n",
              "\n",
              "                             badge_fast_shipping  product_variation_inventory  \\\n",
              "price                                   0.087336                     0.274819   \n",
              "retail_price                            0.032201                     0.118842   \n",
              "units_sold                             -0.000898                     0.133846   \n",
              "uses_ad_boosts                          0.038265                    -0.135384   \n",
              "rating                                 -0.005105                    -0.007898   \n",
              "badges_count                            0.481274                     0.031346   \n",
              "badge_local_product                     0.364066                    -0.009599   \n",
              "badge_product_quality                   0.011081                     0.081776   \n",
              "badge_fast_shipping                     1.000000                    -0.084695   \n",
              "product_variation_inventory            -0.084695                     1.000000   \n",
              "shipping_option_price                   0.150136                     0.265225   \n",
              "merchant_rating_count                  -0.021419                     0.083577   \n",
              "merchant_rating                         0.066266                     0.158771   \n",
              "id                                      0.011546                     0.011502   \n",
              "\n",
              "                             shipping_option_price  merchant_rating_count  \\\n",
              "price                                     0.872580              -0.023790   \n",
              "retail_price                              0.262516               0.029159   \n",
              "units_sold                               -0.030987               0.272897   \n",
              "uses_ad_boosts                           -0.061495               0.029735   \n",
              "rating                                    0.040162               0.017713   \n",
              "badges_count                              0.106984               0.058436   \n",
              "badge_local_product                       0.101477              -0.009927   \n",
              "badge_product_quality                     0.022741               0.090089   \n",
              "badge_fast_shipping                       0.150136              -0.021419   \n",
              "product_variation_inventory               0.265225               0.083577   \n",
              "shipping_option_price                     1.000000              -0.033675   \n",
              "merchant_rating_count                    -0.033675               1.000000   \n",
              "merchant_rating                           0.054648               0.136401   \n",
              "id                                        0.017877               0.014307   \n",
              "\n",
              "                             merchant_rating        id  \n",
              "price                               0.047121  0.026923  \n",
              "retail_price                        0.054399 -0.024683  \n",
              "units_sold                          0.122504  0.008429  \n",
              "uses_ad_boosts                     -0.022564  0.010322  \n",
              "rating                              0.072350 -0.031351  \n",
              "badges_count                        0.215401  0.019927  \n",
              "badge_local_product                 0.116860  0.027756  \n",
              "badge_product_quality               0.191399  0.006707  \n",
              "badge_fast_shipping                 0.066266  0.011546  \n",
              "product_variation_inventory         0.158771  0.011502  \n",
              "shipping_option_price               0.054648  0.017877  \n",
              "merchant_rating_count               0.136401  0.014307  \n",
              "merchant_rating                     1.000000  0.031867  \n",
              "id                                  0.031867  1.000000  "
            ]
          },
          "execution_count": 67,
          "metadata": {},
          "output_type": "execute_result"
        }
      ],
      "source": [
        "df_train.corr()"
      ]
    },
    {
      "cell_type": "code",
      "execution_count": null,
      "metadata": {
        "id": "5QIxZKj4MkHX"
      },
      "outputs": [],
      "source": [
        "# df_train['inventory_total'].unique()"
      ]
    },
    {
      "cell_type": "code",
      "execution_count": null,
      "metadata": {
        "id": "8DQNonBwMoXN"
      },
      "outputs": [],
      "source": [
        "# df_train['inventory_total'].value_counts()"
      ]
    },
    {
      "cell_type": "code",
      "execution_count": null,
      "metadata": {
        "id": "RTDHoQGaV64n"
      },
      "outputs": [],
      "source": [
        "# df_train[:,'rating'].isna().sum()"
      ]
    },
    {
      "cell_type": "code",
      "execution_count": null,
      "metadata": {
        "colab": {
          "base_uri": "https://localhost:8080/"
        },
        "id": "LbDmfMBiNi-h",
        "outputId": "2fccfd69-980e-48b4-a7ba-22a62e48a553"
      },
      "outputs": [
        {
          "data": {
            "text/plain": [
              "['price',\n",
              " 'retail_price',\n",
              " 'units_sold',\n",
              " 'uses_ad_boosts',\n",
              " 'rating',\n",
              " 'badges_count',\n",
              " 'badge_local_product',\n",
              " 'badge_product_quality',\n",
              " 'badge_fast_shipping',\n",
              " 'product_color',\n",
              " 'size_id',\n",
              " 'product_variation_inventory',\n",
              " 'shipping_option_price',\n",
              " 'merchant_rating_count',\n",
              " 'merchant_rating',\n",
              " 'id']"
            ]
          },
          "execution_count": 71,
          "metadata": {},
          "output_type": "execute_result"
        }
      ],
      "source": [
        "df_train.columns.tolist()"
      ]
    },
    {
      "cell_type": "code",
      "execution_count": null,
      "metadata": {
        "colab": {
          "base_uri": "https://localhost:8080/"
        },
        "id": "XSxCQb4kjuMq",
        "outputId": "88bba85b-f952-4b1a-f794-58967cca0d10"
      },
      "outputs": [
        {
          "name": "stdout",
          "output_type": "stream",
          "text": [
            "<class 'pandas.core.frame.DataFrame'>\n",
            "RangeIndex: 1573 entries, 0 to 1572\n",
            "Data columns (total 16 columns):\n",
            " #   Column                       Non-Null Count  Dtype  \n",
            "---  ------                       --------------  -----  \n",
            " 0   price                        1573 non-null   float64\n",
            " 1   retail_price                 1573 non-null   int64  \n",
            " 2   units_sold                   1573 non-null   int64  \n",
            " 3   uses_ad_boosts               1573 non-null   int64  \n",
            " 4   rating                       1573 non-null   float64\n",
            " 5   badges_count                 1573 non-null   int64  \n",
            " 6   badge_local_product          1573 non-null   int64  \n",
            " 7   badge_product_quality        1573 non-null   int64  \n",
            " 8   badge_fast_shipping          1573 non-null   int64  \n",
            " 9   product_color                1573 non-null   object \n",
            " 10  size_id                      1573 non-null   object \n",
            " 11  product_variation_inventory  1573 non-null   int64  \n",
            " 12  shipping_option_price        1573 non-null   int64  \n",
            " 13  merchant_rating_count        1573 non-null   int64  \n",
            " 14  merchant_rating              1573 non-null   float64\n",
            " 15  id                           1573 non-null   int64  \n",
            "dtypes: float64(3), int64(11), object(2)\n",
            "memory usage: 196.8+ KB\n"
          ]
        }
      ],
      "source": [
        "df_train.info()"
      ]
    },
    {
      "cell_type": "markdown",
      "metadata": {
        "id": "E0GFaaanBfV1"
      },
      "source": [
        "# Encoding"
      ]
    },
    {
      "cell_type": "code",
      "execution_count": null,
      "metadata": {
        "id": "W6UWQtuVnbk7"
      },
      "outputs": [],
      "source": [
        "#df_train.drop('merchant_id',axis=1, inplace=True)"
      ]
    },
    {
      "cell_type": "code",
      "execution_count": null,
      "metadata": {
        "colab": {
          "base_uri": "https://localhost:8080/"
        },
        "id": "RVFyp5OJnDeT",
        "outputId": "c8859593-c289-4dc2-cee7-ad9f8374e378"
      },
      "outputs": [
        {
          "name": "stdout",
          "output_type": "stream",
          "text": [
            "<class 'pandas.core.frame.DataFrame'>\n",
            "RangeIndex: 1573 entries, 0 to 1572\n",
            "Data columns (total 16 columns):\n",
            " #   Column                       Non-Null Count  Dtype  \n",
            "---  ------                       --------------  -----  \n",
            " 0   price                        1573 non-null   float64\n",
            " 1   retail_price                 1573 non-null   int64  \n",
            " 2   units_sold                   1573 non-null   int64  \n",
            " 3   uses_ad_boosts               1573 non-null   int64  \n",
            " 4   rating                       1573 non-null   float64\n",
            " 5   badges_count                 1573 non-null   int64  \n",
            " 6   badge_local_product          1573 non-null   int64  \n",
            " 7   badge_product_quality        1573 non-null   int64  \n",
            " 8   badge_fast_shipping          1573 non-null   int64  \n",
            " 9   product_color                1573 non-null   object \n",
            " 10  size_id                      1573 non-null   object \n",
            " 11  product_variation_inventory  1573 non-null   int64  \n",
            " 12  shipping_option_price        1573 non-null   int64  \n",
            " 13  merchant_rating_count        1573 non-null   int64  \n",
            " 14  merchant_rating              1573 non-null   float64\n",
            " 15  id                           1573 non-null   int64  \n",
            "dtypes: float64(3), int64(11), object(2)\n",
            "memory usage: 196.8+ KB\n"
          ]
        }
      ],
      "source": [
        "df_train.info()"
      ]
    },
    {
      "cell_type": "code",
      "execution_count": null,
      "metadata": {
        "id": "JGa5lEb5jSu3"
      },
      "outputs": [],
      "source": [
        "from sklearn.preprocessing import OneHotEncoder, LabelEncoder\n",
        "# one_hot_encoded_data = pd.get_dummies(df_train, columns = ['product_color','size_id','origin_country'])\n",
        "# one_hot_encoded_data\n",
        "\n",
        "# cat_cols = ['product_color','size_id','origin_country']\n",
        "# data = pd.get_dummies(df_train, columns=cat_cols)\n",
        "\n",
        "# df_train=one_hot_encoded_data"
      ]
    },
    {
      "cell_type": "code",
      "execution_count": null,
      "metadata": {
        "colab": {
          "base_uri": "https://localhost:8080/"
        },
        "id": "v6_0-tVIkWqX",
        "outputId": "0948326c-ccdf-49ff-f2de-c320161f66d3"
      },
      "outputs": [
        {
          "name": "stderr",
          "output_type": "stream",
          "text": [
            "/usr/local/lib/python3.9/dist-packages/sklearn/preprocessing/_label.py:116: DataConversionWarning: A column-vector y was passed when a 1d array was expected. Please change the shape of y to (n_samples, ), for example using ravel().\n",
            "  y = column_or_1d(y, warn=True)\n",
            "/usr/local/lib/python3.9/dist-packages/sklearn/preprocessing/_label.py:116: DataConversionWarning: A column-vector y was passed when a 1d array was expected. Please change the shape of y to (n_samples, ), for example using ravel().\n",
            "  y = column_or_1d(y, warn=True)\n"
          ]
        }
      ],
      "source": [
        "catigorical_columns= ['product_color','size_id']\n",
        "encoded_data= LabelEncoder()\n",
        "\n",
        "for i in catigorical_columns:\n",
        "    df_train[i]= encoded_data.fit_transform(np.asarray(df_train[i]).reshape(-1,1))"
      ]
    },
    {
      "cell_type": "code",
      "execution_count": null,
      "metadata": {
        "colab": {
          "base_uri": "https://localhost:8080/"
        },
        "id": "BoueQW2olrLn",
        "outputId": "0fc58bf5-d76c-420f-85c4-ad5b85789c24"
      },
      "outputs": [
        {
          "name": "stdout",
          "output_type": "stream",
          "text": [
            "price\n",
            "8.00     282\n",
            "11.00    202\n",
            "7.00     129\n",
            "9.00     126\n",
            "6.00     120\n",
            "        ... \n",
            "4.94       1\n",
            "1.84       1\n",
            "4.74       1\n",
            "3.74       1\n",
            "1.71       1\n",
            "Name: price, Length: 127, dtype: int64\n",
            "------------------------\n",
            "retail_price\n",
            "7      177\n",
            "6      136\n",
            "10     128\n",
            "5      102\n",
            "11      99\n",
            "      ... \n",
            "101      1\n",
            "250      1\n",
            "66       1\n",
            "69       1\n",
            "1        1\n",
            "Name: retail_price, Length: 104, dtype: int64\n",
            "------------------------\n",
            "units_sold\n",
            "100       509\n",
            "1000      405\n",
            "5000      217\n",
            "10000     177\n",
            "20000     103\n",
            "50         76\n",
            "10         49\n",
            "50000      17\n",
            "100000      6\n",
            "8           4\n",
            "1           3\n",
            "2           2\n",
            "7           2\n",
            "3           2\n",
            "6           1\n",
            "Name: units_sold, dtype: int64\n",
            "------------------------\n",
            "uses_ad_boosts\n",
            "0    892\n",
            "1    681\n",
            "Name: uses_ad_boosts, dtype: int64\n",
            "------------------------\n",
            "rating\n",
            "4.0    774\n",
            "0.0    479\n",
            "5.0    171\n",
            "3.0    135\n",
            "2.0     12\n",
            "1.0      2\n",
            "Name: rating, dtype: int64\n",
            "------------------------\n",
            "badges_count\n",
            "0    1422\n",
            "1     138\n",
            "2      11\n",
            "3       2\n",
            "Name: badges_count, dtype: int64\n",
            "------------------------\n",
            "badge_local_product\n",
            "0    1544\n",
            "1      29\n",
            "Name: badge_local_product, dtype: int64\n",
            "------------------------\n",
            "badge_product_quality\n",
            "0    1456\n",
            "1     117\n",
            "Name: badge_product_quality, dtype: int64\n",
            "------------------------\n",
            "badge_fast_shipping\n",
            "0    1553\n",
            "1      20\n",
            "Name: badge_fast_shipping, dtype: int64\n",
            "------------------------\n",
            "product_color\n",
            "5     346\n",
            "65    257\n",
            "70    105\n",
            "51    101\n",
            "7     100\n",
            "     ... \n",
            "22      1\n",
            "67      1\n",
            "61      1\n",
            "32      1\n",
            "52      1\n",
            "Name: product_color, Length: 71, dtype: int64\n",
            "------------------------\n",
            "size_id\n",
            "9     713\n",
            "11    369\n",
            "8     209\n",
            "1     107\n",
            "7      57\n",
            "12     47\n",
            "10     26\n",
            "0      19\n",
            "4      10\n",
            "3       6\n",
            "5       5\n",
            "2       4\n",
            "6       1\n",
            "Name: size_id, dtype: int64\n",
            "------------------------\n",
            "product_variation_inventory\n",
            "50    907\n",
            "1     152\n",
            "2      81\n",
            "5      74\n",
            "3      52\n",
            "10     40\n",
            "4      25\n",
            "9      22\n",
            "6      18\n",
            "7      18\n",
            "20     16\n",
            "15     13\n",
            "17     11\n",
            "18     10\n",
            "49      9\n",
            "13      8\n",
            "29      7\n",
            "19      7\n",
            "25      7\n",
            "11      6\n",
            "8       6\n",
            "30      6\n",
            "46      6\n",
            "44      6\n",
            "14      5\n",
            "12      5\n",
            "36      4\n",
            "47      4\n",
            "43      4\n",
            "48      4\n",
            "41      4\n",
            "34      4\n",
            "35      4\n",
            "27      3\n",
            "45      3\n",
            "21      2\n",
            "37      2\n",
            "40      2\n",
            "26      2\n",
            "31      2\n",
            "38      2\n",
            "23      2\n",
            "28      2\n",
            "39      2\n",
            "24      1\n",
            "33      1\n",
            "22      1\n",
            "16      1\n",
            "Name: product_variation_inventory, dtype: int64\n",
            "------------------------\n",
            "shipping_option_price\n",
            "2     619\n",
            "3     520\n",
            "1     308\n",
            "4      76\n",
            "5      32\n",
            "6      12\n",
            "7       5\n",
            "12      1\n",
            "Name: shipping_option_price, dtype: int64\n",
            "------------------------\n",
            "merchant_rating_count\n",
            "32168    15\n",
            "12309    12\n",
            "80093     9\n",
            "88193     8\n",
            "10600     8\n",
            "         ..\n",
            "5807      1\n",
            "8443      1\n",
            "2212      1\n",
            "8397      1\n",
            "1086      1\n",
            "Name: merchant_rating_count, Length: 917, dtype: int64\n",
            "------------------------\n",
            "merchant_rating\n",
            "3.884544    15\n",
            "4.045170    12\n",
            "4.006692     9\n",
            "3.867547     8\n",
            "4.105967     8\n",
            "            ..\n",
            "3.937343     1\n",
            "3.829268     1\n",
            "4.109024     1\n",
            "4.303985     1\n",
            "4.056169     1\n",
            "Name: merchant_rating, Length: 952, dtype: int64\n",
            "------------------------\n",
            "id\n",
            "272    1\n",
            "334    1\n",
            "428    1\n",
            "640    1\n",
            "498    1\n",
            "      ..\n",
            "838    1\n",
            "711    1\n",
            "550    1\n",
            "280    1\n",
            "196    1\n",
            "Name: id, Length: 1573, dtype: int64\n",
            "------------------------\n"
          ]
        }
      ],
      "source": [
        "#Check detailed details in each column like number of values\n",
        "for column in range(df_train.shape[1]):\n",
        "    print(df_train.columns[column])\n",
        "    print(df_train[df_train.columns[column]].value_counts())    \n",
        "    print(\"------------------------\")"
      ]
    },
    {
      "cell_type": "code",
      "execution_count": null,
      "metadata": {
        "colab": {
          "base_uri": "https://localhost:8080/"
        },
        "id": "5U6p3zJLSbkC",
        "outputId": "ad91bae6-e8d8-4fa7-a22c-f28687f40c35"
      },
      "outputs": [
        {
          "name": "stdout",
          "output_type": "stream",
          "text": [
            "<class 'pandas.core.frame.DataFrame'>\n",
            "RangeIndex: 1573 entries, 0 to 1572\n",
            "Data columns (total 16 columns):\n",
            " #   Column                       Non-Null Count  Dtype  \n",
            "---  ------                       --------------  -----  \n",
            " 0   price                        1573 non-null   float64\n",
            " 1   retail_price                 1573 non-null   int64  \n",
            " 2   units_sold                   1573 non-null   int64  \n",
            " 3   uses_ad_boosts               1573 non-null   int64  \n",
            " 4   rating                       1573 non-null   float64\n",
            " 5   badges_count                 1573 non-null   int64  \n",
            " 6   badge_local_product          1573 non-null   int64  \n",
            " 7   badge_product_quality        1573 non-null   int64  \n",
            " 8   badge_fast_shipping          1573 non-null   int64  \n",
            " 9   product_color                1573 non-null   int64  \n",
            " 10  size_id                      1573 non-null   int64  \n",
            " 11  product_variation_inventory  1573 non-null   int64  \n",
            " 12  shipping_option_price        1573 non-null   int64  \n",
            " 13  merchant_rating_count        1573 non-null   int64  \n",
            " 14  merchant_rating              1573 non-null   float64\n",
            " 15  id                           1573 non-null   int64  \n",
            "dtypes: float64(3), int64(13)\n",
            "memory usage: 196.8 KB\n"
          ]
        }
      ],
      "source": [
        "df_train.info()"
      ]
    },
    {
      "cell_type": "code",
      "execution_count": null,
      "metadata": {
        "id": "_9KUoXEEpCgN"
      },
      "outputs": [],
      "source": [
        "def getLog(x):\n",
        "    return np.log(x + 1)\n",
        "df_train['units_sold']  = df_train['units_sold'].apply(getLog)\n",
        "df_train['retail_price']  = df_train['retail_price'].apply(getLog)"
      ]
    },
    {
      "cell_type": "markdown",
      "metadata": {
        "id": "N8RnXjq3FeLo"
      },
      "source": [
        "# Split the data into training and testing sets\n"
      ]
    },
    {
      "cell_type": "code",
      "execution_count": null,
      "metadata": {
        "id": "eReCPdRHy6uM"
      },
      "outputs": [],
      "source": [
        "# Split the data into training and testing sets\n"
      ]
    },
    {
      "cell_type": "code",
      "execution_count": null,
      "metadata": {
        "colab": {
          "base_uri": "https://localhost:8080/"
        },
        "id": "vDOrbz8ulKE1",
        "outputId": "13523eb9-2110-4ce8-bf89-9116edceadca"
      },
      "outputs": [
        {
          "name": "stdout",
          "output_type": "stream",
          "text": [
            "(1094, 16)\n"
          ]
        }
      ],
      "source": [
        "train_index = df_train1.shape[0]              \n",
        "train_d = df_train.iloc[:train_index,:]  \n",
        "print(train_d.shape)  \n",
        "\n"
      ]
    },
    {
      "cell_type": "code",
      "execution_count": null,
      "metadata": {
        "colab": {
          "base_uri": "https://localhost:8080/"
        },
        "id": "O7iPmuNpeQGq",
        "outputId": "2cb76382-1fcd-4ed9-9069-8047b1216e28"
      },
      "outputs": [
        {
          "name": "stdout",
          "output_type": "stream",
          "text": [
            "(479, 16)\n"
          ]
        }
      ],
      "source": [
        "test_d = df_train.iloc[train_index :]\n",
        "print(test_d.shape)  \n",
        "\n",
        " "
      ]
    },
    {
      "cell_type": "code",
      "execution_count": null,
      "metadata": {
        "id": "J6okC2gplA48"
      },
      "outputs": [],
      "source": [
        "_id = test_d.id\n",
        "\n",
        "df_train = df_train.drop(columns=[\"id\"])"
      ]
    },
    {
      "cell_type": "code",
      "execution_count": null,
      "metadata": {
        "colab": {
          "base_uri": "https://localhost:8080/"
        },
        "id": "7aBSYthZooC3",
        "outputId": "45f98290-8fe9-4c3c-d0ea-a687a88be3b8"
      },
      "outputs": [
        {
          "data": {
            "text/plain": [
              "1094     937\n",
              "1095     270\n",
              "1096     308\n",
              "1097     913\n",
              "1098     403\n",
              "        ... \n",
              "1568    1166\n",
              "1569    1416\n",
              "1570      63\n",
              "1571     626\n",
              "1572     196\n",
              "Name: id, Length: 479, dtype: int64"
            ]
          },
          "execution_count": 84,
          "metadata": {},
          "output_type": "execute_result"
        }
      ],
      "source": [
        "_id"
      ]
    },
    {
      "cell_type": "code",
      "execution_count": null,
      "metadata": {
        "colab": {
          "base_uri": "https://localhost:8080/"
        },
        "id": "FIe12ZEKeSo5",
        "outputId": "1da3fb46-916a-42a3-9f02-4b7b787d87db"
      },
      "outputs": [
        {
          "name": "stdout",
          "output_type": "stream",
          "text": [
            "(479, 15)\n"
          ]
        },
        {
          "name": "stderr",
          "output_type": "stream",
          "text": [
            "<ipython-input-85-54da1cee8299>:1: SettingWithCopyWarning: \n",
            "A value is trying to be set on a copy of a slice from a DataFrame\n",
            "\n",
            "See the caveats in the documentation: https://pandas.pydata.org/pandas-docs/stable/user_guide/indexing.html#returning-a-view-versus-a-copy\n",
            "  test_d.drop('rating', axis=1, inplace=True)\n"
          ]
        }
      ],
      "source": [
        "test_d.drop('rating', axis=1, inplace=True)\n",
        "print(test_d.shape) "
      ]
    },
    {
      "cell_type": "markdown",
      "metadata": {
        "id": "0-vwVScZeryX"
      },
      "source": [
        "## Splitting the traing data x (features),y(label)"
      ]
    },
    {
      "cell_type": "code",
      "execution_count": null,
      "metadata": {
        "id": "pYtoxfY4pe03"
      },
      "outputs": [],
      "source": [
        "X = train_d.drop(['rating'],axis=1)\n",
        "y = train_d['rating']"
      ]
    },
    {
      "cell_type": "code",
      "execution_count": null,
      "metadata": {
        "id": "ZiWMCQ4V1Hhj"
      },
      "outputs": [],
      "source": [
        "from sklearn.model_selection import train_test_split\n",
        "\n",
        "X_train, X_test, y_train, y_test = train_test_split(X, y, test_size=0.2, random_state=25)"
      ]
    },
    {
      "cell_type": "markdown",
      "metadata": {
        "id": "kvFydWTmlGCH"
      },
      "source": [
        "# Naive_bayes with using grid search to tune hyperparameter"
      ]
    },
    {
      "cell_type": "code",
      "execution_count": null,
      "metadata": {
        "colab": {
          "base_uri": "https://localhost:8080/",
          "height": 169
        },
        "id": "bK4Tk9lf5rda",
        "outputId": "767b70bf-d049-4efd-8371-b98451ecd246"
      },
      "outputs": [
        {
          "name": "stdout",
          "output_type": "stream",
          "text": [
            "Fitting 10 folds for each of 100 candidates, totalling 1000 fits\n"
          ]
        },
        {
          "name": "stderr",
          "output_type": "stream",
          "text": [
            "/usr/local/lib/python3.9/dist-packages/sklearn/model_selection/_split.py:700: UserWarning: The least populated class in y has only 2 members, which is less than n_splits=10.\n",
            "  warnings.warn(\n"
          ]
        },
        {
          "data": {
            "text/html": [
              "<style>#sk-container-id-2 {color: black;background-color: white;}#sk-container-id-2 pre{padding: 0;}#sk-container-id-2 div.sk-toggleable {background-color: white;}#sk-container-id-2 label.sk-toggleable__label {cursor: pointer;display: block;width: 100%;margin-bottom: 0;padding: 0.3em;box-sizing: border-box;text-align: center;}#sk-container-id-2 label.sk-toggleable__label-arrow:before {content: \"▸\";float: left;margin-right: 0.25em;color: #696969;}#sk-container-id-2 label.sk-toggleable__label-arrow:hover:before {color: black;}#sk-container-id-2 div.sk-estimator:hover label.sk-toggleable__label-arrow:before {color: black;}#sk-container-id-2 div.sk-toggleable__content {max-height: 0;max-width: 0;overflow: hidden;text-align: left;background-color: #f0f8ff;}#sk-container-id-2 div.sk-toggleable__content pre {margin: 0.2em;color: black;border-radius: 0.25em;background-color: #f0f8ff;}#sk-container-id-2 input.sk-toggleable__control:checked~div.sk-toggleable__content {max-height: 200px;max-width: 100%;overflow: auto;}#sk-container-id-2 input.sk-toggleable__control:checked~label.sk-toggleable__label-arrow:before {content: \"▾\";}#sk-container-id-2 div.sk-estimator input.sk-toggleable__control:checked~label.sk-toggleable__label {background-color: #d4ebff;}#sk-container-id-2 div.sk-label input.sk-toggleable__control:checked~label.sk-toggleable__label {background-color: #d4ebff;}#sk-container-id-2 input.sk-hidden--visually {border: 0;clip: rect(1px 1px 1px 1px);clip: rect(1px, 1px, 1px, 1px);height: 1px;margin: -1px;overflow: hidden;padding: 0;position: absolute;width: 1px;}#sk-container-id-2 div.sk-estimator {font-family: monospace;background-color: #f0f8ff;border: 1px dotted black;border-radius: 0.25em;box-sizing: border-box;margin-bottom: 0.5em;}#sk-container-id-2 div.sk-estimator:hover {background-color: #d4ebff;}#sk-container-id-2 div.sk-parallel-item::after {content: \"\";width: 100%;border-bottom: 1px solid gray;flex-grow: 1;}#sk-container-id-2 div.sk-label:hover label.sk-toggleable__label {background-color: #d4ebff;}#sk-container-id-2 div.sk-serial::before {content: \"\";position: absolute;border-left: 1px solid gray;box-sizing: border-box;top: 0;bottom: 0;left: 50%;z-index: 0;}#sk-container-id-2 div.sk-serial {display: flex;flex-direction: column;align-items: center;background-color: white;padding-right: 0.2em;padding-left: 0.2em;position: relative;}#sk-container-id-2 div.sk-item {position: relative;z-index: 1;}#sk-container-id-2 div.sk-parallel {display: flex;align-items: stretch;justify-content: center;background-color: white;position: relative;}#sk-container-id-2 div.sk-item::before, #sk-container-id-2 div.sk-parallel-item::before {content: \"\";position: absolute;border-left: 1px solid gray;box-sizing: border-box;top: 0;bottom: 0;left: 50%;z-index: -1;}#sk-container-id-2 div.sk-parallel-item {display: flex;flex-direction: column;z-index: 1;position: relative;background-color: white;}#sk-container-id-2 div.sk-parallel-item:first-child::after {align-self: flex-end;width: 50%;}#sk-container-id-2 div.sk-parallel-item:last-child::after {align-self: flex-start;width: 50%;}#sk-container-id-2 div.sk-parallel-item:only-child::after {width: 0;}#sk-container-id-2 div.sk-dashed-wrapped {border: 1px dashed gray;margin: 0 0.4em 0.5em 0.4em;box-sizing: border-box;padding-bottom: 0.4em;background-color: white;}#sk-container-id-2 div.sk-label label {font-family: monospace;font-weight: bold;display: inline-block;line-height: 1.2em;}#sk-container-id-2 div.sk-label-container {text-align: center;}#sk-container-id-2 div.sk-container {/* jupyter's `normalize.less` sets `[hidden] { display: none; }` but bootstrap.min.css set `[hidden] { display: none !important; }` so we also need the `!important` here to be able to override the default hidden behavior on the sphinx rendered scikit-learn.org. See: https://github.com/scikit-learn/scikit-learn/issues/21755 */display: inline-block !important;position: relative;}#sk-container-id-2 div.sk-text-repr-fallback {display: none;}</style><div id=\"sk-container-id-2\" class=\"sk-top-container\"><div class=\"sk-text-repr-fallback\"><pre>GridSearchCV(cv=10, estimator=GaussianNB(), n_jobs=-1,\n",
              "             param_grid={&#x27;var_smoothing&#x27;: array([1.00000000e+00, 8.11130831e-01, 6.57933225e-01, 5.33669923e-01,\n",
              "       4.32876128e-01, 3.51119173e-01, 2.84803587e-01, 2.31012970e-01,\n",
              "       1.87381742e-01, 1.51991108e-01, 1.23284674e-01, 1.00000000e-01,\n",
              "       8.11130831e-02, 6.57933225e-02, 5.33669923e-02, 4.32876128e-02,\n",
              "       3.51119173e-02, 2.848035...\n",
              "       1.23284674e-07, 1.00000000e-07, 8.11130831e-08, 6.57933225e-08,\n",
              "       5.33669923e-08, 4.32876128e-08, 3.51119173e-08, 2.84803587e-08,\n",
              "       2.31012970e-08, 1.87381742e-08, 1.51991108e-08, 1.23284674e-08,\n",
              "       1.00000000e-08, 8.11130831e-09, 6.57933225e-09, 5.33669923e-09,\n",
              "       4.32876128e-09, 3.51119173e-09, 2.84803587e-09, 2.31012970e-09,\n",
              "       1.87381742e-09, 1.51991108e-09, 1.23284674e-09, 1.00000000e-09])},\n",
              "             verbose=1)</pre><b>In a Jupyter environment, please rerun this cell to show the HTML representation or trust the notebook. <br />On GitHub, the HTML representation is unable to render, please try loading this page with nbviewer.org.</b></div><div class=\"sk-container\" hidden><div class=\"sk-item sk-dashed-wrapped\"><div class=\"sk-label-container\"><div class=\"sk-label sk-toggleable\"><input class=\"sk-toggleable__control sk-hidden--visually\" id=\"sk-estimator-id-4\" type=\"checkbox\" ><label for=\"sk-estimator-id-4\" class=\"sk-toggleable__label sk-toggleable__label-arrow\">GridSearchCV</label><div class=\"sk-toggleable__content\"><pre>GridSearchCV(cv=10, estimator=GaussianNB(), n_jobs=-1,\n",
              "             param_grid={&#x27;var_smoothing&#x27;: array([1.00000000e+00, 8.11130831e-01, 6.57933225e-01, 5.33669923e-01,\n",
              "       4.32876128e-01, 3.51119173e-01, 2.84803587e-01, 2.31012970e-01,\n",
              "       1.87381742e-01, 1.51991108e-01, 1.23284674e-01, 1.00000000e-01,\n",
              "       8.11130831e-02, 6.57933225e-02, 5.33669923e-02, 4.32876128e-02,\n",
              "       3.51119173e-02, 2.848035...\n",
              "       1.23284674e-07, 1.00000000e-07, 8.11130831e-08, 6.57933225e-08,\n",
              "       5.33669923e-08, 4.32876128e-08, 3.51119173e-08, 2.84803587e-08,\n",
              "       2.31012970e-08, 1.87381742e-08, 1.51991108e-08, 1.23284674e-08,\n",
              "       1.00000000e-08, 8.11130831e-09, 6.57933225e-09, 5.33669923e-09,\n",
              "       4.32876128e-09, 3.51119173e-09, 2.84803587e-09, 2.31012970e-09,\n",
              "       1.87381742e-09, 1.51991108e-09, 1.23284674e-09, 1.00000000e-09])},\n",
              "             verbose=1)</pre></div></div></div><div class=\"sk-parallel\"><div class=\"sk-parallel-item\"><div class=\"sk-item\"><div class=\"sk-label-container\"><div class=\"sk-label sk-toggleable\"><input class=\"sk-toggleable__control sk-hidden--visually\" id=\"sk-estimator-id-5\" type=\"checkbox\" ><label for=\"sk-estimator-id-5\" class=\"sk-toggleable__label sk-toggleable__label-arrow\">estimator: GaussianNB</label><div class=\"sk-toggleable__content\"><pre>GaussianNB()</pre></div></div></div><div class=\"sk-serial\"><div class=\"sk-item\"><div class=\"sk-estimator sk-toggleable\"><input class=\"sk-toggleable__control sk-hidden--visually\" id=\"sk-estimator-id-6\" type=\"checkbox\" ><label for=\"sk-estimator-id-6\" class=\"sk-toggleable__label sk-toggleable__label-arrow\">GaussianNB</label><div class=\"sk-toggleable__content\"><pre>GaussianNB()</pre></div></div></div></div></div></div></div></div></div></div>"
            ],
            "text/plain": [
              "GridSearchCV(cv=10, estimator=GaussianNB(), n_jobs=-1,\n",
              "             param_grid={'var_smoothing': array([1.00000000e+00, 8.11130831e-01, 6.57933225e-01, 5.33669923e-01,\n",
              "       4.32876128e-01, 3.51119173e-01, 2.84803587e-01, 2.31012970e-01,\n",
              "       1.87381742e-01, 1.51991108e-01, 1.23284674e-01, 1.00000000e-01,\n",
              "       8.11130831e-02, 6.57933225e-02, 5.33669923e-02, 4.32876128e-02,\n",
              "       3.51119173e-02, 2.848035...\n",
              "       1.23284674e-07, 1.00000000e-07, 8.11130831e-08, 6.57933225e-08,\n",
              "       5.33669923e-08, 4.32876128e-08, 3.51119173e-08, 2.84803587e-08,\n",
              "       2.31012970e-08, 1.87381742e-08, 1.51991108e-08, 1.23284674e-08,\n",
              "       1.00000000e-08, 8.11130831e-09, 6.57933225e-09, 5.33669923e-09,\n",
              "       4.32876128e-09, 3.51119173e-09, 2.84803587e-09, 2.31012970e-09,\n",
              "       1.87381742e-09, 1.51991108e-09, 1.23284674e-09, 1.00000000e-09])},\n",
              "             verbose=1)"
            ]
          },
          "execution_count": 104,
          "metadata": {},
          "output_type": "execute_result"
        }
      ],
      "source": [
        "from sklearn.model_selection import GridSearchCV\n",
        "param_grid_nb = {\n",
        "    'var_smoothing': np.logspace(0,-9, num=100)\n",
        "}\n",
        "\n",
        "nbModel_grid = GridSearchCV(estimator=GaussianNB(), param_grid=param_grid_nb, verbose=1, cv=10, n_jobs=-1)\n",
        "\n",
        "nbModel_grid.fit(X_train, y_train)"
      ]
    },
    {
      "cell_type": "code",
      "execution_count": null,
      "metadata": {
        "colab": {
          "base_uri": "https://localhost:8080/"
        },
        "id": "ffWqqyNM7it_",
        "outputId": "3f94a8f4-ff7a-43ea-a43f-13e2cff88f06"
      },
      "outputs": [
        {
          "name": "stdout",
          "output_type": "stream",
          "text": [
            "Accuracy: 0.7123287671232876\n",
            "F1 score: 0.6056751467710371\n",
            "Confusion matrix:\n",
            " [[  0   0   3   0]\n",
            " [  0   0  20   1]\n",
            " [  0   0 155   2]\n",
            " [  0   0  37   1]]\n"
          ]
        }
      ],
      "source": [
        "y_pred = nbModel_grid.predict(X_test)\n",
        "\n",
        "# Evaluate the performance of the model using metrics such as accuracy, F1 score, and confusion matrix.\n",
        "\n",
        "from sklearn.metrics import accuracy_score, f1_score, confusion_matrix\n",
        "\n",
        "nbModel_grid_accuracy = accuracy_score(y_test, y_pred)\n",
        "nbModel_grid_f1 = f1_score(y_test, y_pred, average='weighted')\n",
        "cm_nbModel_grid = confusion_matrix(y_test, y_pred)\n",
        "\n",
        "print('Accuracy:', nbModel_grid_accuracy)\n",
        "print('F1 score:', nbModel_grid_f1)\n",
        "print('Confusion matrix:\\n', cm_nbModel_grid)"
      ]
    },
    {
      "cell_type": "markdown",
      "metadata": {
        "id": "tL8lh2bfv5-z"
      },
      "source": [
        "# Decision Tree"
      ]
    },
    {
      "cell_type": "markdown",
      "metadata": {
        "id": "Lo9MnM9HMeLd"
      },
      "source": [
        "### Decision tree with using grid search to tune hyperparameter"
      ]
    },
    {
      "cell_type": "code",
      "execution_count": null,
      "metadata": {
        "colab": {
          "base_uri": "https://localhost:8080/"
        },
        "id": "4CK1KWin7RQm",
        "outputId": "71ff34d1-0682-40ec-f723-5c6ca6729b6f"
      },
      "outputs": [
        {
          "name": "stdout",
          "output_type": "stream",
          "text": [
            "Fitting 5 folds for each of 200 candidates, totalling 1000 fits\n"
          ]
        },
        {
          "name": "stderr",
          "output_type": "stream",
          "text": [
            "/usr/local/lib/python3.9/dist-packages/sklearn/model_selection/_split.py:700: UserWarning: The least populated class in y has only 2 members, which is less than n_splits=5.\n",
            "  warnings.warn(\n"
          ]
        },
        {
          "name": "stdout",
          "output_type": "stream",
          "text": [
            "Accuracy: 0.771689497716895\n",
            "F1 score: 0.7173464386141423\n",
            "Confusion matrix:\n",
            " [[  0   0   0   0   0]\n",
            " [  0   1   0   1   1]\n",
            " [  1   0   0  18   2]\n",
            " [  0   0   2 154   1]\n",
            " [  0   0   0  24  14]]\n"
          ]
        }
      ],
      "source": [
        "DT_param = {\n",
        "    'max_depth': [2, 3, 5, 10, 20],\n",
        "    'min_samples_leaf': [5, 10, 20, 50, 100],\n",
        "    'min_samples_split':[2,3,4,5],\n",
        "    'criterion': [\"entropy\", \"gini\"]\n",
        "}\n",
        "\n",
        "\n",
        "dt_grid_search = GridSearchCV(estimator = DecisionTreeClassifier(), param_grid= DT_param, cv=5, n_jobs=-1, verbose=3)\n",
        "\n",
        "\n",
        "dt_grid_search.fit(X_train, y_train)\n",
        "\n",
        "dt_pred_test = dt_grid_search.predict(X_test)\n",
        "\n",
        "\n",
        "dt_grid_search_accuracy = accuracy_score(y_test, dt_pred_test)\n",
        "dt_grid_search_f1 = f1_score(y_test, dt_pred_test, average='weighted')\n",
        "dt_grid_search_cm= confusion_matrix(y_test, dt_pred_test)\n",
        "\n",
        "print('Accuracy:', dt_grid_search_accuracy)\n",
        "print('F1 score:', dt_grid_search_f1)\n",
        "print('Confusion matrix:\\n', dt_grid_search_cm)\n"
      ]
    },
    {
      "cell_type": "code",
      "execution_count": null,
      "metadata": {
        "id": "qF6gxhbab_Kp"
      },
      "outputs": [],
      "source": [
        "pred_test = dt_grid_search.predict(test_d)\n",
        "\n",
        "pred_df = pd.DataFrame(data={'id':_id, 'rating': pred_test})\n",
        "\n",
        "pred_df.to_csv('pred_walkthrough.csv', index=False)"
      ]
    },
    {
      "cell_type": "markdown",
      "metadata": {
        "id": "FE8iXCc4Mwve"
      },
      "source": [
        "### model2 Decision Tree with tuning hyperparameters manually\n"
      ]
    },
    {
      "cell_type": "code",
      "execution_count": null,
      "metadata": {
        "colab": {
          "base_uri": "https://localhost:8080/"
        },
        "id": "_vHenZpNT9sO",
        "outputId": "9404ccb3-bdda-4061-85cb-672b626ad765"
      },
      "outputs": [
        {
          "name": "stdout",
          "output_type": "stream",
          "text": [
            "Accuracy: 0.7671232876712328\n",
            "F1 score: 0.712098045925513\n",
            "Confusion matrix:\n",
            " [[  0   0   0   0   0]\n",
            " [  0   1   0   1   1]\n",
            " [  1   0   0  18   2]\n",
            " [  0   0   2 154   1]\n",
            " [  0   2   0  23  13]]\n"
          ]
        }
      ],
      "source": [
        "dt_model2 = DecisionTreeClassifier(max_depth = 5, min_samples_leaf = 3, min_samples_split = 5, criterion = 'entropy')\n",
        "\n",
        "dt_model2.fit(X_train, y_train)\n",
        "\n",
        "dt_pred_test2 = dt_model2.predict(X_test)\n",
        "\n",
        "\n",
        "dt_grid_search2_accuracy = accuracy_score(y_test, dt_pred_test2)\n",
        "dt_grid_search2_f1 = f1_score(y_test, dt_pred_test2, average='weighted')\n",
        "dt_grid_search2_cm= confusion_matrix(y_test, dt_pred_test2)\n",
        "\n",
        "print('Accuracy:', dt_grid_search2_accuracy)\n",
        "print('F1 score:', dt_grid_search2_f1)\n",
        "print('Confusion matrix:\\n', dt_grid_search2_cm)"
      ]
    },
    {
      "cell_type": "code",
      "execution_count": null,
      "metadata": {
        "id": "jKIgMK9jeaDL"
      },
      "outputs": [],
      "source": [
        " #from sklearn.metrics import classification_report\n",
        " #print(classification_report(y, y_pred))"
      ]
    },
    {
      "cell_type": "markdown",
      "metadata": {
        "id": "Ddkds6yEkq2u"
      },
      "source": [
        "# SVM"
      ]
    },
    {
      "cell_type": "markdown",
      "metadata": {
        "id": "FcGWivTVjwYB"
      },
      "source": [
        "### SVM with using grid search to tune hyperparameter"
      ]
    },
    {
      "cell_type": "code",
      "execution_count": null,
      "metadata": {
        "colab": {
          "background_save": true,
          "base_uri": "https://localhost:8080/"
        },
        "id": "NUGiv2Esg5dg",
        "outputId": "c3bb4984-31ab-481d-8765-5d1900c6338b"
      },
      "outputs": [
        {
          "name": "stdout",
          "output_type": "stream",
          "text": [
            "Fitting 5 folds for each of 18 candidates, totalling 90 fits\n"
          ]
        },
        {
          "name": "stderr",
          "output_type": "stream",
          "text": [
            "/usr/local/lib/python3.9/dist-packages/sklearn/model_selection/_split.py:700: UserWarning: The least populated class in y has only 2 members, which is less than n_splits=5.\n",
            "  warnings.warn(\n"
          ]
        }
      ],
      "source": [
        "from sklearn import svm\n",
        "\n",
        "svm_param_1 = {\n",
        "    'C': [0.01,0.1,1.0],\n",
        "    'kernel' : ['linear', 'rbf'],\n",
        "    'gamma': [0.5,0.1,1]\n",
        "}\n",
        "\n",
        "model_svm_1 = SVC(probability=True)\n",
        "\n",
        "\n",
        "svm_grid_search = GridSearchCV(estimator=model_svm_1, param_grid= svm_param_1, cv=5, n_jobs=-1, verbose=3)\n",
        "\n",
        "\n",
        "\n",
        "svm_grid_search.fit(X_train, y_train)\n",
        "predicted_test_svm = svm_grid_search.predict(X_test)"
      ]
    },
    {
      "cell_type": "code",
      "execution_count": null,
      "metadata": {
        "id": "pBLxTmAuht7D"
      },
      "outputs": [],
      "source": [
        "\n",
        "svm_grid_search_accuracy = accuracy_score(y_test, predicted_test_svm)\n",
        "svm_grid_search_f1 = f1_score(y_test, predicted_test_svm, average='weighted')\n",
        "svm_grid_search_cm= confusion_matrix(y_test, predicted_test_svm)\n",
        "\n",
        "print('Accuracy:', svm_grid_search_accuracy)\n",
        "print('F1 score:', svm_grid_search_f1)\n",
        "print('Confusion matrix:\\n', svm_grid_search_cm)\n"
      ]
    },
    {
      "cell_type": "markdown",
      "metadata": {
        "id": "IkUs9adQi4vp"
      },
      "source": [
        "### SVM with tuning hyperparameters manually"
      ]
    },
    {
      "cell_type": "code",
      "execution_count": null,
      "metadata": {
        "id": "_caADMvBi4Ah"
      },
      "outputs": [],
      "source": [
        "model_svm_2 = SVC(C = 1, kernel ='poly',degree = 2,probability=True)\n",
        "model_svm_2.fit(X_train, y_train)\n",
        "predicted_test_svm2 = model_svm_2.predict(X_test)\n",
        "\n",
        "svm2_accuracy = accuracy_score(y_test, predicted_test_svm2)\n",
        "svm2_f1 = f1_score(y_test, predicted_test_svm2, average='weighted')\n",
        "svm2_cm= confusion_matrix(y_test, predicted_test_svm2)\n",
        "\n",
        "print('Accuracy:', svm2_accuracy)\n",
        "print('F1 score:', svm2_f1)\n",
        "print('Confusion matrix:\\n', svm2_cm)"
      ]
    }
  ],
  "metadata": {
    "colab": {
      "provenance": [],
      "collapsed_sections": [
        "ZCBNuqB4F_s8",
        "ef8Rb1q_2Iur",
        "euTemLQq2skK",
        "byuzA4mV-z7o",
        "E0GFaaanBfV1",
        "N8RnXjq3FeLo",
        "kvFydWTmlGCH",
        "Ddkds6yEkq2u",
        "IkUs9adQi4vp"
      ],
      "include_colab_link": true
    },
    "kernelspec": {
      "display_name": "Python 3",
      "name": "python3"
    },
    "language_info": {
      "name": "python"
    }
  },
  "nbformat": 4,
  "nbformat_minor": 0
}